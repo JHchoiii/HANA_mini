{
 "cells": [
  {
   "cell_type": "code",
   "execution_count": 2,
   "metadata": {},
   "outputs": [
    {
     "name": "stdout",
     "output_type": "stream",
     "text": [
      "Collecting fastapi[all]\n",
      "  Using cached fastapi-0.114.1-py3-none-any.whl.metadata (27 kB)\n",
      "Collecting starlette<0.39.0,>=0.37.2 (from fastapi[all])\n",
      "  Using cached starlette-0.38.5-py3-none-any.whl.metadata (6.0 kB)\n",
      "Requirement already satisfied: pydantic!=1.8,!=1.8.1,!=2.0.0,!=2.0.1,!=2.1.0,<3.0.0,>=1.7.4 in c:\\users\\최준혁\\onedrive - 한국폴리텍대학\\바탕 화면\\kopofinalproject\\fastapi\\.venv\\lib\\site-packages (from fastapi[all]) (2.9.1)\n",
      "Requirement already satisfied: typing-extensions>=4.8.0 in c:\\users\\최준혁\\onedrive - 한국폴리텍대학\\바탕 화면\\kopofinalproject\\fastapi\\.venv\\lib\\site-packages (from fastapi[all]) (4.12.2)\n",
      "Collecting fastapi-cli>=0.0.5 (from fastapi-cli[standard]>=0.0.5; extra == \"all\"->fastapi[all])\n",
      "  Downloading fastapi_cli-0.0.5-py3-none-any.whl.metadata (7.0 kB)\n",
      "Collecting httpx>=0.23.0 (from fastapi[all])\n",
      "  Downloading httpx-0.27.2-py3-none-any.whl.metadata (7.1 kB)\n",
      "Collecting jinja2>=2.11.2 (from fastapi[all])\n",
      "  Downloading jinja2-3.1.4-py3-none-any.whl.metadata (2.6 kB)\n",
      "Collecting python-multipart>=0.0.7 (from fastapi[all])\n",
      "  Downloading python_multipart-0.0.9-py3-none-any.whl.metadata (2.5 kB)\n",
      "Collecting itsdangerous>=1.1.0 (from fastapi[all])\n",
      "  Downloading itsdangerous-2.2.0-py3-none-any.whl.metadata (1.9 kB)\n",
      "Collecting pyyaml>=5.3.1 (from fastapi[all])\n",
      "  Downloading PyYAML-6.0.2-cp311-cp311-win_amd64.whl.metadata (2.1 kB)\n",
      "Collecting ujson!=4.0.2,!=4.1.0,!=4.2.0,!=4.3.0,!=5.0.0,!=5.1.0,>=4.0.1 (from fastapi[all])\n",
      "  Downloading ujson-5.10.0-cp311-cp311-win_amd64.whl.metadata (9.5 kB)\n",
      "Collecting orjson>=3.2.1 (from fastapi[all])\n",
      "  Downloading orjson-3.10.7-cp311-none-win_amd64.whl.metadata (51 kB)\n",
      "Collecting email-validator>=2.0.0 (from fastapi[all])\n",
      "  Downloading email_validator-2.2.0-py3-none-any.whl.metadata (25 kB)\n",
      "Collecting uvicorn>=0.12.0 (from uvicorn[standard]>=0.12.0; extra == \"all\"->fastapi[all])\n",
      "  Downloading uvicorn-0.30.6-py3-none-any.whl.metadata (6.6 kB)\n",
      "Collecting pydantic-settings>=2.0.0 (from fastapi[all])\n",
      "  Downloading pydantic_settings-2.5.2-py3-none-any.whl.metadata (3.5 kB)\n",
      "Collecting pydantic-extra-types>=2.0.0 (from fastapi[all])\n",
      "  Downloading pydantic_extra_types-2.9.0-py3-none-any.whl.metadata (3.4 kB)\n",
      "Collecting dnspython>=2.0.0 (from email-validator>=2.0.0->fastapi[all])\n",
      "  Downloading dnspython-2.6.1-py3-none-any.whl.metadata (5.8 kB)\n",
      "Requirement already satisfied: idna>=2.0.0 in c:\\users\\최준혁\\onedrive - 한국폴리텍대학\\바탕 화면\\kopofinalproject\\fastapi\\.venv\\lib\\site-packages (from email-validator>=2.0.0->fastapi[all]) (3.8)\n",
      "Collecting typer>=0.12.3 (from fastapi-cli>=0.0.5->fastapi-cli[standard]>=0.0.5; extra == \"all\"->fastapi[all])\n",
      "  Downloading typer-0.12.5-py3-none-any.whl.metadata (15 kB)\n",
      "Collecting anyio (from httpx>=0.23.0->fastapi[all])\n",
      "  Using cached anyio-4.4.0-py3-none-any.whl.metadata (4.6 kB)\n",
      "Collecting certifi (from httpx>=0.23.0->fastapi[all])\n",
      "  Downloading certifi-2024.8.30-py3-none-any.whl.metadata (2.2 kB)\n",
      "Collecting httpcore==1.* (from httpx>=0.23.0->fastapi[all])\n",
      "  Downloading httpcore-1.0.5-py3-none-any.whl.metadata (20 kB)\n",
      "Requirement already satisfied: sniffio in c:\\users\\최준혁\\onedrive - 한국폴리텍대학\\바탕 화면\\kopofinalproject\\fastapi\\.venv\\lib\\site-packages (from httpx>=0.23.0->fastapi[all]) (1.3.1)\n",
      "Collecting h11<0.15,>=0.13 (from httpcore==1.*->httpx>=0.23.0->fastapi[all])\n",
      "  Downloading h11-0.14.0-py3-none-any.whl.metadata (8.2 kB)\n",
      "Collecting MarkupSafe>=2.0 (from jinja2>=2.11.2->fastapi[all])\n",
      "  Downloading MarkupSafe-2.1.5-cp311-cp311-win_amd64.whl.metadata (3.1 kB)\n",
      "Requirement already satisfied: annotated-types>=0.6.0 in c:\\users\\최준혁\\onedrive - 한국폴리텍대학\\바탕 화면\\kopofinalproject\\fastapi\\.venv\\lib\\site-packages (from pydantic!=1.8,!=1.8.1,!=2.0.0,!=2.0.1,!=2.1.0,<3.0.0,>=1.7.4->fastapi[all]) (0.7.0)\n",
      "Requirement already satisfied: pydantic-core==2.23.3 in c:\\users\\최준혁\\onedrive - 한국폴리텍대학\\바탕 화면\\kopofinalproject\\fastapi\\.venv\\lib\\site-packages (from pydantic!=1.8,!=1.8.1,!=2.0.0,!=2.0.1,!=2.1.0,<3.0.0,>=1.7.4->fastapi[all]) (2.23.3)\n",
      "Collecting python-dotenv>=0.21.0 (from pydantic-settings>=2.0.0->fastapi[all])\n",
      "  Downloading python_dotenv-1.0.1-py3-none-any.whl.metadata (23 kB)\n",
      "Collecting click>=7.0 (from uvicorn>=0.12.0->uvicorn[standard]>=0.12.0; extra == \"all\"->fastapi[all])\n",
      "  Downloading click-8.1.7-py3-none-any.whl.metadata (3.0 kB)\n",
      "Requirement already satisfied: colorama>=0.4 in c:\\users\\최준혁\\onedrive - 한국폴리텍대학\\바탕 화면\\kopofinalproject\\fastapi\\.venv\\lib\\site-packages (from uvicorn[standard]>=0.12.0; extra == \"all\"->fastapi[all]) (0.4.6)\n",
      "Collecting httptools>=0.5.0 (from uvicorn[standard]>=0.12.0; extra == \"all\"->fastapi[all])\n",
      "  Downloading httptools-0.6.1-cp311-cp311-win_amd64.whl.metadata (3.7 kB)\n",
      "Collecting watchfiles>=0.13 (from uvicorn[standard]>=0.12.0; extra == \"all\"->fastapi[all])\n",
      "  Downloading watchfiles-0.24.0-cp311-none-win_amd64.whl.metadata (5.0 kB)\n",
      "Collecting websockets>=10.4 (from uvicorn[standard]>=0.12.0; extra == \"all\"->fastapi[all])\n",
      "  Downloading websockets-13.0.1-cp311-cp311-win_amd64.whl.metadata (6.9 kB)\n",
      "Collecting shellingham>=1.3.0 (from typer>=0.12.3->fastapi-cli>=0.0.5->fastapi-cli[standard]>=0.0.5; extra == \"all\"->fastapi[all])\n",
      "  Downloading shellingham-1.5.4-py2.py3-none-any.whl.metadata (3.5 kB)\n",
      "Collecting rich>=10.11.0 (from typer>=0.12.3->fastapi-cli>=0.0.5->fastapi-cli[standard]>=0.0.5; extra == \"all\"->fastapi[all])\n",
      "  Downloading rich-13.8.1-py3-none-any.whl.metadata (18 kB)\n",
      "Collecting markdown-it-py>=2.2.0 (from rich>=10.11.0->typer>=0.12.3->fastapi-cli>=0.0.5->fastapi-cli[standard]>=0.0.5; extra == \"all\"->fastapi[all])\n",
      "  Downloading markdown_it_py-3.0.0-py3-none-any.whl.metadata (6.9 kB)\n",
      "Requirement already satisfied: pygments<3.0.0,>=2.13.0 in c:\\users\\최준혁\\onedrive - 한국폴리텍대학\\바탕 화면\\kopofinalproject\\fastapi\\.venv\\lib\\site-packages (from rich>=10.11.0->typer>=0.12.3->fastapi-cli>=0.0.5->fastapi-cli[standard]>=0.0.5; extra == \"all\"->fastapi[all]) (2.18.0)\n",
      "Collecting mdurl~=0.1 (from markdown-it-py>=2.2.0->rich>=10.11.0->typer>=0.12.3->fastapi-cli>=0.0.5->fastapi-cli[standard]>=0.0.5; extra == \"all\"->fastapi[all])\n",
      "  Downloading mdurl-0.1.2-py3-none-any.whl.metadata (1.6 kB)\n",
      "Downloading email_validator-2.2.0-py3-none-any.whl (33 kB)\n",
      "Downloading fastapi_cli-0.0.5-py3-none-any.whl (9.5 kB)\n",
      "Downloading httpx-0.27.2-py3-none-any.whl (76 kB)\n",
      "Downloading httpcore-1.0.5-py3-none-any.whl (77 kB)\n",
      "Downloading itsdangerous-2.2.0-py3-none-any.whl (16 kB)\n",
      "Downloading jinja2-3.1.4-py3-none-any.whl (133 kB)\n",
      "Downloading orjson-3.10.7-cp311-none-win_amd64.whl (137 kB)\n",
      "Downloading pydantic_extra_types-2.9.0-py3-none-any.whl (30 kB)\n",
      "Downloading pydantic_settings-2.5.2-py3-none-any.whl (26 kB)\n",
      "Downloading python_multipart-0.0.9-py3-none-any.whl (22 kB)\n",
      "Downloading PyYAML-6.0.2-cp311-cp311-win_amd64.whl (161 kB)\n",
      "Using cached starlette-0.38.5-py3-none-any.whl (71 kB)\n",
      "Downloading ujson-5.10.0-cp311-cp311-win_amd64.whl (42 kB)\n",
      "Downloading uvicorn-0.30.6-py3-none-any.whl (62 kB)\n",
      "Using cached fastapi-0.114.1-py3-none-any.whl (94 kB)\n",
      "Using cached anyio-4.4.0-py3-none-any.whl (86 kB)\n",
      "Downloading click-8.1.7-py3-none-any.whl (97 kB)\n",
      "Downloading dnspython-2.6.1-py3-none-any.whl (307 kB)\n",
      "Downloading h11-0.14.0-py3-none-any.whl (58 kB)\n",
      "Downloading httptools-0.6.1-cp311-cp311-win_amd64.whl (55 kB)\n",
      "Downloading MarkupSafe-2.1.5-cp311-cp311-win_amd64.whl (17 kB)\n",
      "Downloading python_dotenv-1.0.1-py3-none-any.whl (19 kB)\n",
      "Downloading typer-0.12.5-py3-none-any.whl (47 kB)\n",
      "Downloading watchfiles-0.24.0-cp311-none-win_amd64.whl (277 kB)\n",
      "Downloading websockets-13.0.1-cp311-cp311-win_amd64.whl (152 kB)\n",
      "Downloading certifi-2024.8.30-py3-none-any.whl (167 kB)\n",
      "Downloading rich-13.8.1-py3-none-any.whl (241 kB)\n",
      "Downloading shellingham-1.5.4-py2.py3-none-any.whl (9.8 kB)\n",
      "Downloading markdown_it_py-3.0.0-py3-none-any.whl (87 kB)\n",
      "Downloading mdurl-0.1.2-py3-none-any.whl (10.0 kB)\n",
      "Installing collected packages: websockets, ujson, shellingham, pyyaml, python-multipart, python-dotenv, orjson, mdurl, MarkupSafe, itsdangerous, httptools, h11, dnspython, click, certifi, anyio, watchfiles, uvicorn, starlette, markdown-it-py, jinja2, httpcore, email-validator, rich, pydantic-settings, pydantic-extra-types, httpx, fastapi, typer, fastapi-cli\n",
      "Successfully installed MarkupSafe-2.1.5 anyio-4.4.0 certifi-2024.8.30 click-8.1.7 dnspython-2.6.1 email-validator-2.2.0 fastapi-0.114.1 fastapi-cli-0.0.5 h11-0.14.0 httpcore-1.0.5 httptools-0.6.1 httpx-0.27.2 itsdangerous-2.2.0 jinja2-3.1.4 markdown-it-py-3.0.0 mdurl-0.1.2 orjson-3.10.7 pydantic-extra-types-2.9.0 pydantic-settings-2.5.2 python-dotenv-1.0.1 python-multipart-0.0.9 pyyaml-6.0.2 rich-13.8.1 shellingham-1.5.4 starlette-0.38.5 typer-0.12.5 ujson-5.10.0 uvicorn-0.30.6 watchfiles-0.24.0 websockets-13.0.1\n"
     ]
    }
   ],
   "source": [
    "!pip install fastapi[all]"
   ]
  },
  {
   "cell_type": "code",
   "execution_count": 4,
   "metadata": {},
   "outputs": [
    {
     "name": "stdout",
     "output_type": "stream",
     "text": [
      "Collecting pandas\n",
      "  Downloading pandas-2.2.2-cp311-cp311-win_amd64.whl.metadata (19 kB)\n",
      "Requirement already satisfied: numpy>=1.23.2 in c:\\users\\최준혁\\onedrive - 한국폴리텍대학\\바탕 화면\\kopofinalproject\\fastapi\\.venv\\lib\\site-packages (from pandas) (2.1.1)\n",
      "Requirement already satisfied: python-dateutil>=2.8.2 in c:\\users\\최준혁\\onedrive - 한국폴리텍대학\\바탕 화면\\kopofinalproject\\fastapi\\.venv\\lib\\site-packages (from pandas) (2.9.0.post0)\n",
      "Collecting pytz>=2020.1 (from pandas)\n",
      "  Downloading pytz-2024.2-py2.py3-none-any.whl.metadata (22 kB)\n",
      "Collecting tzdata>=2022.7 (from pandas)\n",
      "  Downloading tzdata-2024.1-py2.py3-none-any.whl.metadata (1.4 kB)\n",
      "Requirement already satisfied: six>=1.5 in c:\\users\\최준혁\\onedrive - 한국폴리텍대학\\바탕 화면\\kopofinalproject\\fastapi\\.venv\\lib\\site-packages (from python-dateutil>=2.8.2->pandas) (1.16.0)\n",
      "Downloading pandas-2.2.2-cp311-cp311-win_amd64.whl (11.6 MB)\n",
      "   ---------------------------------------- 0.0/11.6 MB ? eta -:--:--\n",
      "   ---------------------------------- ----- 10.0/11.6 MB 56.4 MB/s eta 0:00:01\n",
      "   ---------------------------------------- 11.6/11.6 MB 33.1 MB/s eta 0:00:00\n",
      "Downloading pytz-2024.2-py2.py3-none-any.whl (508 kB)\n",
      "Downloading tzdata-2024.1-py2.py3-none-any.whl (345 kB)\n",
      "Installing collected packages: pytz, tzdata, pandas\n",
      "Successfully installed pandas-2.2.2 pytz-2024.2 tzdata-2024.1\n"
     ]
    }
   ],
   "source": [
    "!pip install pandas"
   ]
  },
  {
   "cell_type": "code",
   "execution_count": null,
   "metadata": {},
   "outputs": [],
   "source": [
    "import numpy as np\n",
    "from sklearn.metrics.pairwise import cosine_similarity\n",
    "\n",
    "# 사용자 응답 (예시, 각 질문에 대한 답변을 정규화)\n",
    "user_responses = np.array([0.6, 0.6, 0.4, 0.5, 0.5, 1.0, 0.4, 1.0])\n",
    "\n",
    "# 보험 상품 벡터 (각 보험 유형에 대한 벡터 설정)\n",
    "insurance_vectors = {\n",
    "    '암_기본형': np.array([0.4, 0.4, 0.4, 0.2, 0.2, 1.0, 0.4, 1.0]),\n",
    "    '암_표준형': np.array([0.6, 0.4, 0.4, 0.5, 0.5, 1.0, 0.4, 1.0]),\n",
    "    '암_고급형': np.array([1.0, 0.4, 0.4, 1.0, 1.0, 1.0, 0.4, 1.0]),\n",
    "    '치아_기본형': np.array([0.2, 0.6, 0.6, 0.2, 0.2, 0.0, 0.6, 0.0]),\n",
    "    '치아_표준형': np.array([0.4, 0.6, 0.6, 0.5, 0.5, 0.0, 0.6, 0.0]),\n",
    "    '치아_고급형': np.array([0.6, 0.6, 0.6, 1.0, 1.0, 0.0, 0.6, 0.0]),\n",
    "    'Grade_기본형': np.array([0.2, 0.2, 0.2, 0.2, 0.2, 0.0, 0.6, 1.0]),\n",
    "    'Grade_표준형': np.array([0.4, 0.2, 0.2, 0.5, 0.5, 0.0, 0.6, 1.0]),\n",
    "    'Grade_고급형': np.array([0.6, 0.2, 0.2, 1.0, 1.0, 0.0, 0.6, 1.0]),\n",
    "    '종합_기본형': np.array([0.6, 0.6, 0.6, 0.2, 0.2, 0.5, 0.4, 1.0]),\n",
    "    '종합_표준형': np.array([0.8, 0.6, 0.6, 0.5, 0.5, 0.5, 0.4, 1.0]),\n",
    "    '종합_고급형': np.array([1.0, 0.6, 0.6, 1.0, 1.0, 0.5, 0.4, 1.0]),\n",
    "    '3대질환_기본형': np.array([0.4, 0.4, 0.4, 0.2, 0.2, 1.0, 0.4, 1.0]),\n",
    "    '3대질환_표준형': np.array([0.6, 0.4, 0.4, 0.5, 0.5, 1.0, 0.4, 1.0]),\n",
    "    '3대질환_고급형': np.array([1.0, 0.4, 0.4, 1.0, 1.0, 1.0, 0.4, 1.0])\n",
    "}\n",
    "\n",
    "# 벡터를 -1과 1로 정규화하는 함수\n",
    "def normalize_vector(vector):\n",
    "    return (2 * vector) - 1\n",
    "\n",
    "# 모든 벡터를 정규화\n",
    "user_responses_normalized = normalize_vector(user_responses)\n",
    "insurance_vectors_normalized = {k: normalize_vector(v) for k, v in insurance_vectors.items()}\n",
    "\n",
    "# 룰 베이스 적용: 사용자 응답에 따라 보험 유형 필터링\n",
    "def rule_based_filter(user_response):\n",
    "    filtered_insurance = []\n",
    "    if user_response[0] >= 0.5:  # 종합 보험 선택\n",
    "        filtered_insurance = ['종합_기본형', '종합_표준형', '종합_고급형', 'Grade_기본형', 'Grade_표준형', 'Grade_고급형','3대질환_기본형', '3대질환_표준형', '3대질환_고급형']\n",
    "\n",
    "    else:  # 특정 질병 (암, 치아)\n",
    "        filtered_insurance = ['암_기본형', '암_표준형', '암_고급형', '치아_기본형', '치아_표준형', '치아_고급형']\n",
    "    return filtered_insurance\n",
    "\n",
    "# 필터링된 보험 목록\n",
    "filtered_insurance_list = rule_based_filter(user_responses)\n",
    "\n",
    "# 코사인 유사도 계산\n",
    "similarities = {}\n",
    "for name in filtered_insurance_list:\n",
    "    sim = cosine_similarity([user_responses_normalized], [insurance_vectors_normalized[name]])[0][0]\n",
    "    similarities[name] = sim\n",
    "\n",
    "# 유사도 높은 순서대로 정렬\n",
    "top_recommendations = sorted(similarities.items(), key=lambda item: item[1], reverse=True)[:3]\n",
    "\n",
    "# 결과 출력\n",
    "print(\"Top 3 추천 보험:\")\n",
    "for insurance, similarity in top_recommendations:\n",
    "    print(f\"{insurance}: 유사도 {similarity:.2f}\")\n"
   ]
  },
  {
   "cell_type": "code",
   "execution_count": 7,
   "metadata": {},
   "outputs": [
    {
     "name": "stdout",
     "output_type": "stream",
     "text": [
      "                                user_id insurance_id   insurance_name  \\\n",
      "0  02bdd342-618f-4434-a3b8-e40da6718933    INS010301  하나로 다모은 종합 건강보험   \n",
      "1  02bdd342-618f-4434-a3b8-e40da6718933    INS010302  하나로 다모은 종합 건강보험   \n",
      "2  02bdd342-618f-4434-a3b8-e40da6718933    INS010303           미니 암보험   \n",
      "3  02bdd342-618f-4434-a3b8-e40da6718933    INS010304           미니 암보험   \n",
      "4  02bdd342-618f-4434-a3b8-e40da6718933    INS010305          미니 치아보험   \n",
      "\n",
      "  product_type  base_price  rating  interactions  total_spent  \n",
      "0      Premium       50000     4.3             3       150000  \n",
      "1        Basic       40000     3.4             1        40000  \n",
      "2          최소형       30000     4.0             6       180000  \n",
      "3          최대형       50000     3.8             2       100000  \n",
      "4          기본형       15000     4.8             7       105000  \n"
     ]
    }
   ],
   "source": [
    "import random\n",
    "import faker\n",
    "import pandas as pd\n",
    "\n",
    "# Faker 생성\n",
    "fake = faker.Faker()\n",
    "\n",
    "# 보험 상품 데이터 (고정)\n",
    "insurance_list = [\n",
    "    (\"INS010301\", \"하나로 다모은 종합 건강보험\", \"Premium\", 50000),\n",
    "    (\"INS010302\", \"하나로 다모은 종합 건강보험\", \"Basic\", 40000),\n",
    "    (\"INS010303\", \"미니 암보험\", \"최소형\", 30000),\n",
    "    (\"INS010304\", \"미니 암보험\", \"최대형\", 50000),\n",
    "    (\"INS010305\", \"미니 치아보험\", \"기본형\", 15000),\n",
    "    (\"INS010306\", \"미니 치아보험\", \"프리미엄형\", 25000),\n",
    "    (\"INS010307\", \"간편 3대 질환 보험\", \"노멀형\", 40000),\n",
    "    (\"INS010308\", \"간편 3대 질환 보험\", \"프리미엄형\", 60000),\n",
    "    (\"INS010309\", \"미니 Grade 건강보험\", \"Grade1\", 20000),\n",
    "    (\"INS010310\", \"미니 Grade 건강보험\", \"Grade2\", 26000),\n",
    "    (\"INS010311\", \"미니 Grade 건강보험\", \"Grade3\", 33000),\n",
    "    (\"INS010312\", \"미니 Grade 건강보험\", \"Grade4\", 37500),\n",
    "    (\"INS010313\", \"하나 가득담은 3.2.5 미니건강보험\", \"3.0.0\", 30000),\n",
    "    (\"INS010314\", \"하나 가득담은 3.2.5 미니건강보험\", \"3.0.5\", 40000),\n",
    "    (\"INS010315\", \"하나 가득담은 3.2.5 미니건강보험\", \"3.2.5\", 40000)\n",
    "]\n",
    "\n",
    "# 사용자와 보험 상품의 상호작용 데이터 생성\n",
    "def generate_insurance_ratings(num_users=1000):\n",
    "    data = []\n",
    "    \n",
    "    for _ in range(num_users):\n",
    "        user_id = fake.uuid4()  # 사용자 ID (랜덤 UUID 생성)\n",
    "        for insurance in insurance_list:\n",
    "            insurance_id, insurance_name, product_type, base_price = insurance\n",
    "\n",
    "            # 같은 보험 이름의 마지막 보험에 더 높은 평점을 부여\n",
    "            if insurance_id[-1] == \"5\":  # 보험 ID가 \"5\"로 끝나는 경우(같은 이름 중 마지막)\n",
    "                rating = random.uniform(4.0, 5.0)  # 높은 평점\n",
    "            else:\n",
    "                rating = random.uniform(3.0, 4.5)  # 보통 평점\n",
    "\n",
    "            # 랜덤 구매 횟수 및 상호작용 시간\n",
    "            interactions = random.randint(1, 10)\n",
    "            total_spent = base_price * interactions\n",
    "\n",
    "            data.append({\n",
    "                \"user_id\": user_id,\n",
    "                \"insurance_id\": insurance_id,\n",
    "                \"insurance_name\": insurance_name,\n",
    "                \"product_type\": product_type,\n",
    "                \"base_price\": base_price,\n",
    "                \"rating\": round(rating, 1),\n",
    "                \"interactions\": interactions,\n",
    "                \"total_spent\": total_spent\n",
    "            })\n",
    "    \n",
    "    return pd.DataFrame(data)\n",
    "\n",
    "# 1000명의 사용자 데이터 생성\n",
    "df = generate_insurance_ratings(num_users=1000)\n",
    "\n",
    "# 생성된 데이터를 출력\n",
    "print(df.head())"
   ]
  },
  {
   "cell_type": "code",
   "execution_count": 9,
   "metadata": {},
   "outputs": [
    {
     "name": "stdout",
     "output_type": "stream",
     "text": [
      "False\n"
     ]
    }
   ],
   "source": [
    "import torch\n",
    "print(torch.cuda.is_available())"
   ]
  },
  {
   "cell_type": "code",
   "execution_count": 25,
   "metadata": {},
   "outputs": [
    {
     "ename": "ImportError",
     "evalue": "Numba needs NumPy 2.0 or less. Got NumPy 2.1.",
     "output_type": "error",
     "traceback": [
      "\u001b[1;31m---------------------------------------------------------------------------\u001b[0m",
      "\u001b[1;31mImportError\u001b[0m                               Traceback (most recent call last)",
      "Cell \u001b[1;32mIn[25], line 5\u001b[0m\n\u001b[0;32m      3\u001b[0m \u001b[38;5;28;01mfrom\u001b[39;00m \u001b[38;5;21;01mrecbole\u001b[39;00m\u001b[38;5;21;01m.\u001b[39;00m\u001b[38;5;21;01mconfig\u001b[39;00m \u001b[38;5;28;01mimport\u001b[39;00m Config\n\u001b[0;32m      4\u001b[0m \u001b[38;5;28;01mfrom\u001b[39;00m \u001b[38;5;21;01mrecbole\u001b[39;00m\u001b[38;5;21;01m.\u001b[39;00m\u001b[38;5;21;01mdata\u001b[39;00m \u001b[38;5;28;01mimport\u001b[39;00m create_dataset, data_preparation\n\u001b[1;32m----> 5\u001b[0m \u001b[38;5;28;01mfrom\u001b[39;00m \u001b[38;5;21;01mrecbole\u001b[39;00m\u001b[38;5;21;01m.\u001b[39;00m\u001b[38;5;21;01mmodel\u001b[39;00m\u001b[38;5;21;01m.\u001b[39;00m\u001b[38;5;21;01mgeneral_recommender\u001b[39;00m \u001b[38;5;28;01mimport\u001b[39;00m BPR\n\u001b[0;32m      6\u001b[0m \u001b[38;5;28;01mfrom\u001b[39;00m \u001b[38;5;21;01mrecbole\u001b[39;00m\u001b[38;5;21;01m.\u001b[39;00m\u001b[38;5;21;01mtrainer\u001b[39;00m \u001b[38;5;28;01mimport\u001b[39;00m Trainer\n\u001b[0;32m      7\u001b[0m \u001b[38;5;28;01mfrom\u001b[39;00m \u001b[38;5;21;01mrecbole\u001b[39;00m\u001b[38;5;21;01m.\u001b[39;00m\u001b[38;5;21;01mutils\u001b[39;00m \u001b[38;5;28;01mimport\u001b[39;00m init_seed, init_logger\n",
      "File \u001b[1;32mc:\\Users\\최준혁\\OneDrive - 한국폴리텍대학\\바탕 화면\\KOPOFinalProject\\FastAPI\\.venv\\Lib\\site-packages\\recbole\\model\\general_recommender\\__init__.py:33\u001b[0m\n\u001b[0;32m     31\u001b[0m \u001b[38;5;28;01mfrom\u001b[39;00m \u001b[38;5;21;01mrecbole\u001b[39;00m\u001b[38;5;21;01m.\u001b[39;00m\u001b[38;5;21;01mmodel\u001b[39;00m\u001b[38;5;21;01m.\u001b[39;00m\u001b[38;5;21;01mgeneral_recommender\u001b[39;00m\u001b[38;5;21;01m.\u001b[39;00m\u001b[38;5;21;01msimplex\u001b[39;00m \u001b[38;5;28;01mimport\u001b[39;00m SimpleX\n\u001b[0;32m     32\u001b[0m \u001b[38;5;28;01mfrom\u001b[39;00m \u001b[38;5;21;01mrecbole\u001b[39;00m\u001b[38;5;21;01m.\u001b[39;00m\u001b[38;5;21;01mmodel\u001b[39;00m\u001b[38;5;21;01m.\u001b[39;00m\u001b[38;5;21;01mgeneral_recommender\u001b[39;00m\u001b[38;5;21;01m.\u001b[39;00m\u001b[38;5;21;01mdiffrec\u001b[39;00m \u001b[38;5;28;01mimport\u001b[39;00m DiffRec\n\u001b[1;32m---> 33\u001b[0m \u001b[38;5;28;01mfrom\u001b[39;00m \u001b[38;5;21;01mrecbole\u001b[39;00m\u001b[38;5;21;01m.\u001b[39;00m\u001b[38;5;21;01mmodel\u001b[39;00m\u001b[38;5;21;01m.\u001b[39;00m\u001b[38;5;21;01mgeneral_recommender\u001b[39;00m\u001b[38;5;21;01m.\u001b[39;00m\u001b[38;5;21;01mldiffrec\u001b[39;00m \u001b[38;5;28;01mimport\u001b[39;00m LDiffRec\n",
      "File \u001b[1;32mc:\\Users\\최준혁\\OneDrive - 한국폴리텍대학\\바탕 화면\\KOPOFinalProject\\FastAPI\\.venv\\Lib\\site-packages\\recbole\\model\\general_recommender\\ldiffrec.py:29\u001b[0m\n\u001b[0;32m     22\u001b[0m \u001b[38;5;28;01mfrom\u001b[39;00m \u001b[38;5;21;01mrecbole\u001b[39;00m\u001b[38;5;21;01m.\u001b[39;00m\u001b[38;5;21;01mmodel\u001b[39;00m\u001b[38;5;21;01m.\u001b[39;00m\u001b[38;5;21;01mlayers\u001b[39;00m \u001b[38;5;28;01mimport\u001b[39;00m MLPLayers\n\u001b[0;32m     23\u001b[0m \u001b[38;5;28;01mfrom\u001b[39;00m \u001b[38;5;21;01mrecbole\u001b[39;00m\u001b[38;5;21;01m.\u001b[39;00m\u001b[38;5;21;01mmodel\u001b[39;00m\u001b[38;5;21;01m.\u001b[39;00m\u001b[38;5;21;01mgeneral_recommender\u001b[39;00m\u001b[38;5;21;01m.\u001b[39;00m\u001b[38;5;21;01mdiffrec\u001b[39;00m \u001b[38;5;28;01mimport\u001b[39;00m (\n\u001b[0;32m     24\u001b[0m     DiffRec,\n\u001b[0;32m     25\u001b[0m     DNN,\n\u001b[0;32m     26\u001b[0m     ModelMeanType,\n\u001b[0;32m     27\u001b[0m     mean_flat,\n\u001b[0;32m     28\u001b[0m )\n\u001b[1;32m---> 29\u001b[0m \u001b[38;5;28;01mfrom\u001b[39;00m \u001b[38;5;21;01mkmeans_pytorch\u001b[39;00m \u001b[38;5;28;01mimport\u001b[39;00m kmeans\n\u001b[0;32m     32\u001b[0m \u001b[38;5;28;01mclass\u001b[39;00m \u001b[38;5;21;01mAutoEncoder\u001b[39;00m(nn\u001b[38;5;241m.\u001b[39mModule):\n\u001b[0;32m     33\u001b[0m \u001b[38;5;250m    \u001b[39m\u001b[38;5;124mr\u001b[39m\u001b[38;5;124;03m\"\"\"\u001b[39;00m\n\u001b[0;32m     34\u001b[0m \u001b[38;5;124;03m    Guassian Diffusion for large-scale recommendation.\u001b[39;00m\n\u001b[0;32m     35\u001b[0m \u001b[38;5;124;03m    \"\"\"\u001b[39;00m\n",
      "File \u001b[1;32mc:\\Users\\최준혁\\OneDrive - 한국폴리텍대학\\바탕 화면\\KOPOFinalProject\\FastAPI\\.venv\\Lib\\site-packages\\kmeans_pytorch\\__init__.py:7\u001b[0m\n\u001b[0;32m      4\u001b[0m \u001b[38;5;28;01mimport\u001b[39;00m \u001b[38;5;21;01mtorch\u001b[39;00m\n\u001b[0;32m      5\u001b[0m \u001b[38;5;28;01mfrom\u001b[39;00m \u001b[38;5;21;01mtqdm\u001b[39;00m \u001b[38;5;28;01mimport\u001b[39;00m tqdm\n\u001b[1;32m----> 7\u001b[0m \u001b[38;5;28;01mfrom\u001b[39;00m \u001b[38;5;21;01m.\u001b[39;00m\u001b[38;5;21;01msoft_dtw_cuda\u001b[39;00m \u001b[38;5;28;01mimport\u001b[39;00m SoftDTW\n\u001b[0;32m     10\u001b[0m \u001b[38;5;28;01mdef\u001b[39;00m \u001b[38;5;21minitialize\u001b[39m(X, num_clusters, seed):\n\u001b[0;32m     11\u001b[0m \u001b[38;5;250m    \u001b[39m\u001b[38;5;124;03m\"\"\"\u001b[39;00m\n\u001b[0;32m     12\u001b[0m \u001b[38;5;124;03m    initialize cluster centers\u001b[39;00m\n\u001b[0;32m     13\u001b[0m \u001b[38;5;124;03m    :param X: (torch.tensor) matrix\u001b[39;00m\n\u001b[1;32m   (...)\u001b[0m\n\u001b[0;32m     16\u001b[0m \u001b[38;5;124;03m    :return: (np.array) initial state\u001b[39;00m\n\u001b[0;32m     17\u001b[0m \u001b[38;5;124;03m    \"\"\"\u001b[39;00m\n",
      "File \u001b[1;32mc:\\Users\\최준혁\\OneDrive - 한국폴리텍대학\\바탕 화면\\KOPOFinalProject\\FastAPI\\.venv\\Lib\\site-packages\\kmeans_pytorch\\soft_dtw_cuda.py:30\u001b[0m\n\u001b[0;32m     28\u001b[0m \u001b[38;5;28;01mimport\u001b[39;00m \u001b[38;5;21;01mtorch\u001b[39;00m\n\u001b[0;32m     29\u001b[0m \u001b[38;5;28;01mimport\u001b[39;00m \u001b[38;5;21;01mtorch\u001b[39;00m\u001b[38;5;21;01m.\u001b[39;00m\u001b[38;5;21;01mcuda\u001b[39;00m\n\u001b[1;32m---> 30\u001b[0m \u001b[38;5;28;01mfrom\u001b[39;00m \u001b[38;5;21;01mnumba\u001b[39;00m \u001b[38;5;28;01mimport\u001b[39;00m jit\n\u001b[0;32m     31\u001b[0m \u001b[38;5;28;01mfrom\u001b[39;00m \u001b[38;5;21;01mtorch\u001b[39;00m\u001b[38;5;21;01m.\u001b[39;00m\u001b[38;5;21;01mautograd\u001b[39;00m \u001b[38;5;28;01mimport\u001b[39;00m Function\n\u001b[0;32m     32\u001b[0m \u001b[38;5;28;01mfrom\u001b[39;00m \u001b[38;5;21;01mnumba\u001b[39;00m \u001b[38;5;28;01mimport\u001b[39;00m cuda\n",
      "File \u001b[1;32mc:\\Users\\최준혁\\OneDrive - 한국폴리텍대학\\바탕 화면\\KOPOFinalProject\\FastAPI\\.venv\\Lib\\site-packages\\numba\\__init__.py:59\u001b[0m\n\u001b[0;32m     54\u001b[0m             msg \u001b[38;5;241m=\u001b[39m (\u001b[38;5;124m\"\u001b[39m\u001b[38;5;124mNumba requires SciPy version 1.0 or greater. Got SciPy \u001b[39m\u001b[38;5;124m\"\u001b[39m\n\u001b[0;32m     55\u001b[0m                    \u001b[38;5;124mf\u001b[39m\u001b[38;5;124m\"\u001b[39m\u001b[38;5;132;01m{\u001b[39;00mscipy\u001b[38;5;241m.\u001b[39m__version__\u001b[38;5;132;01m}\u001b[39;00m\u001b[38;5;124m.\u001b[39m\u001b[38;5;124m\"\u001b[39m)\n\u001b[0;32m     56\u001b[0m             \u001b[38;5;28;01mraise\u001b[39;00m \u001b[38;5;167;01mImportError\u001b[39;00m(msg)\n\u001b[1;32m---> 59\u001b[0m \u001b[43m_ensure_critical_deps\u001b[49m\u001b[43m(\u001b[49m\u001b[43m)\u001b[49m\n\u001b[0;32m     60\u001b[0m \u001b[38;5;66;03m# END DO NOT MOVE\u001b[39;00m\n\u001b[0;32m     61\u001b[0m \u001b[38;5;66;03m# ---------------------- WARNING WARNING WARNING ----------------------------\u001b[39;00m\n\u001b[0;32m     64\u001b[0m \u001b[38;5;28;01mfrom\u001b[39;00m \u001b[38;5;21;01m.\u001b[39;00m\u001b[38;5;21;01m_version\u001b[39;00m \u001b[38;5;28;01mimport\u001b[39;00m get_versions\n",
      "File \u001b[1;32mc:\\Users\\최준혁\\OneDrive - 한국폴리텍대학\\바탕 화면\\KOPOFinalProject\\FastAPI\\.venv\\Lib\\site-packages\\numba\\__init__.py:45\u001b[0m, in \u001b[0;36m_ensure_critical_deps\u001b[1;34m()\u001b[0m\n\u001b[0;32m     42\u001b[0m \u001b[38;5;28;01mif\u001b[39;00m numpy_version \u001b[38;5;241m>\u001b[39m (\u001b[38;5;241m2\u001b[39m, \u001b[38;5;241m0\u001b[39m):\n\u001b[0;32m     43\u001b[0m     msg \u001b[38;5;241m=\u001b[39m (\u001b[38;5;124mf\u001b[39m\u001b[38;5;124m\"\u001b[39m\u001b[38;5;124mNumba needs NumPy 2.0 or less. Got NumPy \u001b[39m\u001b[38;5;124m\"\u001b[39m\n\u001b[0;32m     44\u001b[0m            \u001b[38;5;124mf\u001b[39m\u001b[38;5;124m\"\u001b[39m\u001b[38;5;132;01m{\u001b[39;00mnumpy_version[\u001b[38;5;241m0\u001b[39m]\u001b[38;5;132;01m}\u001b[39;00m\u001b[38;5;124m.\u001b[39m\u001b[38;5;132;01m{\u001b[39;00mnumpy_version[\u001b[38;5;241m1\u001b[39m]\u001b[38;5;132;01m}\u001b[39;00m\u001b[38;5;124m.\u001b[39m\u001b[38;5;124m\"\u001b[39m)\n\u001b[1;32m---> 45\u001b[0m     \u001b[38;5;28;01mraise\u001b[39;00m \u001b[38;5;167;01mImportError\u001b[39;00m(msg)\n\u001b[0;32m     47\u001b[0m \u001b[38;5;28;01mtry\u001b[39;00m:\n\u001b[0;32m     48\u001b[0m     \u001b[38;5;28;01mimport\u001b[39;00m \u001b[38;5;21;01mscipy\u001b[39;00m\n",
      "\u001b[1;31mImportError\u001b[0m: Numba needs NumPy 2.0 or less. Got NumPy 2.1."
     ]
    }
   ],
   "source": [
    "import pandas as pd\n",
    "import os\n",
    "from recbole.config import Config\n",
    "from recbole.data import create_dataset, data_preparation\n",
    "from recbole.model.general_recommender import BPR\n",
    "from recbole.trainer import Trainer\n",
    "from recbole.utils import init_seed, init_logger\n",
    "import logging\n",
    "\n",
    "# 1. Faker를 사용하여 사용자 데이터 생성\n",
    "def generate_user_data(num_users):\n",
    "    import random\n",
    "    from faker import Faker\n",
    "    fake = Faker()\n",
    "\n",
    "    insurance_data = [\n",
    "        (\"INS010301\", \"하나로 다모은 종합 건강보험\", 50000),\n",
    "        (\"INS010302\", \"하나로 다모은 종합 건강보험\", 40000),\n",
    "        (\"INS010303\", \"미니 암보험\", 30000),\n",
    "        (\"INS010304\", \"미니 암보험\", 50000),\n",
    "        (\"INS010305\", \"미니 치아보험\", 15000),\n",
    "        (\"INS010306\", \"미니 치아보험\", 25000),\n",
    "        (\"INS010307\", \"간편 3대 질환 보험\", 40000),\n",
    "        (\"INS010308\", \"간편 3대 질환 보험\", 60000),\n",
    "        (\"INS010309\", \"미니 Grade 건강보험\", 20000),\n",
    "        (\"INS010310\", \"미니 Grade 건강보험\", 26000),\n",
    "        (\"INS010311\", \"미니 Grade 건강보험\", 33000),\n",
    "        (\"INS010312\", \"미니 Grade 건강보험\", 37500),\n",
    "        (\"INS010313\", \"하나 가득담은 3.2.5 미니건강보험\", 30000),\n",
    "        (\"INS010314\", \"하나 가득담은 3.2.5 미니건강보험\", 40000),\n",
    "        (\"INS010315\", \"하나 가득담은 3.2.5 미니건강보험\", 40000),\n",
    "        (\"INS010316\", \"일상생활 종합보험\", 50000),\n",
    "        (\"INS010317\", \"가족 보장 보험\", 60000),\n",
    "        (\"INS010318\", \"여행자 보험\", 20000)\n",
    "    ]\n",
    "\n",
    "    user_data = []\n",
    "    for _ in range(num_users):\n",
    "        user_id = fake.uuid4()\n",
    "        insurance_history = random.sample(insurance_data, random.randint(2, 5))\n",
    "        for insurance in insurance_history:\n",
    "            rating = 4.7 - (int(insurance[0][-1]) * 0.1)\n",
    "            user_data.append({\n",
    "                \"user_id\": user_id,\n",
    "                \"insurance_id\": insurance[0],\n",
    "                \"rating\": rating\n",
    "            })\n",
    "\n",
    "    return pd.DataFrame(user_data).fillna(0)\n",
    "\n",
    "# 2. 데이터 생성 및 저장\n",
    "user_data = generate_user_data(10000)\n",
    "print(user_data.isnull().sum())  # NaN 값 체크\n",
    "\n",
    "# RecBole 형식으로 저장\n",
    "os.makedirs(\"dataset/user_data\", exist_ok=True)\n",
    "header = \"user_id:token\\tinsurance_id:token\\trating:float\"\n",
    "with open(\"dataset/user_data/user_data.inter\", 'w') as f:\n",
    "    f.write(header + \"\\n\")\n",
    "user_data.to_csv(\"dataset/user_data/user_data.inter\", mode='a', index=False, sep=\"\\t\", header=False)\n",
    "\n",
    "# 3. RecBole 설정 파일 생성\n",
    "config_content = \"\"\"\n",
    "dataset: user_data\n",
    "field_separator: \"\\\\t\"\n",
    "USER_ID_FIELD: user_id\n",
    "ITEM_ID_FIELD: insurance_id\n",
    "RATING_FIELD: rating\n",
    "load_col:\n",
    "  inter: [user_id, insurance_id, rating]\n",
    "\n",
    "training_epochs: 3\n",
    "train_batch_size: 32\n",
    "embedding_size: 16\n",
    "log_interval: 1\n",
    "\"\"\"\n",
    "\n",
    "with open('config.yaml', 'w') as file:\n",
    "    file.write(config_content)\n",
    "\n",
    "# 4. RecBole 모델 학습 및 평가\n",
    "config = Config(model='BPR', dataset='user_data', config_file_list=['config.yaml'])\n",
    "\n",
    "# 로그 설정 및 시드 초기화\n",
    "init_seed(config['seed'], config['reproducibility'])\n",
    "\n",
    "# 로그 파일로 출력 설정 (stdout 대신 파일로 기록)\n",
    "logging.basicConfig(level=logging.ERROR, filename='recbole_log.log')\n",
    "\n",
    "# 데이터셋 생성\n",
    "dataset = create_dataset(config)\n",
    "print(\"데이터셋 생성 완료:\", dataset)\n",
    "\n",
    "# 데이터 준비 (훈련, 검증, 테스트)\n",
    "train_data, valid_data, test_data = data_preparation(config, dataset)\n",
    "\n",
    "# BPR 모델 생성 및 GPU로 이동\n",
    "model = BPR(config, train_data.dataset).to(config['device'])\n",
    "\n",
    "# 트레이너 생성 및 모델 학습\n",
    "trainer = Trainer(config, model)\n",
    "\n",
    "# 학습 수행\n",
    "try:\n",
    "    best_valid_score, best_valid_result = trainer.fit(train_data)\n",
    "except Exception as e:\n",
    "    logging.error(f\"Error during training: {e}\")\n",
    "    print(f\"Error during training: {e}\")\n",
    "\n",
    "# 모델 평가\n",
    "test_result = trainer.evaluate(test_data)\n",
    "print(\"테스트 결과:\", test_result)\n"
   ]
  },
  {
   "cell_type": "code",
   "execution_count": 24,
   "metadata": {},
   "outputs": [
    {
     "name": "stdout",
     "output_type": "stream",
     "text": [
      "Collecting numpy==2.0\n",
      "  Downloading numpy-2.0.0-cp311-cp311-win_amd64.whl.metadata (60 kB)\n",
      "Downloading numpy-2.0.0-cp311-cp311-win_amd64.whl (16.5 MB)\n",
      "   ---------------------------------------- 0.0/16.5 MB ? eta -:--:--\n",
      "   ---------- ----------------------------- 4.5/16.5 MB 26.9 MB/s eta 0:00:01\n",
      "   ------------------------- -------------- 10.5/16.5 MB 25.2 MB/s eta 0:00:01\n",
      "   ---------------------------------------- 16.5/16.5 MB 28.9 MB/s eta 0:00:00\n",
      "Installing collected packages: numpy\n",
      "  Attempting uninstall: numpy\n",
      "    Found existing installation: numpy 2.0.2\n",
      "    Uninstalling numpy-2.0.2:\n",
      "      Successfully uninstalled numpy-2.0.2\n",
      "Successfully installed numpy-2.0.0\n",
      "Note: you may need to restart the kernel to use updated packages.\n"
     ]
    }
   ],
   "source": [
    "pip install numpy==2.0"
   ]
  },
  {
   "cell_type": "code",
   "execution_count": 26,
   "metadata": {},
   "outputs": [
    {
     "data": {
      "text/plain": [
       "'2.1.1'"
      ]
     },
     "execution_count": 26,
     "metadata": {},
     "output_type": "execute_result"
    }
   ],
   "source": [
    "import numpy as np\n",
    "\n",
    "# Check the version of NumPy\n",
    "np.__version__"
   ]
  },
  {
   "cell_type": "code",
   "execution_count": 29,
   "metadata": {},
   "outputs": [
    {
     "name": "stdout",
     "output_type": "stream",
     "text": [
      "^C\n",
      "Note: you may need to restart the kernel to use updated packages.\n"
     ]
    },
    {
     "ename": "",
     "evalue": "",
     "output_type": "error",
     "traceback": [
      "\u001b[1;31mThe Kernel crashed while executing code in the current cell or a previous cell. \n",
      "\u001b[1;31mPlease review the code in the cell(s) to identify a possible cause of the failure. \n",
      "\u001b[1;31mClick <a href='https://aka.ms/vscodeJupyterKernelCrash'>here</a> for more info. \n",
      "\u001b[1;31mView Jupyter <a href='command:jupyter.viewOutput'>log</a> for further details."
     ]
    }
   ],
   "source": [
    "pip uninstall numba numpy"
   ]
  },
  {
   "cell_type": "code",
   "execution_count": 1,
   "metadata": {},
   "outputs": [
    {
     "name": "stdout",
     "output_type": "stream",
     "text": [
      "Requirement already satisfied: pandas in c:\\users\\최준혁\\kopofinalproject\\fastapi\\.venv\\lib\\site-packages (2.2.2)\n",
      "Requirement already satisfied: numpy in c:\\users\\최준혁\\kopofinalproject\\fastapi\\.venv\\lib\\site-packages (1.24.3)\n",
      "Collecting matplotlib\n",
      "  Downloading matplotlib-3.9.2-cp311-cp311-win_amd64.whl.metadata (11 kB)\n",
      "Collecting seaborn\n",
      "  Downloading seaborn-0.13.2-py3-none-any.whl.metadata (5.4 kB)\n",
      "Requirement already satisfied: python-dateutil>=2.8.2 in c:\\users\\최준혁\\kopofinalproject\\fastapi\\.venv\\lib\\site-packages (from pandas) (2.9.0.post0)\n",
      "Requirement already satisfied: pytz>=2020.1 in c:\\users\\최준혁\\kopofinalproject\\fastapi\\.venv\\lib\\site-packages (from pandas) (2024.2)\n",
      "Requirement already satisfied: tzdata>=2022.7 in c:\\users\\최준혁\\kopofinalproject\\fastapi\\.venv\\lib\\site-packages (from pandas) (2024.1)\n",
      "Collecting contourpy>=1.0.1 (from matplotlib)\n",
      "  Downloading contourpy-1.3.0-cp311-cp311-win_amd64.whl.metadata (5.4 kB)\n",
      "Collecting cycler>=0.10 (from matplotlib)\n",
      "  Downloading cycler-0.12.1-py3-none-any.whl.metadata (3.8 kB)\n",
      "Collecting fonttools>=4.22.0 (from matplotlib)\n",
      "  Downloading fonttools-4.54.1-cp311-cp311-win_amd64.whl.metadata (167 kB)\n",
      "Collecting kiwisolver>=1.3.1 (from matplotlib)\n",
      "  Downloading kiwisolver-1.4.7-cp311-cp311-win_amd64.whl.metadata (6.4 kB)\n",
      "Requirement already satisfied: packaging>=20.0 in c:\\users\\최준혁\\kopofinalproject\\fastapi\\.venv\\lib\\site-packages (from matplotlib) (24.1)\n",
      "Collecting pillow>=8 (from matplotlib)\n",
      "  Downloading pillow-10.4.0-cp311-cp311-win_amd64.whl.metadata (9.3 kB)\n",
      "Collecting pyparsing>=2.3.1 (from matplotlib)\n",
      "  Downloading pyparsing-3.1.4-py3-none-any.whl.metadata (5.1 kB)\n",
      "Requirement already satisfied: six>=1.5 in c:\\users\\최준혁\\kopofinalproject\\fastapi\\.venv\\lib\\site-packages (from python-dateutil>=2.8.2->pandas) (1.16.0)\n",
      "Downloading matplotlib-3.9.2-cp311-cp311-win_amd64.whl (7.8 MB)\n",
      "   ---------------------------------------- 0.0/7.8 MB ? eta -:--:--\n",
      "   -------- ------------------------------- 1.6/7.8 MB 7.6 MB/s eta 0:00:01\n",
      "   -------------- ------------------------- 2.9/7.8 MB 6.7 MB/s eta 0:00:01\n",
      "   --------------------- ------------------ 4.2/7.8 MB 6.6 MB/s eta 0:00:01\n",
      "   ---------------------------- ----------- 5.5/7.8 MB 6.6 MB/s eta 0:00:01\n",
      "   ------------------------------------ --- 7.1/7.8 MB 6.6 MB/s eta 0:00:01\n",
      "   ---------------------------------------- 7.8/7.8 MB 6.5 MB/s eta 0:00:00\n",
      "Downloading seaborn-0.13.2-py3-none-any.whl (294 kB)\n",
      "Downloading contourpy-1.3.0-cp311-cp311-win_amd64.whl (217 kB)\n",
      "Downloading cycler-0.12.1-py3-none-any.whl (8.3 kB)\n",
      "Downloading fonttools-4.54.1-cp311-cp311-win_amd64.whl (2.2 MB)\n",
      "   ---------------------------------------- 0.0/2.2 MB ? eta -:--:--\n",
      "   ----------------------- ---------------- 1.3/2.2 MB 6.7 MB/s eta 0:00:01\n",
      "   ---------------------------------------- 2.2/2.2 MB 6.6 MB/s eta 0:00:00\n",
      "Downloading kiwisolver-1.4.7-cp311-cp311-win_amd64.whl (56 kB)\n",
      "Downloading pillow-10.4.0-cp311-cp311-win_amd64.whl (2.6 MB)\n",
      "   ---------------------------------------- 0.0/2.6 MB ? eta -:--:--\n",
      "   -------------------- ------------------- 1.3/2.6 MB 7.4 MB/s eta 0:00:01\n",
      "   ---------------------------------------- 2.6/2.6 MB 7.0 MB/s eta 0:00:00\n",
      "Downloading pyparsing-3.1.4-py3-none-any.whl (104 kB)\n",
      "Installing collected packages: pyparsing, pillow, kiwisolver, fonttools, cycler, contourpy, matplotlib, seaborn\n",
      "Successfully installed contourpy-1.3.0 cycler-0.12.1 fonttools-4.54.1 kiwisolver-1.4.7 matplotlib-3.9.2 pillow-10.4.0 pyparsing-3.1.4 seaborn-0.13.2\n",
      "Note: you may need to restart the kernel to use updated packages.\n"
     ]
    }
   ],
   "source": [
    "pip install pandas numpy matplotlib seaborn\n"
   ]
  },
  {
   "cell_type": "code",
   "execution_count": 31,
   "metadata": {},
   "outputs": [
    {
     "name": "stdout",
     "output_type": "stream",
     "text": [
      "                 ACCIDENT_DATE STATUS CLAIM_ID CONTRACT_ID        MEMBER_ID  \\\n",
      "0  24/07/07 00:00:00.000000000  승인 완료  C100235  17510-1366  3ca154f1-a316-4   \n",
      "1  24/01/31 00:00:00.000000000  승인 완료  C100236  17510-0697  9a8c7275-c1df-4   \n",
      "2  24/05/19 00:00:00.000000000  승인 완료  C100237  17510-0656  86f968c4-ecb4-4   \n",
      "3  24/07/06 00:00:00.000000000  승인 완료  C100238  17510-1198  829f2c8d-50b1-4   \n",
      "4  24/03/16 00:00:00.000000000  승인 완료  C100239  17510-0215  826178fb-f44d-4   \n",
      "\n",
      "   CLAIM_DETAILS DOCUMENT_ISSUER  DOCUMENTS CLAIM_TYPE  \\\n",
      "0            NaN        유한회사 김최박        NaN       교통사고   \n",
      "1            NaN          사기 발급처        NaN       교통사고   \n",
      "2            NaN           (주) 박        NaN         기타   \n",
      "3            NaN         (유) 이박송        NaN       교통사고   \n",
      "4            NaN        유한회사 김김우        NaN       교통사고   \n",
      "\n",
      "                 REPORTED_DATE  FRAUD_SCORE  \n",
      "0  24/07/31 00:00:00.000000000           33  \n",
      "1  27/02/15 00:00:00.000000000          100  \n",
      "2  24/06/08 00:00:00.000000000           33  \n",
      "3  24/07/16 00:00:00.000000000           87  \n",
      "4  24/03/26 00:00:00.000000000          491  \n"
     ]
    }
   ],
   "source": [
    "import pandas as pd\n",
    "import numpy as np\n",
    "import matplotlib.pyplot as plt\n",
    "import seaborn as sns\n",
    "\n",
    "# 시각화 스타일 설정\n",
    "sns.set(style=\"whitegrid\")\n",
    "%matplotlib inline\n",
    "\n",
    "\n",
    "# CSV 파일 경로 지정\n",
    "csv_file_path = 'Fixedclaims2.csv'  # 실제 파일 경로로 변경하세요\n",
    "\n",
    "# 데이터프레임으로 불러오기\n",
    "df = pd.read_csv(csv_file_path)\n",
    "\n",
    "# 데이터프레임의 첫 몇 행 확인\n",
    "print(df.head())\n"
   ]
  },
  {
   "cell_type": "code",
   "execution_count": 32,
   "metadata": {},
   "outputs": [
    {
     "name": "stdout",
     "output_type": "stream",
     "text": [
      "<class 'pandas.core.frame.DataFrame'>\n",
      "RangeIndex: 2000 entries, 0 to 1999\n",
      "Data columns (total 11 columns):\n",
      " #   Column           Non-Null Count  Dtype  \n",
      "---  ------           --------------  -----  \n",
      " 0   ACCIDENT_DATE    2000 non-null   object \n",
      " 1   STATUS           2000 non-null   object \n",
      " 2   CLAIM_ID         2000 non-null   object \n",
      " 3   CONTRACT_ID      2000 non-null   object \n",
      " 4   MEMBER_ID        2000 non-null   object \n",
      " 5   CLAIM_DETAILS    0 non-null      float64\n",
      " 6   DOCUMENT_ISSUER  2000 non-null   object \n",
      " 7   DOCUMENTS        0 non-null      float64\n",
      " 8   CLAIM_TYPE       2000 non-null   object \n",
      " 9   REPORTED_DATE    2000 non-null   object \n",
      " 10  FRAUD_SCORE      2000 non-null   int64  \n",
      "dtypes: float64(2), int64(1), object(8)\n",
      "memory usage: 172.0+ KB\n",
      "None\n",
      "       CLAIM_DETAILS  DOCUMENTS  FRAUD_SCORE\n",
      "count            0.0        0.0  2000.000000\n",
      "mean             NaN        NaN    93.641500\n",
      "std              NaN        NaN   119.536281\n",
      "min              NaN        NaN     0.000000\n",
      "25%              NaN        NaN    21.000000\n",
      "50%              NaN        NaN    39.000000\n",
      "75%              NaN        NaN    96.250000\n",
      "max              NaN        NaN   699.000000\n"
     ]
    }
   ],
   "source": [
    "# 데이터프레임의 기본 정보 확인\n",
    "print(df.info())\n",
    "\n",
    "# 통계적 요약 확인\n",
    "print(df.describe())"
   ]
  },
  {
   "cell_type": "code",
   "execution_count": 33,
   "metadata": {},
   "outputs": [
    {
     "name": "stdout",
     "output_type": "stream",
     "text": [
      "int64\n"
     ]
    }
   ],
   "source": [
    "# FRAUD_SCORE 컬럼을 숫자 타입으로 변환 (오류 발생 시 NaN으로 처리)\n",
    "df['FRAUD_SCORE'] = pd.to_numeric(df['FRAUD_SCORE'], errors='coerce')\n",
    "\n",
    "# 변환 후 데이터 타입 확인\n",
    "print(df['FRAUD_SCORE'].dtype)\n"
   ]
  },
  {
   "cell_type": "code",
   "execution_count": 17,
   "metadata": {},
   "outputs": [
    {
     "name": "stdout",
     "output_type": "stream",
     "text": [
      "count    2000.000000\n",
      "mean       93.641500\n",
      "std       119.536281\n",
      "min         0.000000\n",
      "25%        21.000000\n",
      "50%        39.000000\n",
      "75%        96.250000\n",
      "max       699.000000\n",
      "Name: FRAUD_SCORE, dtype: float64\n"
     ]
    },
    {
     "data": {
      "image/png": "[encoded data removed]",
      "text/plain": [
       "<Figure size 1000x600 with 1 Axes>"
      ]
     },
     "metadata": {},
     "output_type": "display_data"
    },
    {
     "name": "stdout",
     "output_type": "stream",
     "text": [
      "Upper bound for FRAUD_SCORE: 209.125\n"
     ]
    },
    {
     "data": {
      "image/png": "[encoded data removed]",
      "text/plain": [
       "<Figure size 1000x600 with 1 Axes>"
      ]
     },
     "metadata": {},
     "output_type": "display_data"
    }
   ],
   "source": [
    "# 기초 통계 확인\n",
    "print(df['FRAUD_SCORE'].describe())\n",
    "\n",
    "# 박스플롯을 통한 이상치 시각화\n",
    "plt.figure(figsize=(10, 6))\n",
    "sns.boxplot(x=df['FRAUD_SCORE'])\n",
    "plt.title('Boxplot of Fraud Scores')\n",
    "plt.show()\n",
    "\n",
    "# 이상치 상한선 계산 (IQR 방법)\n",
    "Q1 = df['FRAUD_SCORE'].quantile(0.25)\n",
    "Q3 = df['FRAUD_SCORE'].quantile(0.75)\n",
    "IQR = Q3 - Q1\n",
    "upper_bound = Q3 + 1.5 * IQR\n",
    "\n",
    "print(f\"Upper bound for FRAUD_SCORE: {upper_bound}\")\n",
    "\n",
    "# 이상치를 최대값으로 대체\n",
    "df['FRAUD_SCORE'] = np.where(df['FRAUD_SCORE'] > upper_bound, upper_bound, df['FRAUD_SCORE'])\n",
    "\n",
    "# 다시 박스플롯 확인\n",
    "plt.figure(figsize=(10, 6))\n",
    "sns.boxplot(x=df['FRAUD_SCORE'])\n",
    "plt.title('Boxplot of Fraud Scores (After Capping)')\n",
    "plt.show()\n"
   ]
  },
  {
   "cell_type": "code",
   "execution_count": 34,
   "metadata": {},
   "outputs": [
    {
     "data": {
      "image/png": "[encoded data removed]",
      "text/plain": [
       "<Figure size 1200x600 with 1 Axes>"
      ]
     },
     "metadata": {},
     "output_type": "display_data"
    }
   ],
   "source": [
    "plt.figure(figsize=(12, 6))\n",
    "sns.histplot(df['FRAUD_SCORE'], bins=30, kde=True, color='skyblue')\n",
    "plt.title('Distribution of Fraud Scores')\n",
    "plt.xlabel('Fraud Score')\n",
    "plt.ylabel('Frequency')\n",
    "plt.show()\n"
   ]
  },
  {
   "cell_type": "code",
   "execution_count": 35,
   "metadata": {},
   "outputs": [
    {
     "data": {
      "image/png": "[encoded data removed]",
      "text/plain": [
       "<Figure size 1000x600 with 1 Axes>"
      ]
     },
     "metadata": {},
     "output_type": "display_data"
    },
    {
     "data": {
      "image/png": "[encoded data removed]",
      "text/plain": [
       "<Figure size 1000x600 with 1 Axes>"
      ]
     },
     "metadata": {},
     "output_type": "display_data"
    }
   ],
   "source": [
    "# 박스플롯\n",
    "plt.figure(figsize=(10, 6))\n",
    "sns.boxplot(x=df['FRAUD_SCORE'], color='lightgreen')\n",
    "plt.title('Boxplot of Fraud Scores')\n",
    "plt.xlabel('Fraud Score')\n",
    "plt.show()\n",
    "\n",
    "# 바이올린 플롯\n",
    "plt.figure(figsize=(10, 6))\n",
    "sns.violinplot(x=df['FRAUD_SCORE'], color='lightcoral')\n",
    "plt.title('Violin Plot of Fraud Scores')\n",
    "plt.xlabel('Fraud Score')\n",
    "plt.show()\n"
   ]
  },
  {
   "cell_type": "code",
   "execution_count": 36,
   "metadata": {},
   "outputs": [
    {
     "name": "stdout",
     "output_type": "stream",
     "text": [
      "count    2000.000000\n",
      "mean       93.641500\n",
      "std       119.536281\n",
      "min         0.000000\n",
      "25%        21.000000\n",
      "50%        39.000000\n",
      "75%        96.250000\n",
      "max       699.000000\n",
      "Name: FRAUD_SCORE, dtype: float64\n"
     ]
    }
   ],
   "source": [
    "# 통계적 요약\n",
    "fraud_stats = df['FRAUD_SCORE'].describe()\n",
    "print(fraud_stats)\n"
   ]
  },
  {
   "cell_type": "code",
   "execution_count": 37,
   "metadata": {},
   "outputs": [
    {
     "name": "stdout",
     "output_type": "stream",
     "text": [
      "0.00      0.00\n",
      "0.25     21.00\n",
      "0.50     39.00\n",
      "0.75     96.25\n",
      "0.90    253.10\n",
      "0.95    374.00\n",
      "0.99    528.00\n",
      "1.00    699.00\n",
      "Name: FRAUD_SCORE, dtype: float64\n"
     ]
    }
   ],
   "source": [
    "\n",
    "# 백분위수 계산\n",
    "percentiles = np.array([0, 25, 50, 75, 90, 95, 99, 100])  # 리스트를 numpy 배열로 변환\n",
    "fraud_percentiles = df['FRAUD_SCORE'].quantile(percentiles / 100)  # 백분위수 계산\n",
    "print(fraud_percentiles)\n"
   ]
  },
  {
   "cell_type": "code",
   "execution_count": 43,
   "metadata": {},
   "outputs": [
    {
     "name": "stdout",
     "output_type": "stream",
     "text": [
      "95th Percentile Fraud Score: 253.10000000000014\n",
      "99th Percentile Fraud Score: 528.0\n"
     ]
    }
   ],
   "source": [
    "# 상위 95% 점수 계산\n",
    "threshold_95 = df['FRAUD_SCORE'].quantile(0.9)\n",
    "print(f\"95th Percentile Fraud Score: {threshold_95}\")\n",
    "\n",
    "# 상위 99% 점수 계산\n",
    "threshold_99 = df['FRAUD_SCORE'].quantile(0.99)\n",
    "print(f\"99th Percentile Fraud Score: {threshold_99}\")\n"
   ]
  },
  {
   "cell_type": "code",
   "execution_count": 45,
   "metadata": {},
   "outputs": [
    {
     "name": "stdout",
     "output_type": "stream",
     "text": [
      "Claims with FRAUD_SCORE >= 95th percentile (253.10000000000014): 10.00%\n",
      "Claims with FRAUD_SCORE >= 99th percentile (528.0): 1.10%\n"
     ]
    }
   ],
   "source": [
    "# 95th Percentile 기준\n",
    "fraud_95 = df[df['FRAUD_SCORE'] >= threshold_95]\n",
    "fraud_percentage_95 = (len(fraud_95) / len(df)) * 100\n",
    "print(f\"Claims with FRAUD_SCORE >= 95th percentile ({threshold_95}): {fraud_percentage_95:.2f}%\")\n",
    "\n",
    "# 99th Percentile 기준\n",
    "fraud_99 = df[df['FRAUD_SCORE'] >= threshold_99]\n",
    "fraud_percentage_99 = (len(fraud_99) / len(df)) * 100\n",
    "print(f\"Claims with FRAUD_SCORE >= 99th percentile ({threshold_99}): {fraud_percentage_99:.2f}%\")\n"
   ]
  },
  {
   "cell_type": "code",
   "execution_count": 46,
   "metadata": {},
   "outputs": [
    {
     "name": "stdout",
     "output_type": "stream",
     "text": [
      "Selected Fraud Threshold: 253.10000000000014\n",
      "Fraud Claims Percentage: 10.00%\n"
     ]
    },
    {
     "name": "stderr",
     "output_type": "stream",
     "text": [
      "C:\\Users\\최준혁\\AppData\\Local\\Temp\\ipykernel_28136\\662613353.py:16: FutureWarning: \n",
      "\n",
      "Passing `palette` without assigning `hue` is deprecated and will be removed in v0.14.0. Assign the `x` variable to `hue` and set `legend=False` for the same effect.\n",
      "\n",
      "  sns.countplot(x='is_fraud', data=df, palette='Set1')\n"
     ]
    },
    {
     "data": {
      "image/png": "[encoded data removed]",
      "text/plain": [
       "<Figure size 600x600 with 1 Axes>"
      ]
     },
     "metadata": {},
     "output_type": "display_data"
    }
   ],
   "source": [
    "# 상위 95% 임계값\n",
    "threshold = threshold_95\n",
    "\n",
    "# 임계값 출력\n",
    "print(f\"Selected Fraud Threshold: {threshold}\")\n",
    "\n",
    "# 임계값을 기준으로 새로운 컬럼 생성\n",
    "df['is_fraud'] = np.where(df['FRAUD_SCORE'] >= threshold, 1, 0)\n",
    "\n",
    "# 사기 청구 비율 확인\n",
    "fraud_ratio = df['is_fraud'].mean() * 100\n",
    "print(f\"Fraud Claims Percentage: {fraud_ratio:.2f}%\")\n",
    "\n",
    "# 사기 청구 비율 시각화\n",
    "plt.figure(figsize=(6, 6))\n",
    "sns.countplot(x='is_fraud', data=df, palette='Set1')\n",
    "plt.title('Fraud Claims Distribution')\n",
    "plt.xlabel('Is Fraud (1: Yes, 0: No)')\n",
    "plt.ylabel('Count')\n",
    "plt.show()\n"
   ]
  },
  {
   "cell_type": "code",
   "execution_count": 64,
   "metadata": {},
   "outputs": [
    {
     "name": "stdout",
     "output_type": "stream",
     "text": [
      "   FRAUD_SCORE STATUS\n",
      "0           33  승인 완료\n",
      "1          100  승인 완료\n",
      "2           33  승인 완료\n",
      "3           87  승인 완료\n",
      "4          491     거부\n"
     ]
    }
   ],
   "source": [
    "\n",
    "\n",
    "# CSV 파일 경로 지정\n",
    "csv_file_path = 'Fixedclaims2.csv'  # 실제 파일 경로로 변경하세요\n",
    "\n",
    "# 데이터프레임으로 불러오기\n",
    "claims_df = pd.read_csv(csv_file_path)\n",
    "\n",
    "# 1. FRAUD_SCORE가 250 이상인 경우 97% 확률로 거부\n",
    "mask_250 = claims_df['FRAUD_SCORE'] >= 250\n",
    "claims_df.loc[mask_250, 'STATUS'] = np.where(\n",
    "    np.random.rand(mask_250.sum()) < 0.97,  # 확률 계산을 위한 배열 생성\n",
    "    '거부',\n",
    "    claims_df.loc[mask_250, 'STATUS']\n",
    ")\n",
    "\n",
    "# 2. FRAUD_SCORE가 200 이상 250 미만인 경우 70% 확률로 거부\n",
    "mask_200_250 = (claims_df['FRAUD_SCORE'] >= 200) & (claims_df['FRAUD_SCORE'] < 250)\n",
    "claims_df.loc[mask_200_250, 'STATUS'] = np.where(\n",
    "    np.random.rand(mask_200_250.sum()) < 0.3,  # 확률 계산을 위한 배열 생성\n",
    "    '거부',\n",
    "    claims_df.loc[mask_200_250, 'STATUS']\n",
    ")\n",
    "\n",
    "# 3. 나머지 (전체 중 3% 무작위로) \"거부\"\n",
    "# 전체 데이터 중에서 랜덤하게 3%를 선택하여 '거부'로 변경\n",
    "num_rows = len(claims_df)\n",
    "reject_sample_size = int(num_rows * 0.02)\n",
    "random_reject_indices = claims_df.sample(n=reject_sample_size, random_state=42).index\n",
    "claims_df.loc[random_reject_indices, 'STATUS'] = '거부'\n",
    "\n",
    "# 결과 확인\n",
    "print(claims_df[['FRAUD_SCORE', 'STATUS']].head())\n",
    "\n",
    "# 결과 CSV로 저장 (필요시)\n",
    "# claims_df.to_csv('updated_claims.csv', index=False, encoding='utf-8-sig')\n"
   ]
  },
  {
   "cell_type": "code",
   "execution_count": 65,
   "metadata": {},
   "outputs": [
    {
     "data": {
      "text/plain": [
       "count      2000\n",
       "unique        2\n",
       "top       승인 완료\n",
       "freq       1721\n",
       "Name: STATUS, dtype: object"
      ]
     },
     "execution_count": 65,
     "metadata": {},
     "output_type": "execute_result"
    }
   ],
   "source": [
    "claims_df['STATUS'].describe()"
   ]
  },
  {
   "cell_type": "code",
   "execution_count": 66,
   "metadata": {},
   "outputs": [],
   "source": [
    "claims_df.to_csv('updated_claims.csv', index=False, encoding='utf-8-sig')\n"
   ]
  },
  {
   "cell_type": "code",
   "execution_count": null,
   "metadata": {},
   "outputs": [],
   "source": []
  }
 ],
 "metadata": {
  "kernelspec": {
   "display_name": ".venv",
   "language": "python",
   "name": "python3"
  },
  "language_info": {
   "codemirror_mode": {
    "name": "ipython",
    "version": 3
   },
   "file_extension": ".py",
   "mimetype": "text/x-python",
   "name": "python",
   "nbconvert_exporter": "python",
   "pygments_lexer": "ipython3",
   "version": "3.11.9"
  }
 },
 "nbformat": 4,
 "nbformat_minor": 2
}
