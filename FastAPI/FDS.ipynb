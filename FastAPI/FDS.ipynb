{
 "cells": [
  {
   "cell_type": "code",
   "execution_count": 177,
   "metadata": {},
   "outputs": [
    {
     "name": "stdout",
     "output_type": "stream",
     "text": [
      "                 accident_date status claim_id contract_id        member_id  \\\n",
      "0  24/07/25 00:00:00.000000000     만기  C100388  17510-0218  c15b60f3-39ab-4   \n",
      "1  24/07/25 00:00:00.000000000     만기  C101509  17510-0218  c15b60f3-39ab-4   \n",
      "2  24/07/25 00:00:00.000000000     만기  C101536  17510-0218  c15b60f3-39ab-4   \n",
      "3  24/07/25 00:00:00.000000000     만기  C100518  17510-0218  c15b60f3-39ab-4   \n",
      "4  24/07/25 00:00:00.000000000     만기  C101942  17510-0218  c15b60f3-39ab-4   \n",
      "\n",
      "   claim_details document_issuer  documents claim_type  \\\n",
      "0            NaN          의심 발급처        NaN         기타   \n",
      "1            NaN          의심 발급처        NaN         기타   \n",
      "2            NaN          의심 발급처        NaN         기타   \n",
      "3            NaN          유한회사 김        NaN       교통사고   \n",
      "4            NaN         (주) 김박백        NaN       교통사고   \n",
      "\n",
      "                 reported_date  ...  rule5_score  rule5_score_normalized  \\\n",
      "0  24/07/30 00:00:00.000000000  ...            0                     NaN   \n",
      "1  24/07/25 00:00:00.000000000  ...            0                     NaN   \n",
      "2  24/08/10 00:00:00.000000000  ...            0                     NaN   \n",
      "3  24/08/10 00:00:00.000000000  ...            0                     NaN   \n",
      "4  24/08/23 00:00:00.000000000  ...            0                     NaN   \n",
      "\n",
      "   rule6_score  rule6_score_normalized  rule1_score_normalized  \\\n",
      "0           50                     NaN                     0.0   \n",
      "1           50                     NaN                     0.0   \n",
      "2           50                     NaN                     0.0   \n",
      "3           50                     NaN                     0.0   \n",
      "4           50                     NaN                     0.0   \n",
      "\n",
      "   rule2_score_normalized  rule3_score_normalized  rule4_score_normalized  \\\n",
      "0                     1.0                0.538462                     1.0   \n",
      "1                     1.0                0.538462                     1.0   \n",
      "2                     1.0                0.538462                     1.0   \n",
      "3                     1.0                0.538462                     1.0   \n",
      "4                     1.0                0.538462                     0.0   \n",
      "\n",
      "   rule5_score_normalized  rule6_score_normalized  \n",
      "0                       0                     1.0  \n",
      "1                       0                     1.0  \n",
      "2                       0                     1.0  \n",
      "3                       0                     1.0  \n",
      "4                       0                     1.0  \n",
      "\n",
      "[5 rows x 31 columns]\n",
      "         member_id    password name  identification_number  birth_date gender  \\\n",
      "0  1536c958-b4c3-4  x6tnBEr4&i  송하윤          8607251604876  1986-07-25      F   \n",
      "1  ef4b3709-619e-4  7(S7fOnb!q  송민수          9208121938242  1992-08-12      M   \n",
      "2  20916292-a8c8-4  $9RB51m#s7  홍옥자          9005181924115  1990-05-18      F   \n",
      "3  f8f9bc7a-517f-4  ^1Kt@8eF0J  최지후          8302121659387  1983-02-12      F   \n",
      "4  8d453366-7111-4  fN)%0Gfn^^  박예준          8509091080160  1985-09-09      F   \n",
      "\n",
      "    phone_number                    email  point  fraud_count  \n",
      "0   052-115-7815      sugja73@example.net    991            0  \n",
      "1  010-7115-8714   eunjeong42@example.net    633            0  \n",
      "2   064-733-9694  yeongsungim@example.net    573            0  \n",
      "3  010-9101-3991         hgim@example.org    886            0  \n",
      "4   019-634-5792   yeonggilha@example.com    847            0  \n",
      "  contract_id        member_id insurance_id    last_payment_date  \\\n",
      "0  17510-0000  1f1cbe44-0d5f-4    INS010104  2023-11-22 00:00:00   \n",
      "1  17510-0001  8ad03de9-46ab-4    INS010103  2024-06-29 00:00:00   \n",
      "2  17510-0002  da3715a6-2f0e-4    INS010101  2024-08-28 00:00:00   \n",
      "3  17510-0003  19ffba8f-a06a-4    INS010103  2024-01-15 00:00:00   \n",
      "4  17510-0004  aecc75aa-3d8f-4    INS010102  2024-03-26 00:00:00   \n",
      "\n",
      "            start_date             end_date  contract_days  total_premium  \\\n",
      "0  2023-11-22 00:00:00  2023-11-26 00:00:00              4          40000   \n",
      "1  2024-06-28 00:00:00  2024-07-04 00:00:00              6          60000   \n",
      "2  2024-08-24 00:00:00  2024-08-30 00:00:00              6          60000   \n",
      "3  2024-01-15 00:00:00  2024-01-19 00:00:00              4          40000   \n",
      "4  2024-03-25 00:00:00  2024-03-29 00:00:00              4          40000   \n",
      "\n",
      "  status contractor  is_reviewed  \n",
      "0     만기        이보람            1  \n",
      "1     만기        김상철            0  \n",
      "2     만기        박정훈            1  \n",
      "3     만기        김재호            1  \n",
      "4     만기        최경수            0  \n",
      "                 accident_date status_x claim_id contract_id      member_id_x  \\\n",
      "0  24/07/25 00:00:00.000000000       만기  C100388  17510-0218  c15b60f3-39ab-4   \n",
      "1  24/07/25 00:00:00.000000000       만기  C101509  17510-0218  c15b60f3-39ab-4   \n",
      "2  24/07/25 00:00:00.000000000       만기  C101536  17510-0218  c15b60f3-39ab-4   \n",
      "3  24/07/25 00:00:00.000000000       만기  C100518  17510-0218  c15b60f3-39ab-4   \n",
      "4  24/07/25 00:00:00.000000000       만기  C101942  17510-0218  c15b60f3-39ab-4   \n",
      "\n",
      "   claim_details document_issuer  documents claim_type  \\\n",
      "0            NaN          의심 발급처        NaN         기타   \n",
      "1            NaN          의심 발급처        NaN         기타   \n",
      "2            NaN          의심 발급처        NaN         기타   \n",
      "3            NaN          유한회사 김        NaN       교통사고   \n",
      "4            NaN         (주) 김박백        NaN       교통사고   \n",
      "\n",
      "                 reported_date  ...      member_id_y  insurance_id  \\\n",
      "0  24/07/30 00:00:00.000000000  ...  c15b60f3-39ab-4     INS010102   \n",
      "1  24/07/25 00:00:00.000000000  ...  c15b60f3-39ab-4     INS010102   \n",
      "2  24/08/10 00:00:00.000000000  ...  c15b60f3-39ab-4     INS010102   \n",
      "3  24/08/10 00:00:00.000000000  ...  c15b60f3-39ab-4     INS010102   \n",
      "4  24/08/23 00:00:00.000000000  ...  c15b60f3-39ab-4     INS010102   \n",
      "\n",
      "     last_payment_date           start_date             end_date  \\\n",
      "0  2024-07-25 00:00:00  2024-07-25 00:00:00  2024-07-26 00:00:00   \n",
      "1  2024-07-25 00:00:00  2024-07-25 00:00:00  2024-07-26 00:00:00   \n",
      "2  2024-07-25 00:00:00  2024-07-25 00:00:00  2024-07-26 00:00:00   \n",
      "3  2024-07-25 00:00:00  2024-07-25 00:00:00  2024-07-26 00:00:00   \n",
      "4  2024-07-25 00:00:00  2024-07-25 00:00:00  2024-07-26 00:00:00   \n",
      "\n",
      "   contract_days  total_premium  status_y  contractor  is_reviewed  \n",
      "0              1          10000        만기         손상철            0  \n",
      "1              1          10000        만기         손상철            0  \n",
      "2              1          10000        만기         손상철            0  \n",
      "3              1          10000        만기         손상철            0  \n",
      "4              1          10000        만기         손상철            0  \n",
      "\n",
      "[5 rows x 50 columns]\n"
     ]
    }
   ],
   "source": [
    "import pandas as pd\n",
    "import numpy as np\n",
    "\n",
    "# CSV 파일 경로 (실제 경로로 변경)\n",
    "claims_df = pd.read_csv('Fixedclaims4_final.csv')\n",
    "members_df = pd.read_csv('members (2).csv')\n",
    "contracts_df = pd.read_csv('contracts_processed (2).csv')\n",
    "# claims_processed = pd.read_csv('claims_processed (2).csv')\n",
    "\n",
    "claims_df.columns = claims_df.columns.str.lower()\n",
    "members_df.columns = members_df.columns.str.lower()\n",
    "contracts_df.columns = contracts_df.columns.str.lower()\n",
    "# claims_processed.columns = claims_processed.columns.str.lower()\n",
    "\n",
    "\n",
    "\n",
    "# 데이터 확인\n",
    "print(claims_df.head())\n",
    "print(members_df.head())\n",
    "print(contracts_df.head())\n",
    "\n",
    "# 데이터 통합: Claim -> Member\n",
    "data = claims_df.merge(members_df, on='member_id', how='left')\n",
    "\n",
    "# 데이터 통합: Claim + Member -> Insurance_Contract\n",
    "data = data.merge(contracts_df, on='contract_id', how='left')\n",
    "\n",
    "# 통합된 데이터 확인\n",
    "print(data.head())\n"
   ]
  },
  {
   "cell_type": "code",
   "execution_count": 44,
   "metadata": {},
   "outputs": [
    {
     "name": "stdout",
     "output_type": "stream",
     "text": [
      "   RULE1_SCORE  RULE1_SCORE_NORMALIZED  RULE2_SCORE  RULE2_SCORE_NORMALIZED\n",
      "0            0                     NaN         40.0                     NaN\n",
      "1            0                     NaN         40.0                     NaN\n",
      "2           20                     NaN         40.0                     NaN\n",
      "3            0                     NaN         40.0                     NaN\n",
      "4            0                     NaN         40.0                     NaN\n",
      "정규화된 점수를 포함한 데이터가 Fixedclaims4_normalized.csv로 저장되었습니다.\n"
     ]
    }
   ],
   "source": [
    "# import pandas as pd\n",
    "# import numpy as np\n",
    "\n",
    "# # 룰별 점수 정규화 함수 정의\n",
    "# def normalize_rule_scores(claims_df, rules):\n",
    "#     for rule in rules:\n",
    "#         if rule in claims_df.columns:\n",
    "#             min_score = claims_df[rule].min()\n",
    "#             max_score = claims_df[rule].max()\n",
    "#             if max_score - min_score > 0:\n",
    "#                 normalized_col = f'{rule}_normalized'\n",
    "#                 claims_df[normalized_col] = (claims_df[rule] - min_score) / (max_score - min_score)\n",
    "#             else:\n",
    "#                 # 모든 점수가 동일한 경우 0으로 설정\n",
    "#                 normalized_col = f'{rule}_normalized'\n",
    "#                 claims_df[normalized_col] = 0\n",
    "#         else:\n",
    "#             # 룰 컬럼이 없는 경우 0으로 채움\n",
    "#             normalized_col = f'{rule}_normalized'\n",
    "#             claims_df[normalized_col] = 0\n",
    "#     return claims_df\n",
    "\n",
    "# # CSV 파일 로드\n",
    "# file_path = \"Fixedclaims4.csv\"  # 실제 파일 경로로 변경\n",
    "# claims_df = pd.read_csv(file_path)\n",
    "\n",
    "# # 룰별 점수 정규화 적용\n",
    "# rules = ['RULE1_SCORE', 'RULE2_SCORE', 'RULE3_SCORE', 'RULE4_SCORE', 'RULE5_SCORE', 'RULE6_SCORE']\n",
    "# claims_df = normalize_rule_scores(claims_df, rules)\n",
    "\n",
    "# # 정규화된 점수 확인 (상위 5개 데이터)\n",
    "# print(claims_df[['RULE1_SCORE', 'RULE1_SCORE_NORMALIZED', 'RULE2_SCORE', 'RULE2_SCORE_NORMALIZED']].head())\n",
    "\n",
    "# # 수정된 데이터를 새로운 CSV 파일로 저장\n",
    "# output_file_path = \"Fixedclaims4_normalized.csv\"  # 저장할 파일 경로\n",
    "# claims_df.to_csv(output_file_path, index=False, encoding='utf-8-sig')\n",
    "\n",
    "# print(f\"정규화된 점수를 포함한 데이터가 {output_file_path}로 저장되었습니다.\")\n"
   ]
  },
  {
   "cell_type": "code",
   "execution_count": 49,
   "metadata": {},
   "outputs": [],
   "source": [
    "# claims_df = pd.read_csv(\"Fixedclaims4_normalized.csv\")\n",
    "# claims_df.head()\n",
    "\n",
    "# # 사기 점수 기준으로 상위 200개 선택\n",
    "# claims_df = claims_df.sort_values(by='FRAUD_SCORE', ascending=False).reset_index(drop=True)\n",
    "\n",
    "# # 상위 200개에 IS_FRAUD = 1 할당\n",
    "# top_n = 200\n",
    "# claims_df.loc[:top_n-1, 'IS_FRAUD'] = 1\n",
    "\n",
    "# # 상위 200개 중 30% 라벨 뒤집기\n",
    "# num_flips_top = int(top_n * 0.3)\n",
    "# flip_indices_top = claims_df.loc[:top_n-1].sample(n=num_flips_top, random_state=42).index\n",
    "# claims_df.loc[flip_indices_top, 'IS_FRAUD'] = 0\n",
    "\n",
    "# # 나머지 청구에 대해 IS_FRAUD = 1을 20% 확률로 할당, 나머지는 0\n",
    "# remaining = claims_df.loc[top_n:]\n",
    "# random_probs = np.random.rand(len(remaining))\n",
    "# claims_df.loc[remaining.index, 'IS_FRAUD'] = (random_probs < 0.2).astype(int)\n",
    "\n",
    "# claims_df.to_csv(\"Fixedclaims4_1.csv\", index=False, encoding='utf-8-sig')\n"
   ]
  },
  {
   "cell_type": "code",
   "execution_count": 60,
   "metadata": {},
   "outputs": [
    {
     "data": {
      "text/html": [
       "<div>\n",
       "<style scoped>\n",
       "    .dataframe tbody tr th:only-of-type {\n",
       "        vertical-align: middle;\n",
       "    }\n",
       "\n",
       "    .dataframe tbody tr th {\n",
       "        vertical-align: top;\n",
       "    }\n",
       "\n",
       "    .dataframe thead th {\n",
       "        text-align: right;\n",
       "    }\n",
       "</style>\n",
       "<table border=\"1\" class=\"dataframe\">\n",
       "  <thead>\n",
       "    <tr style=\"text-align: right;\">\n",
       "      <th></th>\n",
       "      <th>accident_date</th>\n",
       "      <th>status_x</th>\n",
       "      <th>claim_id</th>\n",
       "      <th>contract_id</th>\n",
       "      <th>member_id_x</th>\n",
       "      <th>claim_details</th>\n",
       "      <th>document_issuer</th>\n",
       "      <th>documents</th>\n",
       "      <th>claim_type</th>\n",
       "      <th>reported_date</th>\n",
       "      <th>...</th>\n",
       "      <th>claim_count</th>\n",
       "      <th>claim_frequency</th>\n",
       "      <th>email_dup_count</th>\n",
       "      <th>issuer_dup_count</th>\n",
       "      <th>claim_delay_days</th>\n",
       "      <th>quick_claim</th>\n",
       "      <th>quick_claims_flag</th>\n",
       "      <th>age</th>\n",
       "      <th>accident_month</th>\n",
       "      <th>accident_dayofweek</th>\n",
       "    </tr>\n",
       "  </thead>\n",
       "  <tbody>\n",
       "    <tr>\n",
       "      <th>0</th>\n",
       "      <td>2025-07-24</td>\n",
       "      <td>0</td>\n",
       "      <td>C100388</td>\n",
       "      <td>171</td>\n",
       "      <td>c15b60f3-39ab-4</td>\n",
       "      <td>NaN</td>\n",
       "      <td>775</td>\n",
       "      <td>NaN</td>\n",
       "      <td>1</td>\n",
       "      <td>24/07/30 00:00:00.000000000</td>\n",
       "      <td>...</td>\n",
       "      <td>7</td>\n",
       "      <td>7.0</td>\n",
       "      <td>5</td>\n",
       "      <td>185</td>\n",
       "      <td>1826</td>\n",
       "      <td>0</td>\n",
       "      <td>0</td>\n",
       "      <td>37</td>\n",
       "      <td>7</td>\n",
       "      <td>3</td>\n",
       "    </tr>\n",
       "    <tr>\n",
       "      <th>1</th>\n",
       "      <td>2025-07-24</td>\n",
       "      <td>0</td>\n",
       "      <td>C101509</td>\n",
       "      <td>171</td>\n",
       "      <td>c15b60f3-39ab-4</td>\n",
       "      <td>NaN</td>\n",
       "      <td>775</td>\n",
       "      <td>NaN</td>\n",
       "      <td>1</td>\n",
       "      <td>24/07/25 00:00:00.000000000</td>\n",
       "      <td>...</td>\n",
       "      <td>7</td>\n",
       "      <td>7.0</td>\n",
       "      <td>5</td>\n",
       "      <td>185</td>\n",
       "      <td>0</td>\n",
       "      <td>0</td>\n",
       "      <td>0</td>\n",
       "      <td>37</td>\n",
       "      <td>7</td>\n",
       "      <td>3</td>\n",
       "    </tr>\n",
       "    <tr>\n",
       "      <th>2</th>\n",
       "      <td>2025-07-24</td>\n",
       "      <td>0</td>\n",
       "      <td>C101536</td>\n",
       "      <td>171</td>\n",
       "      <td>c15b60f3-39ab-4</td>\n",
       "      <td>NaN</td>\n",
       "      <td>775</td>\n",
       "      <td>NaN</td>\n",
       "      <td>1</td>\n",
       "      <td>24/08/10 00:00:00.000000000</td>\n",
       "      <td>...</td>\n",
       "      <td>7</td>\n",
       "      <td>7.0</td>\n",
       "      <td>5</td>\n",
       "      <td>185</td>\n",
       "      <td>-5448</td>\n",
       "      <td>0</td>\n",
       "      <td>0</td>\n",
       "      <td>37</td>\n",
       "      <td>7</td>\n",
       "      <td>3</td>\n",
       "    </tr>\n",
       "    <tr>\n",
       "      <th>3</th>\n",
       "      <td>2025-07-24</td>\n",
       "      <td>0</td>\n",
       "      <td>C100518</td>\n",
       "      <td>171</td>\n",
       "      <td>c15b60f3-39ab-4</td>\n",
       "      <td>NaN</td>\n",
       "      <td>643</td>\n",
       "      <td>NaN</td>\n",
       "      <td>0</td>\n",
       "      <td>24/08/10 00:00:00.000000000</td>\n",
       "      <td>...</td>\n",
       "      <td>7</td>\n",
       "      <td>7.0</td>\n",
       "      <td>5</td>\n",
       "      <td>23</td>\n",
       "      <td>-5448</td>\n",
       "      <td>0</td>\n",
       "      <td>0</td>\n",
       "      <td>37</td>\n",
       "      <td>7</td>\n",
       "      <td>3</td>\n",
       "    </tr>\n",
       "    <tr>\n",
       "      <th>4</th>\n",
       "      <td>2025-07-24</td>\n",
       "      <td>0</td>\n",
       "      <td>C101942</td>\n",
       "      <td>171</td>\n",
       "      <td>c15b60f3-39ab-4</td>\n",
       "      <td>NaN</td>\n",
       "      <td>151</td>\n",
       "      <td>NaN</td>\n",
       "      <td>0</td>\n",
       "      <td>24/08/23 00:00:00.000000000</td>\n",
       "      <td>...</td>\n",
       "      <td>7</td>\n",
       "      <td>7.0</td>\n",
       "      <td>5</td>\n",
       "      <td>0</td>\n",
       "      <td>-700</td>\n",
       "      <td>0</td>\n",
       "      <td>0</td>\n",
       "      <td>37</td>\n",
       "      <td>7</td>\n",
       "      <td>3</td>\n",
       "    </tr>\n",
       "  </tbody>\n",
       "</table>\n",
       "<p>5 rows × 59 columns</p>\n",
       "</div>"
      ],
      "text/plain": [
       "  accident_date  status_x claim_id  contract_id      member_id_x  \\\n",
       "0    2025-07-24         0  C100388          171  c15b60f3-39ab-4   \n",
       "1    2025-07-24         0  C101509          171  c15b60f3-39ab-4   \n",
       "2    2025-07-24         0  C101536          171  c15b60f3-39ab-4   \n",
       "3    2025-07-24         0  C100518          171  c15b60f3-39ab-4   \n",
       "4    2025-07-24         0  C101942          171  c15b60f3-39ab-4   \n",
       "\n",
       "   claim_details  document_issuer  documents  claim_type  \\\n",
       "0            NaN              775        NaN           1   \n",
       "1            NaN              775        NaN           1   \n",
       "2            NaN              775        NaN           1   \n",
       "3            NaN              643        NaN           0   \n",
       "4            NaN              151        NaN           0   \n",
       "\n",
       "                 reported_date  ...  claim_count  claim_frequency  \\\n",
       "0  24/07/30 00:00:00.000000000  ...            7              7.0   \n",
       "1  24/07/25 00:00:00.000000000  ...            7              7.0   \n",
       "2  24/08/10 00:00:00.000000000  ...            7              7.0   \n",
       "3  24/08/10 00:00:00.000000000  ...            7              7.0   \n",
       "4  24/08/23 00:00:00.000000000  ...            7              7.0   \n",
       "\n",
       "   email_dup_count  issuer_dup_count  claim_delay_days  quick_claim  \\\n",
       "0                5               185              1826            0   \n",
       "1                5               185                 0            0   \n",
       "2                5               185             -5448            0   \n",
       "3                5                23             -5448            0   \n",
       "4                5                 0              -700            0   \n",
       "\n",
       "   quick_claims_flag  age  accident_month  accident_dayofweek  \n",
       "0                  0   37               7                   3  \n",
       "1                  0   37               7                   3  \n",
       "2                  0   37               7                   3  \n",
       "3                  0   37               7                   3  \n",
       "4                  0   37               7                   3  \n",
       "\n",
       "[5 rows x 59 columns]"
      ]
     },
     "execution_count": 60,
     "metadata": {},
     "output_type": "execute_result"
    }
   ],
   "source": [
    "# # fraud_score가 존재하는지 확인\n",
    "# print(data['fraud_score'].head())\n",
    "\n",
    "# # fraud_score가 숫자형으로 변환 (필요 시)\n",
    "# data['fraud_score'] = pd.to_numeric(data['fraud_score'], errors='coerce')\n",
    "\n",
    "# # 결측치 처리 (필요 시)\n",
    "# data['fraud_score'].fillna(0, inplace=True)\n",
    "\n",
    "# # 임계값 설정: 상위 5%를 사기로 간주 (예: 95th percentile)\n",
    "# threshold = data['fraud_score'].quantile(0.9)\n",
    "# print(f\"Selected Fraud Threshold (95th percentile): {threshold}\")\n",
    "\n",
    "# # is_fraud 레이블 생성\n",
    "# data['is_fraud'] = (data['fraud_score'] >= threshold).astype(int)\n",
    "\n",
    "# # 레이블 분포 확인\n",
    "# print(data['is_fraud'].value_counts(normalize=True))\n",
    "data.columns\n",
    "data.head()"
   ]
  },
  {
   "cell_type": "code",
   "execution_count": 178,
   "metadata": {},
   "outputs": [
    {
     "name": "stderr",
     "output_type": "stream",
     "text": [
      "C:\\Users\\최준혁\\AppData\\Local\\Temp\\ipykernel_21908\\3829999547.py:30: UserWarning: Could not infer format, so each element will be parsed individually, falling back to `dateutil`. To ensure parsing is consistent and as-expected, please specify a format.\n",
      "  data['claim_delay_days'] = (pd.to_datetime(data['reported_date'], format='%y/%m/%d %H:%M:%S.%f') - pd.to_datetime(data['accident_date'])).dt.days\n",
      "C:\\Users\\최준혁\\AppData\\Local\\Temp\\ipykernel_21908\\3829999547.py:35: UserWarning: Could not infer format, so each element will be parsed individually, falling back to `dateutil`. To ensure parsing is consistent and as-expected, please specify a format.\n",
      "  data['accident_date'] = pd.to_datetime(data['accident_date'])\n",
      "C:\\Users\\최준혁\\AppData\\Local\\Temp\\ipykernel_21908\\3829999547.py:45: FutureWarning: A value is trying to be set on a copy of a DataFrame or Series through chained assignment using an inplace method.\n",
      "The behavior will change in pandas 3.0. This inplace method will never work because the intermediate object on which we are setting values always behaves as a copy.\n",
      "\n",
      "For example, when doing 'df[col].method(value, inplace=True)', try using 'df.method({col: value}, inplace=True)' or df[col] = df[col].method(value) instead, to perform the operation inplace on the original object.\n",
      "\n",
      "\n",
      "  data['quick_claims_count'].fillna(0, inplace=True)\n"
     ]
    }
   ],
   "source": [
    "from sklearn.preprocessing import LabelEncoder\n",
    "from datetime import datetime\n",
    "import json\n",
    "# 1. 청구 건수 (claim_count) 계산\n",
    "claim_counts = claims_df.groupby('contract_id')['claim_id'].count().reset_index()\n",
    "claim_counts.columns = ['contract_id', 'claim_count']\n",
    "\n",
    "# 2. `data`에 claim_count 병합\n",
    "data = data.merge(claim_counts, on='contract_id', how='left')\n",
    "\n",
    "# 룰 1: 과거 사기 횟수는 이미 `fraud_count`로 존재\n",
    "\n",
    "# 룰 2: 계약 기간 대비 청구 빈도\n",
    "data['claim_frequency'] = data['claim_count'] / data['contract_days']\n",
    "\n",
    "# 룰 3: 이메일 중복 사용 횟수 (email_dup_count)\n",
    "email_counts = members_df['email'].value_counts()\n",
    "data['email_dup_count'] = data['email'].map(email_counts)\n",
    "data['email_dup_count'] = data['email_dup_count'] - 1  # 자기 자신을 제외한 중복 횟수로 계산\n",
    "data['email_dup_count'] = data['email_dup_count'].apply(lambda x: max(x, 0))  # 음수 값은 0으로 변환\n",
    "\n",
    "# 룰 4: 동일 서류 발급처를 통한 청구 중복 횟수 (issuer_dup_count)\n",
    "issuer_counts = claims_df['document_issuer'].value_counts()\n",
    "data['issuer_dup_count'] = data['document_issuer'].map(issuer_counts)\n",
    "data['issuer_dup_count'] = data['issuer_dup_count'] - 1  # 자기 자신을 제외한 중복 횟수로 계산\n",
    "data['issuer_dup_count'] = data['issuer_dup_count'].apply(lambda x: max(x, 0))  # 음수 값은 0으로 변환\n",
    "\n",
    "# 룰 5: 청구 제출 지연 일수\n",
    "\n",
    "data['claim_delay_days'] = (pd.to_datetime(data['reported_date'], format='%y/%m/%d %H:%M:%S.%f') - pd.to_datetime(data['accident_date'])).dt.days\n",
    "\n",
    "# 룰 6: 계약 시작 직후 청구 발생 횟수\n",
    "contract_start = contracts_df.set_index('contract_id')['start_date'].to_dict()\n",
    "data['contract_start_date'] = data['contract_id'].map(contract_start)\n",
    "data['accident_date'] = pd.to_datetime(data['accident_date'])\n",
    "data['contract_start_date'] = pd.to_datetime(data['contract_start_date'])\n",
    "\n",
    "# 계약 시작 후 10% 계약 기간 이내에 사고 발생 여부\n",
    "data['quick_claim'] = ((data['accident_date'] - data['contract_start_date']).dt.days <= (data['contract_days'] * 0.1)).astype(int)\n",
    "\n",
    "# 동일 계약 내의 빠른 청구 횟수\n",
    "quick_claims = data[data['quick_claim'] == 1].groupby('contract_id')['claim_id'].count().reset_index()\n",
    "quick_claims.columns = ['contract_id', 'quick_claims_count']\n",
    "data = data.merge(quick_claims, on='contract_id', how='left')\n",
    "data['quick_claims_count'].fillna(0, inplace=True)\n",
    "\n",
    "# 룰 6: 3회 이상 빠른 청구 발생 여부\n",
    "data['quick_claims_flag'] = (data['quick_claims_count'] >= 3).astype(int)\n",
    "\n",
    "# 나이 계산 (birth_date를 나이로 변환)\n",
    "data['birth_date'] = pd.to_datetime(data['birth_date'])\n",
    "data['age'] = datetime.now().year - data['birth_date'].dt.year\n",
    "data.drop('birth_date', axis=1, inplace=True)\n",
    "\n",
    "# 불필요한 컬럼 제거\n",
    "data.drop(['contract_start_date', 'quick_claims_count'], axis=1, inplace=True)\n",
    "\n",
    "# 추가적인 FE: 날짜 관련 특성\n",
    "data['accident_month'] = data['accident_date'].dt.month\n",
    "# data['accident_dayofweek'] = data['accident_date'].dt.dayofweek\n",
    "\n",
    "# 문자열 컬럼에 대한 Label Encoding 처리 (필요한 컬럼에 대해서만)\n",
    "label_cols = ['contract_id', 'document_issuer', 'email', 'insurance_id', 'claim_type', 'status_x', 'status_y']\n",
    "label_mappings = {}\n",
    "\n",
    "# 각 문자열 컬럼을 Label Encoding 처리\n",
    "for col in label_cols:\n",
    "    le = LabelEncoder()\n",
    "    data[col] = le.fit_transform(data[col].astype(str))\n",
    "    label_mappings[col] = {label: int(idx) for idx, label in enumerate(le.classes_)}\n",
    "    label_mappings[col][\"UNKNOWN\"] = -1  # 새로운 값에 대한 UNKNOWN\n",
    "\n",
    "# 최종 FE된 데이터 확인\n",
    "# print(data.head())\n",
    "LGBM_data = data.copy()\n",
    "# 불필요한 컬럼 제거 (필요에 따라)\n",
    "columns_to_drop = ['documents','contract_start_date', 'quick_claims_count', 'password', 'name', 'phone_number', 'contractor', 'member_id_x', 'member_id_y']\n",
    "LGBM_data.drop(columns=columns_to_drop, axis=1, inplace=True, errors='ignore')\n",
    "\n",
    "# 필요한 경우 다른 범주형 변수 인코딩 (예: claim_type, insurance_id, gender, status_x, status_y)\n",
    "label_cols = ['claim_type', 'insurance_id', 'gender', 'status_x', 'status_y']\n",
    "\n",
    "# 각 문자열 컬럼을 Label Encoding 처리\n",
    "for col in label_cols:\n",
    "    if col in LGBM_data.columns:\n",
    "        le = LabelEncoder()\n",
    "        LGBM_data[col] = le.fit_transform(LGBM_data[col].astype(str))\n",
    "        label_mappings[col] = {label: int(idx) for idx, label in enumerate(le.classes_)}\n",
    "        label_mappings[col][\"UNKNOWN\"] = -1  # 새로운 값에 대한 UNKNOWN\n",
    "    else:\n",
    "        print(f\"Warning: Column '{col}' not found in the dataframe.\")\n",
    "\n",
    "# Save label_mappings to JSON\n",
    "with open('encoding_mapping2.json', 'w') as f:\n",
    "    json.dump(label_mappings, f, indent=4)\n",
    "\n",
    "\n",
    "# print(LGBM_data.dtypes)\n",
    "LGBM_data_sorted = LGBM_data.sort_index(axis=1).reset_index(drop=True)\n"
   ]
  },
  {
   "cell_type": "code",
   "execution_count": 200,
   "metadata": {},
   "outputs": [
    {
     "name": "stdout",
     "output_type": "stream",
     "text": [
      "29\n"
     ]
    }
   ],
   "source": [
    "object_columns = LGBM_data.select_dtypes(include=['object']).columns\n",
    "claim_id_to_predict = 'C100945'\n",
    "only_1 = LGBM_data[LGBM_data['claim_id'] == claim_id_to_predict]\n",
    "only_1_X = only_1.drop(['claim_id','claim_details', 'last_payment_date', 'reported_date', 'accident_date', 'start_date', 'end_date', 'fraud_score','is_fraud', 'estimated_fraud','rule1_score_normalized',\n",
    "       'rule2_score_normalized', 'rule3_score_normalized',\n",
    "       'rule4_score_normalized', 'rule5_score_normalized',\n",
    "       'rule6_score_normalized' ], axis=1)\n",
    "print(len(only_1_X.columns))\n",
    "only_1_X_sort = only_1_X.sort_index(axis=1).reset_index(drop=True)\n"
   ]
  },
  {
   "cell_type": "code",
   "execution_count": 201,
   "metadata": {},
   "outputs": [
    {
     "name": "stdout",
     "output_type": "stream",
     "text": [
      "[0.14909171]\n"
     ]
    }
   ],
   "source": [
    "gbm = lgb.Booster(model_file='lightgbm_model2.txt')\n",
    "\n",
    "# 예측 수행\n",
    "y_pred_single = gbm.predict(only_1_X)\n",
    "print(y_pred_single)"
   ]
  },
  {
   "cell_type": "code",
   "execution_count": 107,
   "metadata": {},
   "outputs": [
    {
     "data": {
      "text/plain": [
       "Index(['status_x', 'contract_id', 'document_issuer', 'documents', 'claim_type',\n",
       "       'rule1_score', 'rule2_score', 'rule3_score', 'rule4_score',\n",
       "       'rule5_score', 'rule6_score', 'identification_number', 'gender',\n",
       "       'email', 'point', 'fraud_count', 'insurance_id', 'contract_days',\n",
       "       'total_premium', 'status_y', 'is_reviewed', 'claim_count',\n",
       "       'claim_frequency', 'email_dup_count', 'issuer_dup_count',\n",
       "       'claim_delay_days', 'quick_claim', 'quick_claims_flag', 'age',\n",
       "       'accident_month', 'accident_dayofweek'],\n",
       "      dtype='object')"
      ]
     },
     "execution_count": 107,
     "metadata": {},
     "output_type": "execute_result"
    }
   ],
   "source": [
    "input = pd.read_csv('input_features_517.csv')\n",
    "print(input.columns)\n",
    "print(only_1_X.columns)"
   ]
  },
  {
   "cell_type": "code",
   "execution_count": 110,
   "metadata": {},
   "outputs": [
    {
     "name": "stdout",
     "output_type": "stream",
     "text": [
      "컬럼이 다릅니다.\n",
      "input_df에만 있는 컬럼: set()\n",
      "only_1에만 있는 컬럼: set()\n",
      "컬럼이 동일하지 않기 때문에 값 비교를 수행하지 않습니다.\n",
      "두 DataFrame을 각각 'input_features_517_saved.csv'와 'only_1_saved.csv' 파일로 저장했습니다.\n"
     ]
    }
   ],
   "source": [
    "import pandas as pd\n",
    "\n",
    "# 1. CSV 파일 로드\n",
    "input_df = pd.read_csv('input_features_517.csv')\n",
    "\n",
    "# 2. 'only_1' DataFrame이 이미 정의되어 있다고 가정\n",
    "# 예시로 'only_1'을 CSV 파일에서 로드하는 경우:\n",
    "# only_1 = pd.read_csv('only_1.csv')\n",
    "\n",
    "# 만약 'only_1'이 이미 메모리에 존재한다면, 이 부분은 생략 가능합니다.\n",
    "# 예를 들어:\n",
    "# only_1 = your_existing_dataframe\n",
    "\n",
    "# 3. 컬럼 비교\n",
    "columns_match = list(input_df.columns) == list(only_1_X.columns)\n",
    "\n",
    "if columns_match:\n",
    "    print(\"컬럼이 동일합니다.\")\n",
    "else:\n",
    "    print(\"컬럼이 다릅니다.\")\n",
    "    print(\"input_df에만 있는 컬럼:\", set(input_df.columns) - set(only_1_X.columns))\n",
    "    print(\"only_1에만 있는 컬럼:\", set(only_1_X.columns) - set(input_df.columns))\n",
    "\n",
    "# 4. 값 비교\n",
    "if columns_match:\n",
    "    # 전체 DataFrame이 동일한지 확인\n",
    "    if input_df.equals(only_1_X):\n",
    "        print(\"두 DataFrame의 모든 값이 동일합니다.\")\n",
    "    else:\n",
    "        print(\"두 DataFrame의 값이 다릅니다.\")\n",
    "        \n",
    "        # 차이 나는 셀 찾기\n",
    "        differences = input_df != only_1_X\n",
    "        differing_rows, differing_cols = differences.any(axis=1), differences.any(axis=0)\n",
    "        \n",
    "        # 차이 나는 행과 열 출력\n",
    "        print(\"값이 다른 행:\")\n",
    "        print(input_df[differing_rows])\n",
    "        \n",
    "        print(\"\\n값이 다른 열:\")\n",
    "        print(input_df.columns[differing_cols])\n",
    "        \n",
    "        # 차이 나는 셀을 별도의 DataFrame으로 저장\n",
    "        diff_df = input_df[differences]\n",
    "        diff_df.to_csv('differences.csv', index=False)\n",
    "        print(\"차이 나는 셀을 'differences.csv' 파일로 저장했습니다.\")\n",
    "else:\n",
    "    print(\"컬럼이 동일하지 않기 때문에 값 비교를 수행하지 않습니다.\")\n",
    "\n",
    "# 5. 데이터 확인을 위한 CSV 저장 (선택 사항)\n",
    "# 두 DataFrame을 각각 CSV 파일로 저장하여 직접 비교할 수 있습니다.\n",
    "input_df.to_csv('input_features_517_saved.csv', index=False)\n",
    "only_1_X.to_csv('only_1_saved.csv', index=False)\n",
    "print(\"두 DataFrame을 각각 'input_features_517_saved.csv'와 'only_1_saved.csv' 파일로 저장했습니다.\")\n"
   ]
  },
  {
   "cell_type": "code",
   "execution_count": 175,
   "metadata": {},
   "outputs": [
    {
     "name": "stdout",
     "output_type": "stream",
     "text": [
      "컬럼이 동일하지 않습니다.\n"
     ]
    }
   ],
   "source": [
    "import pandas as pd\n",
    "\n",
    "# CSV 파일 읽기\n",
    "input_df = pd.read_csv('input_features_517.csv')\n",
    "only_1_X_df = only_1_X.copy()\n",
    "\n",
    "# 1. 컬럼 이름을 기준으로 순서를 맞춤\n",
    "input_df_sorted = input_df.sort_index(axis=1).reset_index(drop=True)  # 인덱스를 리셋하여 순차적인 숫자로 변경\n",
    "only_1_X_df_sorted = only_1_X_df.sort_index(axis=1).reset_index(drop=True)\n",
    "\n",
    "# 2. 컬럼이 동일한지 확인\n",
    "if list(input_df_sorted.columns) == list(only_1_X_df_sorted.columns):\n",
    "    print(\"컬럼이 동일합니다.\")\n",
    "    \n",
    "    # 3. 값이 동일한지 확인 (각 컬럼별로)\n",
    "    comparison = input_df_sorted.eq(only_1_X_df_sorted)\n",
    "    \n",
    "    if comparison.all().all():\n",
    "        print(\"두 DataFrame의 모든 값이 동일합니다.\")\n",
    "    else:\n",
    "        print(\"일부 값이 다릅니다.\")\n",
    "        # 차이가 있는 부분 출력\n",
    "        differing_rows = comparison[~comparison.all(axis=1)].index  # 차이가 있는 행의 인덱스 확인\n",
    "        \n",
    "        # 각 다른 행에서 차이나는 값을 출력\n",
    "        for row in differing_rows:\n",
    "            print(f\"행 번호 {row}에서 차이가 있습니다:\")\n",
    "            for col in input_df_sorted.columns:\n",
    "                val_input = input_df_sorted.loc[row, col]\n",
    "                val_only_1_X = only_1_X_df_sorted.loc[row, col]\n",
    "                if val_input != val_only_1_X:\n",
    "                    print(f\"  컬럼 '{col}': input_df = {val_input}, only_1_X_df = {val_only_1_X}\")\n",
    "else:\n",
    "    print(\"컬럼이 동일하지 않습니다.\")\n"
   ]
  },
  {
   "cell_type": "code",
   "execution_count": 176,
   "metadata": {},
   "outputs": [
    {
     "data": {
      "text/plain": [
       "Index(['accident_month', 'age', 'claim_count', 'claim_delay_days',\n",
       "       'claim_frequency', 'claim_type', 'contract_days', 'contract_id',\n",
       "       'document_issuer', 'email', 'email_dup_count', 'fraud_count', 'gender',\n",
       "       'identification_number', 'insurance_id', 'is_reviewed',\n",
       "       'issuer_dup_count', 'point', 'quick_claim', 'quick_claims_flag',\n",
       "       'rule1_score', 'rule2_score', 'rule3_score', 'rule4_score',\n",
       "       'rule5_score', 'rule6_score', 'status_x', 'status_y', 'total_premium'],\n",
       "      dtype='object')"
      ]
     },
     "execution_count": 176,
     "metadata": {},
     "output_type": "execute_result"
    }
   ],
   "source": [
    "input_df_sorted.columns"
   ]
  },
  {
   "cell_type": "code",
   "execution_count": null,
   "metadata": {},
   "outputs": [],
   "source": []
  },
  {
   "cell_type": "code",
   "execution_count": 188,
   "metadata": {},
   "outputs": [
    {
     "name": "stdout",
     "output_type": "stream",
     "text": [
      "Training set shape: (1600, 29), Training labels shape: (1600,)\n",
      "Test set shape: (400, 29), Test labels shape: (400,)\n"
     ]
    }
   ],
   "source": [
    "from sklearn.model_selection import train_test_split\n",
    "\n",
    "# 독립 변수와 종속 변수 설정\n",
    "X = LGBM_data_sorted.drop(['claim_id','claim_details', 'last_payment_date', 'reported_date', 'accident_date', 'start_date', 'end_date', 'fraud_score','is_fraud', 'estimated_fraud','rule1_score_normalized',\n",
    "       'rule2_score_normalized', 'rule3_score_normalized',\n",
    "       'rule4_score_normalized', 'rule5_score_normalized',\n",
    "       'rule6_score_normalized' ], axis=1)\n",
    "y = LGBM_data_sorted['is_fraud']\n",
    "\n",
    "# 훈련 세트와 테스트 세트로 분할 (예: 80% 훈련, 20% 테스트)\n",
    "X_train, X_test, y_train, y_test = train_test_split(X, y, test_size=0.2, stratify=y, random_state=42)\n",
    "\n",
    "print(f\"Training set shape: {X_train.shape}, Training labels shape: {y_train.shape}\")\n",
    "print(f\"Test set shape: {X_test.shape}, Test labels shape: {y_test.shape}\")\n"
   ]
  },
  {
   "cell_type": "code",
   "execution_count": 87,
   "metadata": {},
   "outputs": [
    {
     "data": {
      "text/plain": [
       "31"
      ]
     },
     "execution_count": 87,
     "metadata": {},
     "output_type": "execute_result"
    }
   ],
   "source": [
    "len(X.columns)\n"
   ]
  },
  {
   "cell_type": "code",
   "execution_count": null,
   "metadata": {},
   "outputs": [],
   "source": [
    "pip install lightgbm optuna scikit-learn\n"
   ]
  },
  {
   "cell_type": "code",
   "execution_count": 7,
   "metadata": {},
   "outputs": [
    {
     "name": "stderr",
     "output_type": "stream",
     "text": [
      "c:\\Users\\최준혁\\KOPOFinalProject\\FastAPI\\.venv\\Lib\\site-packages\\tqdm\\auto.py:21: TqdmWarning: IProgress not found. Please update jupyter and ipywidgets. See https://ipywidgets.readthedocs.io/en/stable/user_install.html\n",
      "  from .autonotebook import tqdm as notebook_tqdm\n"
     ]
    }
   ],
   "source": [
    "import lightgbm as lgb\n",
    "import optuna\n",
    "from sklearn.metrics import roc_auc_score, f1_score"
   ]
  },
  {
   "cell_type": "code",
   "execution_count": 189,
   "metadata": {},
   "outputs": [
    {
     "name": "stderr",
     "output_type": "stream",
     "text": [
      "[I 2024-10-04 10:30:24,098] A new study created in memory with name: no-name-f0079f5b-0338-4b72-8afc-9949eee8e75b\n"
     ]
    },
    {
     "name": "stdout",
     "output_type": "stream",
     "text": [
      "Training until validation scores don't improve for 100 rounds\n"
     ]
    },
    {
     "name": "stderr",
     "output_type": "stream",
     "text": [
      "[I 2024-10-04 10:30:25,234] Trial 0 finished with value: 0.0 and parameters: {'learning_rate': 0.0001821698551322169, 'num_leaves': 58, 'max_depth': 10, 'min_data_in_leaf': 30, 'feature_fraction': 0.9808600921188525, 'bagging_fraction': 0.8016499642459736, 'bagging_freq': 2, 'lambda_l1': 8.789049917798401, 'lambda_l2': 0.0016768045877121357, 'min_split_gain': 1.1887853125457762e-08}. Best is trial 0 with value: 0.0.\n"
     ]
    },
    {
     "name": "stdout",
     "output_type": "stream",
     "text": [
      "Early stopping, best iteration is:\n",
      "[1]\ttraining's f1: 0\tvalid_1's f1: 0\n",
      "Training until validation scores don't improve for 100 rounds\n"
     ]
    },
    {
     "name": "stderr",
     "output_type": "stream",
     "text": [
      "[I 2024-10-04 10:30:26,440] Trial 1 finished with value: 0.0 and parameters: {'learning_rate': 0.00014390838128275785, 'num_leaves': 59, 'max_depth': 13, 'min_data_in_leaf': 87, 'feature_fraction': 0.9097856547611699, 'bagging_fraction': 0.9036871879369518, 'bagging_freq': 5, 'lambda_l1': 6.271166464638458e-05, 'lambda_l2': 4.090842814598241e-07, 'min_split_gain': 0.28565888126476086}. Best is trial 0 with value: 0.0.\n"
     ]
    },
    {
     "name": "stdout",
     "output_type": "stream",
     "text": [
      "Early stopping, best iteration is:\n",
      "[1]\ttraining's f1: 0\tvalid_1's f1: 0\n",
      "Training until validation scores don't improve for 100 rounds\n"
     ]
    },
    {
     "name": "stderr",
     "output_type": "stream",
     "text": [
      "[I 2024-10-04 10:30:27,674] Trial 2 finished with value: 0.0 and parameters: {'learning_rate': 0.0015063312782301458, 'num_leaves': 137, 'max_depth': 11, 'min_data_in_leaf': 75, 'feature_fraction': 0.7602056849616189, 'bagging_fraction': 0.7636645177764626, 'bagging_freq': 3, 'lambda_l1': 1.2040411100684016e-07, 'lambda_l2': 0.1605619188990412, 'min_split_gain': 0.0007168563651196294}. Best is trial 0 with value: 0.0.\n"
     ]
    },
    {
     "name": "stdout",
     "output_type": "stream",
     "text": [
      "Early stopping, best iteration is:\n",
      "[1]\ttraining's f1: 0\tvalid_1's f1: 0\n",
      "Training until validation scores don't improve for 100 rounds\n"
     ]
    },
    {
     "name": "stderr",
     "output_type": "stream",
     "text": [
      "[I 2024-10-04 10:30:29,016] Trial 3 finished with value: 0.0 and parameters: {'learning_rate': 0.0001243968381249894, 'num_leaves': 109, 'max_depth': 8, 'min_data_in_leaf': 64, 'feature_fraction': 0.6964061697378882, 'bagging_fraction': 0.6381887702427891, 'bagging_freq': 1, 'lambda_l1': 4.015814582758958e-07, 'lambda_l2': 0.0023405231419509655, 'min_split_gain': 0.4341124616492079}. Best is trial 0 with value: 0.0.\n"
     ]
    },
    {
     "name": "stdout",
     "output_type": "stream",
     "text": [
      "Early stopping, best iteration is:\n",
      "[1]\ttraining's f1: 0\tvalid_1's f1: 0\n",
      "Training until validation scores don't improve for 100 rounds\n"
     ]
    },
    {
     "name": "stderr",
     "output_type": "stream",
     "text": [
      "[I 2024-10-04 10:30:32,602] Trial 4 finished with value: 0.38571428571428573 and parameters: {'learning_rate': 0.06595853588506972, 'num_leaves': 150, 'max_depth': 11, 'min_data_in_leaf': 55, 'feature_fraction': 0.6150760234250311, 'bagging_fraction': 0.963347047475392, 'bagging_freq': 7, 'lambda_l1': 0.0027608401585101218, 'lambda_l2': 1.755877081014626e-07, 'min_split_gain': 0.010721281639339433}. Best is trial 4 with value: 0.38571428571428573.\n"
     ]
    },
    {
     "name": "stdout",
     "output_type": "stream",
     "text": [
      "Early stopping, best iteration is:\n",
      "[117]\ttraining's f1: 0.670927\tvalid_1's f1: 0.385714\n",
      "Training until validation scores don't improve for 100 rounds\n"
     ]
    },
    {
     "name": "stderr",
     "output_type": "stream",
     "text": [
      "[I 2024-10-04 10:30:35,082] Trial 5 finished with value: 0.0 and parameters: {'learning_rate': 0.0011115136116340925, 'num_leaves': 150, 'max_depth': 12, 'min_data_in_leaf': 20, 'feature_fraction': 0.6336933264974659, 'bagging_fraction': 0.8435578430992274, 'bagging_freq': 3, 'lambda_l1': 0.007321026260011336, 'lambda_l2': 6.291683462731894e-07, 'min_split_gain': 0.5682953939066366}. Best is trial 4 with value: 0.38571428571428573.\n"
     ]
    },
    {
     "name": "stdout",
     "output_type": "stream",
     "text": [
      "Early stopping, best iteration is:\n",
      "[1]\ttraining's f1: 0\tvalid_1's f1: 0\n",
      "Training until validation scores don't improve for 100 rounds\n"
     ]
    },
    {
     "name": "stderr",
     "output_type": "stream",
     "text": [
      "[I 2024-10-04 10:30:36,670] Trial 6 finished with value: 0.0 and parameters: {'learning_rate': 0.0003121843867040795, 'num_leaves': 147, 'max_depth': 3, 'min_data_in_leaf': 53, 'feature_fraction': 0.9011685730309447, 'bagging_fraction': 0.640831479669388, 'bagging_freq': 2, 'lambda_l1': 0.009195081874603465, 'lambda_l2': 3.594261652317231e-05, 'min_split_gain': 0.017663512969451574}. Best is trial 4 with value: 0.38571428571428573.\n"
     ]
    },
    {
     "name": "stdout",
     "output_type": "stream",
     "text": [
      "Early stopping, best iteration is:\n",
      "[1]\ttraining's f1: 0\tvalid_1's f1: 0\n",
      "Training until validation scores don't improve for 100 rounds\n"
     ]
    },
    {
     "name": "stderr",
     "output_type": "stream",
     "text": [
      "[I 2024-10-04 10:30:39,781] Trial 7 finished with value: 0.31496062992125984 and parameters: {'learning_rate': 0.012906748589400663, 'num_leaves': 104, 'max_depth': 8, 'min_data_in_leaf': 92, 'feature_fraction': 0.6240728224312538, 'bagging_fraction': 0.7614337909841478, 'bagging_freq': 6, 'lambda_l1': 1.3076630203692328e-06, 'lambda_l2': 1.1735319421676705e-07, 'min_split_gain': 0.1473860591463541}. Best is trial 4 with value: 0.38571428571428573.\n"
     ]
    },
    {
     "name": "stdout",
     "output_type": "stream",
     "text": [
      "Early stopping, best iteration is:\n",
      "[129]\ttraining's f1: 0.314741\tvalid_1's f1: 0.314961\n",
      "Training until validation scores don't improve for 100 rounds\n"
     ]
    },
    {
     "name": "stderr",
     "output_type": "stream",
     "text": [
      "[I 2024-10-04 10:30:43,159] Trial 8 finished with value: 0.33587786259541985 and parameters: {'learning_rate': 0.013985548013292546, 'num_leaves': 51, 'max_depth': 15, 'min_data_in_leaf': 32, 'feature_fraction': 0.7394297795603354, 'bagging_fraction': 0.7738687498377523, 'bagging_freq': 6, 'lambda_l1': 8.712681917248405e-08, 'lambda_l2': 0.00011050307994491598, 'min_split_gain': 0.007995811809269995}. Best is trial 4 with value: 0.38571428571428573.\n"
     ]
    },
    {
     "name": "stdout",
     "output_type": "stream",
     "text": [
      "Early stopping, best iteration is:\n",
      "[122]\ttraining's f1: 0.360396\tvalid_1's f1: 0.335878\n",
      "Training until validation scores don't improve for 100 rounds\n"
     ]
    },
    {
     "name": "stderr",
     "output_type": "stream",
     "text": [
      "[I 2024-10-04 10:30:44,338] Trial 9 finished with value: 0.0 and parameters: {'learning_rate': 0.00020754955147758648, 'num_leaves': 22, 'max_depth': 15, 'min_data_in_leaf': 85, 'feature_fraction': 0.8247267488918053, 'bagging_fraction': 0.8676831234451456, 'bagging_freq': 4, 'lambda_l1': 1.2701918567646022, 'lambda_l2': 1.4196930421796375e-05, 'min_split_gain': 0.007174261475997068}. Best is trial 4 with value: 0.38571428571428573.\n"
     ]
    },
    {
     "name": "stdout",
     "output_type": "stream",
     "text": [
      "Early stopping, best iteration is:\n",
      "[1]\ttraining's f1: 0\tvalid_1's f1: 0\n",
      "Training until validation scores don't improve for 100 rounds\n"
     ]
    },
    {
     "name": "stderr",
     "output_type": "stream",
     "text": [
      "[I 2024-10-04 10:30:48,239] Trial 10 finished with value: 0.4217687074829932 and parameters: {'learning_rate': 0.08802390337913117, 'num_leaves': 113, 'max_depth': 7, 'min_data_in_leaf': 51, 'feature_fraction': 0.6074542072141946, 'bagging_fraction': 0.9874380669465758, 'bagging_freq': 7, 'lambda_l1': 6.356237241662919e-05, 'lambda_l2': 1.240882993069688e-08, 'min_split_gain': 5.099304213657169e-06}. Best is trial 10 with value: 0.4217687074829932.\n"
     ]
    },
    {
     "name": "stdout",
     "output_type": "stream",
     "text": [
      "Early stopping, best iteration is:\n",
      "[172]\ttraining's f1: 0.802343\tvalid_1's f1: 0.421769\n",
      "Training until validation scores don't improve for 100 rounds\n"
     ]
    },
    {
     "name": "stderr",
     "output_type": "stream",
     "text": [
      "[I 2024-10-04 10:30:52,750] Trial 11 finished with value: 0.40268456375838924 and parameters: {'learning_rate': 0.09170031042604652, 'num_leaves': 121, 'max_depth': 5, 'min_data_in_leaf': 51, 'feature_fraction': 0.6108829579908063, 'bagging_fraction': 0.989756356131273, 'bagging_freq': 7, 'lambda_l1': 9.02523316951413e-05, 'lambda_l2': 1.1866235197700128e-08, 'min_split_gain': 5.618162605794561e-06}. Best is trial 10 with value: 0.4217687074829932.\n"
     ]
    },
    {
     "name": "stdout",
     "output_type": "stream",
     "text": [
      "Early stopping, best iteration is:\n",
      "[273]\ttraining's f1: 0.798246\tvalid_1's f1: 0.402685\n",
      "Training until validation scores don't improve for 100 rounds\n"
     ]
    },
    {
     "name": "stderr",
     "output_type": "stream",
     "text": [
      "[I 2024-10-04 10:30:54,617] Trial 12 finished with value: 0.373134328358209 and parameters: {'learning_rate': 0.09811009065941402, 'num_leaves': 115, 'max_depth': 5, 'min_data_in_leaf': 44, 'feature_fraction': 0.6887375395310696, 'bagging_fraction': 0.9916911064359631, 'bagging_freq': 7, 'lambda_l1': 2.3489299964007963e-05, 'lambda_l2': 1.0766951802473165e-08, 'min_split_gain': 2.1786921969654465e-06}. Best is trial 10 with value: 0.4217687074829932.\n"
     ]
    },
    {
     "name": "stdout",
     "output_type": "stream",
     "text": [
      "Early stopping, best iteration is:\n",
      "[53]\ttraining's f1: 0.417293\tvalid_1's f1: 0.373134\n",
      "Training until validation scores don't improve for 100 rounds\n"
     ]
    },
    {
     "name": "stderr",
     "output_type": "stream",
     "text": [
      "[I 2024-10-04 10:30:58,952] Trial 13 finished with value: 0.38235294117647056 and parameters: {'learning_rate': 0.027940685314232515, 'num_leaves': 86, 'max_depth': 5, 'min_data_in_leaf': 66, 'feature_fraction': 0.6764438779076096, 'bagging_fraction': 0.9272170749745131, 'bagging_freq': 6, 'lambda_l1': 1.0990760050109197e-05, 'lambda_l2': 1.4029678518068587e-08, 'min_split_gain': 5.446233459790444e-06}. Best is trial 10 with value: 0.4217687074829932.\n"
     ]
    },
    {
     "name": "stdout",
     "output_type": "stream",
     "text": [
      "Early stopping, best iteration is:\n",
      "[273]\ttraining's f1: 0.454212\tvalid_1's f1: 0.382353\n",
      "Training until validation scores don't improve for 100 rounds\n"
     ]
    },
    {
     "name": "stderr",
     "output_type": "stream",
     "text": [
      "[I 2024-10-04 10:31:00,249] Trial 14 finished with value: 0.0 and parameters: {'learning_rate': 0.006605077922357915, 'num_leaves': 125, 'max_depth': 6, 'min_data_in_leaf': 44, 'feature_fraction': 0.8341158545408768, 'bagging_fraction': 0.9900308734733951, 'bagging_freq': 7, 'lambda_l1': 0.0004801120266116209, 'lambda_l2': 2.5187795187499153, 'min_split_gain': 7.354056589693621e-06}. Best is trial 10 with value: 0.4217687074829932.\n"
     ]
    },
    {
     "name": "stdout",
     "output_type": "stream",
     "text": [
      "Early stopping, best iteration is:\n",
      "[1]\ttraining's f1: 0\tvalid_1's f1: 0\n",
      "Training until validation scores don't improve for 100 rounds\n"
     ]
    },
    {
     "name": "stderr",
     "output_type": "stream",
     "text": [
      "[I 2024-10-04 10:31:02,942] Trial 15 finished with value: 0.3484848484848485 and parameters: {'learning_rate': 0.04076390000520099, 'num_leaves': 90, 'max_depth': 3, 'min_data_in_leaf': 42, 'feature_fraction': 0.7488929544420652, 'bagging_fraction': 0.9323128081320641, 'bagging_freq': 5, 'lambda_l1': 0.09027079880255923, 'lambda_l2': 2.880574319243604e-06, 'min_split_gain': 2.0097061930645435e-07}. Best is trial 10 with value: 0.4217687074829932.\n"
     ]
    },
    {
     "name": "stdout",
     "output_type": "stream",
     "text": [
      "Early stopping, best iteration is:\n",
      "[135]\ttraining's f1: 0.347656\tvalid_1's f1: 0.348485\n",
      "Training until validation scores don't improve for 100 rounds\n"
     ]
    },
    {
     "name": "stderr",
     "output_type": "stream",
     "text": [
      "[I 2024-10-04 10:31:07,608] Trial 16 finished with value: 0.373134328358209 and parameters: {'learning_rate': 0.020837859441563737, 'num_leaves': 128, 'max_depth': 7, 'min_data_in_leaf': 73, 'feature_fraction': 0.6615841026932843, 'bagging_fraction': 0.6940920203524705, 'bagging_freq': 5, 'lambda_l1': 0.0002664630498862109, 'lambda_l2': 1.0083063224645185e-08, 'min_split_gain': 9.021922885514791e-05}. Best is trial 10 with value: 0.4217687074829932.\n"
     ]
    },
    {
     "name": "stdout",
     "output_type": "stream",
     "text": [
      "Early stopping, best iteration is:\n",
      "[312]\ttraining's f1: 0.422794\tvalid_1's f1: 0.373134\n",
      "Training until validation scores don't improve for 100 rounds\n"
     ]
    },
    {
     "name": "stderr",
     "output_type": "stream",
     "text": [
      "[I 2024-10-04 10:31:08,916] Trial 17 finished with value: 0.0 and parameters: {'learning_rate': 0.005345973961241243, 'num_leaves': 98, 'max_depth': 5, 'min_data_in_leaf': 56, 'feature_fraction': 0.6100937118279974, 'bagging_fraction': 0.8912829115362382, 'bagging_freq': 7, 'lambda_l1': 3.0077056746007243e-06, 'lambda_l2': 4.5245186225143926e-06, 'min_split_gain': 8.703282821509232e-05}. Best is trial 10 with value: 0.4217687074829932.\n"
     ]
    },
    {
     "name": "stdout",
     "output_type": "stream",
     "text": [
      "Early stopping, best iteration is:\n",
      "[1]\ttraining's f1: 0\tvalid_1's f1: 0\n",
      "Training until validation scores don't improve for 100 rounds\n"
     ]
    },
    {
     "name": "stderr",
     "output_type": "stream",
     "text": [
      "[I 2024-10-04 10:31:11,826] Trial 18 finished with value: 0.391304347826087 and parameters: {'learning_rate': 0.05092069482810741, 'num_leaves': 75, 'max_depth': 9, 'min_data_in_leaf': 36, 'feature_fraction': 0.7155726871955775, 'bagging_fraction': 0.9518156986341012, 'bagging_freq': 6, 'lambda_l1': 0.00023278041918738446, 'lambda_l2': 0.023638464287552015, 'min_split_gain': 2.4879656349927746e-07}. Best is trial 10 with value: 0.4217687074829932.\n"
     ]
    },
    {
     "name": "stdout",
     "output_type": "stream",
     "text": [
      "Early stopping, best iteration is:\n",
      "[136]\ttraining's f1: 0.734756\tvalid_1's f1: 0.391304\n",
      "Training until validation scores don't improve for 100 rounds\n"
     ]
    },
    {
     "name": "stderr",
     "output_type": "stream",
     "text": [
      "[I 2024-10-04 10:31:13,091] Trial 19 finished with value: 0.0 and parameters: {'learning_rate': 0.0019166630498519514, 'num_leaves': 121, 'max_depth': 4, 'min_data_in_leaf': 49, 'feature_fraction': 0.7939167025535474, 'bagging_fraction': 0.8223018788734828, 'bagging_freq': 4, 'lambda_l1': 1.2214508464765166e-08, 'lambda_l2': 4.9771698777603126e-08, 'min_split_gain': 6.030903393414702e-07}. Best is trial 10 with value: 0.4217687074829932.\n"
     ]
    },
    {
     "name": "stdout",
     "output_type": "stream",
     "text": [
      "Early stopping, best iteration is:\n",
      "[1]\ttraining's f1: 0\tvalid_1's f1: 0\n",
      "Training until validation scores don't improve for 100 rounds\n"
     ]
    },
    {
     "name": "stderr",
     "output_type": "stream",
     "text": [
      "[I 2024-10-04 10:31:15,581] Trial 20 finished with value: 0.41134751773049644 and parameters: {'learning_rate': 0.08925402783382115, 'num_leaves': 74, 'max_depth': 7, 'min_data_in_leaf': 20, 'feature_fraction': 0.6575564994014956, 'bagging_fraction': 0.9909585387971425, 'bagging_freq': 5, 'lambda_l1': 0.1436359101365333, 'lambda_l2': 1.8570735223580187e-06, 'min_split_gain': 1.0610492307927567e-08}. Best is trial 10 with value: 0.4217687074829932.\n"
     ]
    },
    {
     "name": "stdout",
     "output_type": "stream",
     "text": [
      "Early stopping, best iteration is:\n",
      "[63]\ttraining's f1: 0.63228\tvalid_1's f1: 0.411348\n",
      "Training until validation scores don't improve for 100 rounds\n"
     ]
    },
    {
     "name": "stderr",
     "output_type": "stream",
     "text": [
      "[I 2024-10-04 10:31:18,342] Trial 21 finished with value: 0.4027777777777778 and parameters: {'learning_rate': 0.08246620188682352, 'num_leaves': 70, 'max_depth': 7, 'min_data_in_leaf': 22, 'feature_fraction': 0.6509385911372569, 'bagging_fraction': 0.9928579227404557, 'bagging_freq': 6, 'lambda_l1': 0.04686775667799494, 'lambda_l2': 1.4784990753338572e-06, 'min_split_gain': 1.5441753436305567e-08}. Best is trial 10 with value: 0.4217687074829932.\n"
     ]
    },
    {
     "name": "stdout",
     "output_type": "stream",
     "text": [
      "Early stopping, best iteration is:\n",
      "[133]\ttraining's f1: 0.875872\tvalid_1's f1: 0.402778\n",
      "Training until validation scores don't improve for 100 rounds\n"
     ]
    },
    {
     "name": "stderr",
     "output_type": "stream",
     "text": [
      "[I 2024-10-04 10:31:21,289] Trial 22 finished with value: 0.3851851851851852 and parameters: {'learning_rate': 0.03393642228825074, 'num_leaves': 72, 'max_depth': 7, 'min_data_in_leaf': 22, 'feature_fraction': 0.65499646974292, 'bagging_fraction': 0.9568496697556393, 'bagging_freq': 5, 'lambda_l1': 0.1606054213611718, 'lambda_l2': 1.5878729758562347e-06, 'min_split_gain': 1.0639895907306023e-08}. Best is trial 10 with value: 0.4217687074829932.\n"
     ]
    },
    {
     "name": "stdout",
     "output_type": "stream",
     "text": [
      "Early stopping, best iteration is:\n",
      "[136]\ttraining's f1: 0.57931\tvalid_1's f1: 0.385185\n",
      "Training until validation scores don't improve for 100 rounds\n"
     ]
    },
    {
     "name": "stderr",
     "output_type": "stream",
     "text": [
      "[I 2024-10-04 10:31:24,880] Trial 23 finished with value: 0.3971631205673759 and parameters: {'learning_rate': 0.053426120915836366, 'num_leaves': 46, 'max_depth': 7, 'min_data_in_leaf': 28, 'feature_fraction': 0.6566103396681485, 'bagging_fraction': 0.9984537992528421, 'bagging_freq': 6, 'lambda_l1': 0.12036256914586459, 'lambda_l2': 0.00015159549007273253, 'min_split_gain': 4.168907536763782e-08}. Best is trial 10 with value: 0.4217687074829932.\n"
     ]
    },
    {
     "name": "stdout",
     "output_type": "stream",
     "text": [
      "Early stopping, best iteration is:\n",
      "[197]\ttraining's f1: 0.786248\tvalid_1's f1: 0.397163\n",
      "Training until validation scores don't improve for 100 rounds\n"
     ]
    },
    {
     "name": "stderr",
     "output_type": "stream",
     "text": [
      "[I 2024-10-04 10:31:31,671] Trial 24 finished with value: 0.4028776978417266 and parameters: {'learning_rate': 0.018731827127697668, 'num_leaves': 73, 'max_depth': 9, 'min_data_in_leaf': 24, 'feature_fraction': 0.7071306755707788, 'bagging_fraction': 0.9072497195569024, 'bagging_freq': 5, 'lambda_l1': 0.9477039711132722, 'lambda_l2': 1.165830599066438e-05, 'min_split_gain': 5.970426385660367e-08}. Best is trial 10 with value: 0.4217687074829932.\n"
     ]
    },
    {
     "name": "stdout",
     "output_type": "stream",
     "text": [
      "Early stopping, best iteration is:\n",
      "[377]\ttraining's f1: 0.80814\tvalid_1's f1: 0.402878\n",
      "Training until validation scores don't improve for 100 rounds\n"
     ]
    },
    {
     "name": "stderr",
     "output_type": "stream",
     "text": [
      "[I 2024-10-04 10:31:39,697] Trial 25 finished with value: 0.373134328358209 and parameters: {'learning_rate': 0.01706668156750012, 'num_leaves': 34, 'max_depth': 9, 'min_data_in_leaf': 38, 'feature_fraction': 0.7793675239703342, 'bagging_fraction': 0.9030027226691566, 'bagging_freq': 4, 'lambda_l1': 1.2432810395761211, 'lambda_l2': 1.350515243457418e-05, 'min_split_gain': 7.940769014426884e-08}. Best is trial 10 with value: 0.4217687074829932.\n"
     ]
    },
    {
     "name": "stdout",
     "output_type": "stream",
     "text": [
      "Early stopping, best iteration is:\n",
      "[227]\ttraining's f1: 0.463235\tvalid_1's f1: 0.373134\n",
      "Training until validation scores don't improve for 100 rounds\n"
     ]
    },
    {
     "name": "stderr",
     "output_type": "stream",
     "text": [
      "[I 2024-10-04 10:31:41,149] Trial 26 finished with value: 0.0 and parameters: {'learning_rate': 0.005523832078067974, 'num_leaves': 94, 'max_depth': 9, 'min_data_in_leaf': 26, 'feature_fraction': 0.7194241754229046, 'bagging_fraction': 0.9305455705942667, 'bagging_freq': 3, 'lambda_l1': 5.539924600674447, 'lambda_l2': 0.0010807632229393063, 'min_split_gain': 1.0275771843477965e-06}. Best is trial 10 with value: 0.4217687074829932.\n"
     ]
    },
    {
     "name": "stdout",
     "output_type": "stream",
     "text": [
      "Early stopping, best iteration is:\n",
      "[1]\ttraining's f1: 0\tvalid_1's f1: 0\n",
      "Training until validation scores don't improve for 100 rounds\n"
     ]
    },
    {
     "name": "stderr",
     "output_type": "stream",
     "text": [
      "[I 2024-10-04 10:31:46,564] Trial 27 finished with value: 0.3851851851851852 and parameters: {'learning_rate': 0.010923765758718715, 'num_leaves': 80, 'max_depth': 8, 'min_data_in_leaf': 34, 'feature_fraction': 0.6005445647844652, 'bagging_fraction': 0.8690941788378754, 'bagging_freq': 5, 'lambda_l1': 0.7595945219841271, 'lambda_l2': 3.565842432430713e-05, 'min_split_gain': 1.573476795906669e-05}. Best is trial 10 with value: 0.4217687074829932.\n"
     ]
    },
    {
     "name": "stdout",
     "output_type": "stream",
     "text": [
      "Early stopping, best iteration is:\n",
      "[356]\ttraining's f1: 0.473394\tvalid_1's f1: 0.385185\n",
      "Training until validation scores don't improve for 100 rounds\n"
     ]
    },
    {
     "name": "stderr",
     "output_type": "stream",
     "text": [
      "[I 2024-10-04 10:31:49,334] Trial 28 finished with value: 0.3880597014925373 and parameters: {'learning_rate': 0.0315033619912643, 'num_leaves': 65, 'max_depth': 10, 'min_data_in_leaf': 27, 'feature_fraction': 0.6972856476115358, 'bagging_fraction': 0.9598845706593221, 'bagging_freq': 4, 'lambda_l1': 0.0014182862311826125, 'lambda_l2': 1.1274160129399039e-07, 'min_split_gain': 6.354130141196083e-08}. Best is trial 10 with value: 0.4217687074829932.\n"
     ]
    },
    {
     "name": "stdout",
     "output_type": "stream",
     "text": [
      "Early stopping, best iteration is:\n",
      "[116]\ttraining's f1: 0.619765\tvalid_1's f1: 0.38806\n",
      "Training until validation scores don't improve for 100 rounds\n"
     ]
    },
    {
     "name": "stderr",
     "output_type": "stream",
     "text": [
      "[I 2024-10-04 10:31:50,609] Trial 29 finished with value: 0.0 and parameters: {'learning_rate': 0.0006989683074202952, 'num_leaves': 47, 'max_depth': 10, 'min_data_in_leaf': 32, 'feature_fraction': 0.9804339687501367, 'bagging_fraction': 0.7242464371533295, 'bagging_freq': 2, 'lambda_l1': 0.03145700287438929, 'lambda_l2': 0.0007068265957500576, 'min_split_gain': 0.000488567166972226}. Best is trial 10 with value: 0.4217687074829932.\n"
     ]
    },
    {
     "name": "stdout",
     "output_type": "stream",
     "text": [
      "Early stopping, best iteration is:\n",
      "[1]\ttraining's f1: 0\tvalid_1's f1: 0\n",
      "Training until validation scores don't improve for 100 rounds\n"
     ]
    },
    {
     "name": "stderr",
     "output_type": "stream",
     "text": [
      "[I 2024-10-04 10:31:51,859] Trial 30 finished with value: 0.0 and parameters: {'learning_rate': 0.0031092167765029077, 'num_leaves': 80, 'max_depth': 6, 'min_data_in_leaf': 100, 'feature_fraction': 0.7135171847662152, 'bagging_fraction': 0.8714800860632786, 'bagging_freq': 5, 'lambda_l1': 9.703368261030628, 'lambda_l2': 6.8022888708259195e-06, 'min_split_gain': 2.785711046223816e-07}. Best is trial 10 with value: 0.4217687074829932.\n"
     ]
    },
    {
     "name": "stdout",
     "output_type": "stream",
     "text": [
      "Early stopping, best iteration is:\n",
      "[1]\ttraining's f1: 0\tvalid_1's f1: 0\n",
      "Training until validation scores don't improve for 100 rounds\n"
     ]
    },
    {
     "name": "stderr",
     "output_type": "stream",
     "text": [
      "[I 2024-10-04 10:31:54,869] Trial 31 finished with value: 0.38848920863309355 and parameters: {'learning_rate': 0.07052575808380165, 'num_leaves': 63, 'max_depth': 6, 'min_data_in_leaf': 21, 'feature_fraction': 0.6441295529811839, 'bagging_fraction': 0.9740501846004367, 'bagging_freq': 6, 'lambda_l1': 0.4613199284563359, 'lambda_l2': 1.2002241459243613e-06, 'min_split_gain': 2.416149449481858e-08}. Best is trial 10 with value: 0.4217687074829932.\n"
     ]
    },
    {
     "name": "stdout",
     "output_type": "stream",
     "text": [
      "Early stopping, best iteration is:\n",
      "[114]\ttraining's f1: 0.669919\tvalid_1's f1: 0.388489\n",
      "Training until validation scores don't improve for 100 rounds\n"
     ]
    },
    {
     "name": "stderr",
     "output_type": "stream",
     "text": [
      "[I 2024-10-04 10:31:57,692] Trial 32 finished with value: 0.39436619718309857 and parameters: {'learning_rate': 0.08931766255917473, 'num_leaves': 70, 'max_depth': 8, 'min_data_in_leaf': 25, 'feature_fraction': 0.6364534481194913, 'bagging_fraction': 0.9340222248865276, 'bagging_freq': 6, 'lambda_l1': 0.022938338725394608, 'lambda_l2': 2.2503698145610277e-07, 'min_split_gain': 1.0429897517700774e-08}. Best is trial 10 with value: 0.4217687074829932.\n"
     ]
    },
    {
     "name": "stdout",
     "output_type": "stream",
     "text": [
      "Early stopping, best iteration is:\n",
      "[67]\ttraining's f1: 0.697306\tvalid_1's f1: 0.394366\n",
      "Training until validation scores don't improve for 100 rounds\n"
     ]
    },
    {
     "name": "stderr",
     "output_type": "stream",
     "text": [
      "[I 2024-10-04 10:32:02,266] Trial 33 finished with value: 0.373134328358209 and parameters: {'learning_rate': 0.023682404703930175, 'num_leaves': 55, 'max_depth': 7, 'min_data_in_leaf': 40, 'feature_fraction': 0.6697996699986081, 'bagging_fraction': 0.9159054496588014, 'bagging_freq': 5, 'lambda_l1': 2.3272541950247594, 'lambda_l2': 6.223208610360922e-07, 'min_split_gain': 8.810269519658201e-08}. Best is trial 10 with value: 0.4217687074829932.\n"
     ]
    },
    {
     "name": "stdout",
     "output_type": "stream",
     "text": [
      "Early stopping, best iteration is:\n",
      "[257]\ttraining's f1: 0.494585\tvalid_1's f1: 0.373134\n",
      "Training until validation scores don't improve for 100 rounds\n"
     ]
    },
    {
     "name": "stderr",
     "output_type": "stream",
     "text": [
      "[I 2024-10-04 10:32:04,917] Trial 34 finished with value: 0.3851851851851852 and parameters: {'learning_rate': 0.04476819036837887, 'num_leaves': 101, 'max_depth': 9, 'min_data_in_leaf': 29, 'feature_fraction': 0.6785487407678062, 'bagging_fraction': 0.9657257777039504, 'bagging_freq': 7, 'lambda_l1': 0.24726020929249823, 'lambda_l2': 6.465864941024676e-05, 'min_split_gain': 2.8046907227559785e-08}. Best is trial 10 with value: 0.4217687074829932.\n"
     ]
    },
    {
     "name": "stdout",
     "output_type": "stream",
     "text": [
      "Early stopping, best iteration is:\n",
      "[72]\ttraining's f1: 0.536412\tvalid_1's f1: 0.385185\n",
      "Training until validation scores don't improve for 100 rounds\n"
     ]
    },
    {
     "name": "stderr",
     "output_type": "stream",
     "text": [
      "[I 2024-10-04 10:32:09,127] Trial 35 finished with value: 0.37681159420289856 and parameters: {'learning_rate': 0.07162434913644251, 'num_leaves': 82, 'max_depth': 6, 'min_data_in_leaf': 20, 'feature_fraction': 0.6357106266342784, 'bagging_fraction': 0.9453761749134633, 'bagging_freq': 6, 'lambda_l1': 0.001707601190381865, 'lambda_l2': 3.8833585117315955e-08, 'min_split_gain': 1.2836502340518143e-06}. Best is trial 10 with value: 0.4217687074829932.\n"
     ]
    },
    {
     "name": "stdout",
     "output_type": "stream",
     "text": [
      "Early stopping, best iteration is:\n",
      "[130]\ttraining's f1: 0.786145\tvalid_1's f1: 0.376812\n",
      "Training until validation scores don't improve for 100 rounds\n"
     ]
    },
    {
     "name": "stderr",
     "output_type": "stream",
     "text": [
      "[I 2024-10-04 10:32:15,468] Trial 36 finished with value: 0.31496062992125984 and parameters: {'learning_rate': 0.008363387519646838, 'num_leaves': 60, 'max_depth': 11, 'min_data_in_leaf': 61, 'feature_fraction': 0.736130091293697, 'bagging_fraction': 0.9752331172597841, 'bagging_freq': 5, 'lambda_l1': 0.03355226182305419, 'lambda_l2': 0.008952532343596503, 'min_split_gain': 3.117655609657228e-05}. Best is trial 10 with value: 0.4217687074829932.\n"
     ]
    },
    {
     "name": "stdout",
     "output_type": "stream",
     "text": [
      "Early stopping, best iteration is:\n",
      "[152]\ttraining's f1: 0.318091\tvalid_1's f1: 0.314961\n",
      "Training until validation scores don't improve for 100 rounds\n"
     ]
    },
    {
     "name": "stderr",
     "output_type": "stream",
     "text": [
      "[I 2024-10-04 10:32:19,493] Trial 37 finished with value: 0.3916083916083916 and parameters: {'learning_rate': 0.05692710038721934, 'num_leaves': 110, 'max_depth': 8, 'min_data_in_leaf': 68, 'feature_fraction': 0.7666457344379197, 'bagging_fraction': 0.8940752074798911, 'bagging_freq': 4, 'lambda_l1': 0.0119451037467456, 'lambda_l2': 0.00025999006169155446, 'min_split_gain': 1.5433644116963174e-07}. Best is trial 10 with value: 0.4217687074829932.\n"
     ]
    },
    {
     "name": "stdout",
     "output_type": "stream",
     "text": [
      "Early stopping, best iteration is:\n",
      "[196]\ttraining's f1: 0.687898\tvalid_1's f1: 0.391608\n",
      "Training until validation scores don't improve for 100 rounds\n"
     ]
    },
    {
     "name": "stderr",
     "output_type": "stream",
     "text": [
      "[I 2024-10-04 10:32:24,389] Trial 38 finished with value: 0.391304347826087 and parameters: {'learning_rate': 0.020809671639702203, 'num_leaves': 139, 'max_depth': 12, 'min_data_in_leaf': 47, 'feature_fraction': 0.8768150298843954, 'bagging_fraction': 0.8326527357474112, 'bagging_freq': 1, 'lambda_l1': 0.003011805851572073, 'lambda_l2': 4.0998027167884074e-07, 'min_split_gain': 2.7052467725067574e-08}. Best is trial 10 with value: 0.4217687074829932.\n"
     ]
    },
    {
     "name": "stdout",
     "output_type": "stream",
     "text": [
      "Early stopping, best iteration is:\n",
      "[234]\ttraining's f1: 0.592217\tvalid_1's f1: 0.391304\n",
      "Training until validation scores don't improve for 100 rounds\n"
     ]
    },
    {
     "name": "stderr",
     "output_type": "stream",
     "text": [
      "[I 2024-10-04 10:32:28,187] Trial 39 finished with value: 0.3795620437956204 and parameters: {'learning_rate': 0.03676033818748265, 'num_leaves': 91, 'max_depth': 7, 'min_data_in_leaf': 24, 'feature_fraction': 0.6993309005515965, 'bagging_fraction': 0.9744025943804602, 'bagging_freq': 7, 'lambda_l1': 0.06033724809233838, 'lambda_l2': 1.4359262195750186e-05, 'min_split_gain': 1.0074320326840534e-08}. Best is trial 10 with value: 0.4217687074829932.\n"
     ]
    },
    {
     "name": "stdout",
     "output_type": "stream",
     "text": [
      "Early stopping, best iteration is:\n",
      "[170]\ttraining's f1: 0.669903\tvalid_1's f1: 0.379562\n",
      "Training until validation scores don't improve for 100 rounds\n"
     ]
    },
    {
     "name": "stderr",
     "output_type": "stream",
     "text": [
      "[I 2024-10-04 10:32:30,896] Trial 40 finished with value: 0.38235294117647056 and parameters: {'learning_rate': 0.06327490612271901, 'num_leaves': 37, 'max_depth': 4, 'min_data_in_leaf': 31, 'feature_fraction': 0.6334132814897581, 'bagging_fraction': 0.6157826406831868, 'bagging_freq': 6, 'lambda_l1': 3.0600351930810317, 'lambda_l2': 1.5356081023791276e-06, 'min_split_gain': 4.971155920674846e-07}. Best is trial 10 with value: 0.4217687074829932.\n"
     ]
    },
    {
     "name": "stdout",
     "output_type": "stream",
     "text": [
      "Early stopping, best iteration is:\n",
      "[108]\ttraining's f1: 0.379507\tvalid_1's f1: 0.382353\n",
      "Training until validation scores don't improve for 100 rounds\n"
     ]
    },
    {
     "name": "stderr",
     "output_type": "stream",
     "text": [
      "[I 2024-10-04 10:32:33,484] Trial 41 finished with value: 0.36764705882352944 and parameters: {'learning_rate': 0.09366054926688495, 'num_leaves': 133, 'max_depth': 4, 'min_data_in_leaf': 50, 'feature_fraction': 0.6017992549563779, 'bagging_fraction': 0.9883663108690227, 'bagging_freq': 7, 'lambda_l1': 8.459681520982776e-05, 'lambda_l2': 1.0779048551358339e-07, 'min_split_gain': 0.0005119126175622222}. Best is trial 10 with value: 0.4217687074829932.\n"
     ]
    },
    {
     "name": "stdout",
     "output_type": "stream",
     "text": [
      "Early stopping, best iteration is:\n",
      "[115]\ttraining's f1: 0.462659\tvalid_1's f1: 0.367647\n",
      "Training until validation scores don't improve for 100 rounds\n"
     ]
    },
    {
     "name": "stderr",
     "output_type": "stream",
     "text": [
      "[I 2024-10-04 10:32:36,068] Trial 42 finished with value: 0.3795620437956204 and parameters: {'learning_rate': 0.09940308521046702, 'num_leaves': 112, 'max_depth': 5, 'min_data_in_leaf': 55, 'feature_fraction': 0.6219042272051518, 'bagging_fraction': 0.9796940243516439, 'bagging_freq': 7, 'lambda_l1': 7.599451307162237e-06, 'lambda_l2': 3.897833442611336e-08, 'min_split_gain': 1.9446446083554354e-06}. Best is trial 10 with value: 0.4217687074829932.\n"
     ]
    },
    {
     "name": "stdout",
     "output_type": "stream",
     "text": [
      "Early stopping, best iteration is:\n",
      "[93]\ttraining's f1: 0.521277\tvalid_1's f1: 0.379562\n",
      "Training until validation scores don't improve for 100 rounds\n"
     ]
    },
    {
     "name": "stderr",
     "output_type": "stream",
     "text": [
      "[I 2024-10-04 10:32:39,372] Trial 43 finished with value: 0.3829787234042553 and parameters: {'learning_rate': 0.061787082602531865, 'num_leaves': 69, 'max_depth': 6, 'min_data_in_leaf': 78, 'feature_fraction': 0.6201286619605415, 'bagging_fraction': 0.9951618141601072, 'bagging_freq': 7, 'lambda_l1': 6.0867495614182024e-05, 'lambda_l2': 2.7751055158346333e-08, 'min_split_gain': 4.26384118076325e-06}. Best is trial 10 with value: 0.4217687074829932.\n"
     ]
    },
    {
     "name": "stdout",
     "output_type": "stream",
     "text": [
      "Early stopping, best iteration is:\n",
      "[168]\ttraining's f1: 0.546392\tvalid_1's f1: 0.382979\n",
      "Training until validation scores don't improve for 100 rounds\n"
     ]
    },
    {
     "name": "stderr",
     "output_type": "stream",
     "text": [
      "[I 2024-10-04 10:32:44,530] Trial 44 finished with value: 0.3972602739726027 and parameters: {'learning_rate': 0.04200054195609857, 'num_leaves': 119, 'max_depth': 8, 'min_data_in_leaf': 60, 'feature_fraction': 0.6496259100487175, 'bagging_fraction': 0.9448709679727271, 'bagging_freq': 6, 'lambda_l1': 7.693794292567398e-05, 'lambda_l2': 1.7838055694138338e-07, 'min_split_gain': 0.0021294722468218645}. Best is trial 10 with value: 0.4217687074829932.\n"
     ]
    },
    {
     "name": "stdout",
     "output_type": "stream",
     "text": [
      "Early stopping, best iteration is:\n",
      "[296]\ttraining's f1: 0.77266\tvalid_1's f1: 0.39726\n",
      "Training until validation scores don't improve for 100 rounds\n"
     ]
    },
    {
     "name": "stderr",
     "output_type": "stream",
     "text": [
      "[I 2024-10-04 10:32:48,401] Trial 45 finished with value: 0.38620689655172413 and parameters: {'learning_rate': 0.07545686000550351, 'num_leaves': 103, 'max_depth': 7, 'min_data_in_leaf': 34, 'feature_fraction': 0.6775127335102735, 'bagging_fraction': 0.9167036292325945, 'bagging_freq': 7, 'lambda_l1': 0.3179712559828731, 'lambda_l2': 5.064026054188837e-07, 'min_split_gain': 1.8876042234029378e-05}. Best is trial 10 with value: 0.4217687074829932.\n"
     ]
    },
    {
     "name": "stdout",
     "output_type": "stream",
     "text": [
      "Early stopping, best iteration is:\n",
      "[180]\ttraining's f1: 0.896836\tvalid_1's f1: 0.386207\n",
      "Training until validation scores don't improve for 100 rounds\n"
     ]
    },
    {
     "name": "stderr",
     "output_type": "stream",
     "text": [
      "[I 2024-10-04 10:32:53,066] Trial 46 finished with value: 0.373134328358209 and parameters: {'learning_rate': 0.02428205822947313, 'num_leaves': 77, 'max_depth': 5, 'min_data_in_leaf': 39, 'feature_fraction': 0.6234650586550413, 'bagging_fraction': 0.9982367492580732, 'bagging_freq': 6, 'lambda_l1': 0.0006771690438312261, 'lambda_l2': 3.138689530404784e-06, 'min_split_gain': 0.00020411108641598357}. Best is trial 10 with value: 0.4217687074829932.\n"
     ]
    },
    {
     "name": "stdout",
     "output_type": "stream",
     "text": [
      "Early stopping, best iteration is:\n",
      "[256]\ttraining's f1: 0.437736\tvalid_1's f1: 0.373134\n",
      "Training until validation scores don't improve for 100 rounds\n"
     ]
    },
    {
     "name": "stderr",
     "output_type": "stream",
     "text": [
      "[I 2024-10-04 10:32:59,294] Trial 47 finished with value: 0.38235294117647056 and parameters: {'learning_rate': 0.01422211709928439, 'num_leaves': 87, 'max_depth': 10, 'min_data_in_leaf': 52, 'feature_fraction': 0.6600548242791465, 'bagging_fraction': 0.8056419519694852, 'bagging_freq': 5, 'lambda_l1': 8.108514906028791e-07, 'lambda_l2': 4.0894790180616216e-05, 'min_split_gain': 0.07531430060486582}. Best is trial 10 with value: 0.4217687074829932.\n"
     ]
    },
    {
     "name": "stdout",
     "output_type": "stream",
     "text": [
      "Early stopping, best iteration is:\n",
      "[339]\ttraining's f1: 0.491921\tvalid_1's f1: 0.382353\n",
      "Training until validation scores don't improve for 100 rounds\n"
     ]
    },
    {
     "name": "stderr",
     "output_type": "stream",
     "text": [
      "[I 2024-10-04 10:33:02,339] Trial 48 finished with value: 0.373134328358209 and parameters: {'learning_rate': 0.03225948959281822, 'num_leaves': 142, 'max_depth': 9, 'min_data_in_leaf': 45, 'feature_fraction': 0.6909832973436353, 'bagging_fraction': 0.851041098550747, 'bagging_freq': 3, 'lambda_l1': 1.8477548949023875e-05, 'lambda_l2': 2.395748527830372, 'min_split_gain': 5.020084655873598e-07}. Best is trial 10 with value: 0.4217687074829932.\n"
     ]
    },
    {
     "name": "stdout",
     "output_type": "stream",
     "text": [
      "Early stopping, best iteration is:\n",
      "[131]\ttraining's f1: 0.453039\tvalid_1's f1: 0.373134\n",
      "Training until validation scores don't improve for 100 rounds\n"
     ]
    },
    {
     "name": "stderr",
     "output_type": "stream",
     "text": [
      "[I 2024-10-04 10:33:05,932] Trial 49 finished with value: 0.4172661870503597 and parameters: {'learning_rate': 0.04666738651359333, 'num_leaves': 55, 'max_depth': 14, 'min_data_in_leaf': 71, 'feature_fraction': 0.6072649987039159, 'bagging_fraction': 0.9505772106072876, 'bagging_freq': 7, 'lambda_l1': 0.004453575173579149, 'lambda_l2': 2.1332293295282686e-08, 'min_split_gain': 1.3897157862838483e-07}. Best is trial 10 with value: 0.4217687074829932.\n"
     ]
    },
    {
     "name": "stdout",
     "output_type": "stream",
     "text": [
      "Early stopping, best iteration is:\n",
      "[168]\ttraining's f1: 0.602007\tvalid_1's f1: 0.417266\n",
      "Training until validation scores don't improve for 100 rounds\n"
     ]
    },
    {
     "name": "stderr",
     "output_type": "stream",
     "text": [
      "[I 2024-10-04 10:33:08,744] Trial 50 finished with value: 0.3609022556390977 and parameters: {'learning_rate': 0.050295370698811015, 'num_leaves': 56, 'max_depth': 14, 'min_data_in_leaf': 77, 'feature_fraction': 0.6422997900908896, 'bagging_fraction': 0.9133412175948393, 'bagging_freq': 6, 'lambda_l1': 0.005867317081592774, 'lambda_l2': 7.975825566186694e-08, 'min_split_gain': 8.232054581608789e-08}. Best is trial 10 with value: 0.4217687074829932.\n"
     ]
    },
    {
     "name": "stdout",
     "output_type": "stream",
     "text": [
      "Early stopping, best iteration is:\n",
      "[105]\ttraining's f1: 0.429358\tvalid_1's f1: 0.360902\n",
      "Training until validation scores don't improve for 100 rounds\n"
     ]
    },
    {
     "name": "stderr",
     "output_type": "stream",
     "text": [
      "[I 2024-10-04 10:33:12,546] Trial 51 finished with value: 0.3918918918918919 and parameters: {'learning_rate': 0.07874560815687115, 'num_leaves': 65, 'max_depth': 13, 'min_data_in_leaf': 68, 'feature_fraction': 0.6131903035427528, 'bagging_fraction': 0.9589747002420619, 'bagging_freq': 7, 'lambda_l1': 0.00019760304940675934, 'lambda_l2': 2.0448304604079787e-08, 'min_split_gain': 2.3312907141210406e-08}. Best is trial 10 with value: 0.4217687074829932.\n"
     ]
    },
    {
     "name": "stdout",
     "output_type": "stream",
     "text": [
      "Early stopping, best iteration is:\n",
      "[183]\ttraining's f1: 0.807018\tvalid_1's f1: 0.391892\n",
      "Training until validation scores don't improve for 100 rounds\n"
     ]
    },
    {
     "name": "stderr",
     "output_type": "stream",
     "text": [
      "[I 2024-10-04 10:33:16,331] Trial 52 finished with value: 0.39416058394160586 and parameters: {'learning_rate': 0.04700391089141262, 'num_leaves': 40, 'max_depth': 11, 'min_data_in_leaf': 82, 'feature_fraction': 0.6117589670374174, 'bagging_fraction': 0.9403315546598103, 'bagging_freq': 7, 'lambda_l1': 0.005175618668477318, 'lambda_l2': 1.2199595989090689e-08, 'min_split_gain': 1.540917609037363e-07}. Best is trial 10 with value: 0.4217687074829932.\n"
     ]
    },
    {
     "name": "stdout",
     "output_type": "stream",
     "text": [
      "Early stopping, best iteration is:\n",
      "[168]\ttraining's f1: 0.532399\tvalid_1's f1: 0.394161\n",
      "Training until validation scores don't improve for 100 rounds\n"
     ]
    },
    {
     "name": "stderr",
     "output_type": "stream",
     "text": [
      "[I 2024-10-04 10:33:19,912] Trial 53 finished with value: 0.39436619718309857 and parameters: {'learning_rate': 0.07356109962599133, 'num_leaves': 128, 'max_depth': 8, 'min_data_in_leaf': 71, 'feature_fraction': 0.6300870716585832, 'bagging_fraction': 0.9841509091812638, 'bagging_freq': 7, 'lambda_l1': 0.0007889851406997588, 'lambda_l2': 2.761759025251316e-07, 'min_split_gain': 3.481933046543253e-06}. Best is trial 10 with value: 0.4217687074829932.\n"
     ]
    },
    {
     "name": "stdout",
     "output_type": "stream",
     "text": [
      "Early stopping, best iteration is:\n",
      "[154]\ttraining's f1: 0.649351\tvalid_1's f1: 0.394366\n",
      "Training until validation scores don't improve for 100 rounds\n"
     ]
    },
    {
     "name": "stderr",
     "output_type": "stream",
     "text": [
      "[I 2024-10-04 10:33:22,474] Trial 54 finished with value: 0.38571428571428573 and parameters: {'learning_rate': 0.09657097884915894, 'num_leaves': 76, 'max_depth': 14, 'min_data_in_leaf': 58, 'feature_fraction': 0.6661241634477236, 'bagging_fraction': 0.9633364047409807, 'bagging_freq': 6, 'lambda_l1': 3.3338502556266765e-06, 'lambda_l2': 7.694422088240074e-08, 'min_split_gain': 9.288923667690688e-06}. Best is trial 10 with value: 0.4217687074829932.\n"
     ]
    },
    {
     "name": "stdout",
     "output_type": "stream",
     "text": [
      "Early stopping, best iteration is:\n",
      "[68]\ttraining's f1: 0.612111\tvalid_1's f1: 0.385714\n",
      "Training until validation scores don't improve for 100 rounds\n"
     ]
    },
    {
     "name": "stderr",
     "output_type": "stream",
     "text": [
      "[I 2024-10-04 10:33:25,011] Trial 55 finished with value: 0.3384615384615385 and parameters: {'learning_rate': 0.02830607148145829, 'num_leaves': 71, 'max_depth': 5, 'min_data_in_leaf': 63, 'feature_fraction': 0.600492181795145, 'bagging_fraction': 0.9998358896126367, 'bagging_freq': 7, 'lambda_l1': 3.875632153630992e-05, 'lambda_l2': 9.751245077773226e-07, 'min_split_gain': 3.815538857095608e-08}. Best is trial 10 with value: 0.4217687074829932.\n"
     ]
    },
    {
     "name": "stdout",
     "output_type": "stream",
     "text": [
      "Early stopping, best iteration is:\n",
      "[100]\ttraining's f1: 0.34375\tvalid_1's f1: 0.338462\n",
      "Training until validation scores don't improve for 100 rounds\n"
     ]
    },
    {
     "name": "stderr",
     "output_type": "stream",
     "text": [
      "[I 2024-10-04 10:33:26,482] Trial 56 finished with value: 0.0 and parameters: {'learning_rate': 0.0004580298991347323, 'num_leaves': 49, 'max_depth': 3, 'min_data_in_leaf': 24, 'feature_fraction': 0.6523806723688431, 'bagging_fraction': 0.9738139946129234, 'bagging_freq': 6, 'lambda_l1': 0.05105871466721045, 'lambda_l2': 2.0894111330105125e-08, 'min_split_gain': 3.6301264725272767e-05}. Best is trial 10 with value: 0.4217687074829932.\n"
     ]
    },
    {
     "name": "stdout",
     "output_type": "stream",
     "text": [
      "Early stopping, best iteration is:\n",
      "[1]\ttraining's f1: 0\tvalid_1's f1: 0\n",
      "Training until validation scores don't improve for 100 rounds\n"
     ]
    },
    {
     "name": "stderr",
     "output_type": "stream",
     "text": [
      "[I 2024-10-04 10:33:29,735] Trial 57 finished with value: 0.38235294117647056 and parameters: {'learning_rate': 0.05675455773101879, 'num_leaves': 97, 'max_depth': 6, 'min_data_in_leaf': 92, 'feature_fraction': 0.6847538964380779, 'bagging_fraction': 0.9498451900279448, 'bagging_freq': 5, 'lambda_l1': 0.0151655584170916, 'lambda_l2': 7.7439317905823e-06, 'min_split_gain': 8.828810950582205e-07}. Best is trial 10 with value: 0.4217687074829932.\n"
     ]
    },
    {
     "name": "stdout",
     "output_type": "stream",
     "text": [
      "Early stopping, best iteration is:\n",
      "[152]\ttraining's f1: 0.481416\tvalid_1's f1: 0.382353\n",
      "Training until validation scores don't improve for 100 rounds\n"
     ]
    },
    {
     "name": "stderr",
     "output_type": "stream",
     "text": [
      "[I 2024-10-04 10:33:33,856] Trial 58 finished with value: 0.4 and parameters: {'learning_rate': 0.03724612575058507, 'num_leaves': 53, 'max_depth': 12, 'min_data_in_leaf': 20, 'feature_fraction': 0.7279759101093044, 'bagging_fraction': 0.9199386090543088, 'bagging_freq': 7, 'lambda_l1': 0.8503660430955651, 'lambda_l2': 4.44008066569899e-08, 'min_split_gain': 3.3788378195151214e-07}. Best is trial 10 with value: 0.4217687074829932.\n"
     ]
    },
    {
     "name": "stdout",
     "output_type": "stream",
     "text": [
      "Early stopping, best iteration is:\n",
      "[126]\ttraining's f1: 0.812227\tvalid_1's f1: 0.4\n",
      "Training until validation scores don't improve for 100 rounds\n"
     ]
    },
    {
     "name": "stderr",
     "output_type": "stream",
     "text": [
      "[I 2024-10-04 10:33:35,246] Trial 59 finished with value: 0.0 and parameters: {'learning_rate': 0.00010314898175579112, 'num_leaves': 28, 'max_depth': 4, 'min_data_in_leaf': 42, 'feature_fraction': 0.8388977190173668, 'bagging_fraction': 0.8878317625013424, 'bagging_freq': 6, 'lambda_l1': 0.0001458346546088496, 'lambda_l2': 1.5662160335663857e-05, 'min_split_gain': 1.4021258758404293e-07}. Best is trial 10 with value: 0.4217687074829932.\n"
     ]
    },
    {
     "name": "stdout",
     "output_type": "stream",
     "text": [
      "Early stopping, best iteration is:\n",
      "[1]\ttraining's f1: 0\tvalid_1's f1: 0\n",
      "Training until validation scores don't improve for 100 rounds\n"
     ]
    },
    {
     "name": "stderr",
     "output_type": "stream",
     "text": [
      "[I 2024-10-04 10:33:36,809] Trial 60 finished with value: 0.0 and parameters: {'learning_rate': 0.003436888071094072, 'num_leaves': 61, 'max_depth': 7, 'min_data_in_leaf': 23, 'feature_fraction': 0.7011167474927292, 'bagging_fraction': 0.7736292314610163, 'bagging_freq': 4, 'lambda_l1': 0.1807580148803405, 'lambda_l2': 1.0069026043570692e-08, 'min_split_gain': 1.7644170866797637e-08}. Best is trial 10 with value: 0.4217687074829932.\n"
     ]
    },
    {
     "name": "stdout",
     "output_type": "stream",
     "text": [
      "Early stopping, best iteration is:\n",
      "[1]\ttraining's f1: 0\tvalid_1's f1: 0\n",
      "Training until validation scores don't improve for 100 rounds\n"
     ]
    },
    {
     "name": "stderr",
     "output_type": "stream",
     "text": [
      "[I 2024-10-04 10:33:40,366] Trial 61 finished with value: 0.4057971014492754 and parameters: {'learning_rate': 0.040083056862803584, 'num_leaves': 53, 'max_depth': 12, 'min_data_in_leaf': 28, 'feature_fraction': 0.7370386944845257, 'bagging_fraction': 0.9265943896437507, 'bagging_freq': 7, 'lambda_l1': 0.7804378113050233, 'lambda_l2': 5.9131105800970765e-08, 'min_split_gain': 6.41753393600387e-08}. Best is trial 10 with value: 0.4217687074829932.\n"
     ]
    },
    {
     "name": "stdout",
     "output_type": "stream",
     "text": [
      "Early stopping, best iteration is:\n",
      "[127]\ttraining's f1: 0.71938\tvalid_1's f1: 0.405797\n",
      "Training until validation scores don't improve for 100 rounds\n"
     ]
    },
    {
     "name": "stderr",
     "output_type": "stream",
     "text": [
      "[I 2024-10-04 10:33:44,286] Trial 62 finished with value: 0.3851851851851852 and parameters: {'learning_rate': 0.018143327059919587, 'num_leaves': 66, 'max_depth': 15, 'min_data_in_leaf': 28, 'feature_fraction': 0.75506405441719, 'bagging_fraction': 0.9329204698553086, 'bagging_freq': 7, 'lambda_l1': 1.9450913214147452, 'lambda_l2': 2.0019999392619004e-07, 'min_split_gain': 5.101375051065701e-08}. Best is trial 10 with value: 0.4217687074829932.\n"
     ]
    },
    {
     "name": "stdout",
     "output_type": "stream",
     "text": [
      "Early stopping, best iteration is:\n",
      "[169]\ttraining's f1: 0.456722\tvalid_1's f1: 0.385185\n",
      "Training until validation scores don't improve for 100 rounds\n"
     ]
    },
    {
     "name": "stderr",
     "output_type": "stream",
     "text": [
      "[I 2024-10-04 10:33:47,262] Trial 63 finished with value: 0.4057971014492754 and parameters: {'learning_rate': 0.043548708989666396, 'num_leaves': 43, 'max_depth': 14, 'min_data_in_leaf': 30, 'feature_fraction': 0.7114130317409432, 'bagging_fraction': 0.9824731647375992, 'bagging_freq': 7, 'lambda_l1': 0.6112169708913588, 'lambda_l2': 2.568970768958278e-06, 'min_split_gain': 1.0301105679928146e-07}. Best is trial 10 with value: 0.4217687074829932.\n"
     ]
    },
    {
     "name": "stdout",
     "output_type": "stream",
     "text": [
      "Early stopping, best iteration is:\n",
      "[106]\ttraining's f1: 0.700157\tvalid_1's f1: 0.405797\n",
      "Training until validation scores don't improve for 100 rounds\n"
     ]
    },
    {
     "name": "stderr",
     "output_type": "stream",
     "text": [
      "[I 2024-10-04 10:33:52,236] Trial 64 finished with value: 0.3851851851851852 and parameters: {'learning_rate': 0.026760811559375715, 'num_leaves': 42, 'max_depth': 14, 'min_data_in_leaf': 35, 'feature_fraction': 0.7088202314396564, 'bagging_fraction': 0.9655935753002081, 'bagging_freq': 7, 'lambda_l1': 4.9823518964601226, 'lambda_l2': 2.7839583400739075e-06, 'min_split_gain': 1.0806531916386433e-07}. Best is trial 10 with value: 0.4217687074829932.\n"
     ]
    },
    {
     "name": "stdout",
     "output_type": "stream",
     "text": [
      "Early stopping, best iteration is:\n",
      "[282]\ttraining's f1: 0.454545\tvalid_1's f1: 0.385185\n",
      "Training until validation scores don't improve for 100 rounds\n"
     ]
    },
    {
     "name": "stderr",
     "output_type": "stream",
     "text": [
      "[I 2024-10-04 10:33:58,385] Trial 65 finished with value: 0.40540540540540543 and parameters: {'learning_rate': 0.04483148497543566, 'num_leaves': 32, 'max_depth': 13, 'min_data_in_leaf': 31, 'feature_fraction': 0.6701646312509456, 'bagging_fraction': 0.9058554016067661, 'bagging_freq': 7, 'lambda_l1': 0.3934883169608168, 'lambda_l2': 8.714911292247184e-07, 'min_split_gain': 4.7003854863216824e-08}. Best is trial 10 with value: 0.4217687074829932.\n"
     ]
    },
    {
     "name": "stdout",
     "output_type": "stream",
     "text": [
      "Early stopping, best iteration is:\n",
      "[324]\ttraining's f1: 0.987147\tvalid_1's f1: 0.405405\n",
      "Training until validation scores don't improve for 100 rounds\n"
     ]
    },
    {
     "name": "stderr",
     "output_type": "stream",
     "text": [
      "[I 2024-10-04 10:34:03,605] Trial 66 finished with value: 0.38235294117647056 and parameters: {'learning_rate': 0.011157671134793695, 'num_leaves': 30, 'max_depth': 13, 'min_data_in_leaf': 26, 'feature_fraction': 0.7233614531540087, 'bagging_fraction': 0.8792268037509814, 'bagging_freq': 7, 'lambda_l1': 0.5398436198088051, 'lambda_l2': 3.623156317147058e-07, 'min_split_gain': 4.378632141977598e-08}. Best is trial 10 with value: 0.4217687074829932.\n"
     ]
    },
    {
     "name": "stdout",
     "output_type": "stream",
     "text": [
      "Early stopping, best iteration is:\n",
      "[256]\ttraining's f1: 0.514286\tvalid_1's f1: 0.382353\n",
      "Training until validation scores don't improve for 100 rounds\n"
     ]
    },
    {
     "name": "stderr",
     "output_type": "stream",
     "text": [
      "[I 2024-10-04 10:34:07,663] Trial 67 finished with value: 0.4166666666666667 and parameters: {'learning_rate': 0.04128023193406282, 'num_leaves': 21, 'max_depth': 13, 'min_data_in_leaf': 31, 'feature_fraction': 0.7950690828823297, 'bagging_fraction': 0.9004064256506746, 'bagging_freq': 7, 'lambda_l1': 0.11631796661260212, 'lambda_l2': 6.864547533679091e-07, 'min_split_gain': 2.558449199783049e-07}. Best is trial 10 with value: 0.4217687074829932.\n"
     ]
    },
    {
     "name": "stdout",
     "output_type": "stream",
     "text": [
      "Early stopping, best iteration is:\n",
      "[197]\ttraining's f1: 0.79646\tvalid_1's f1: 0.416667\n",
      "Training until validation scores don't improve for 100 rounds\n"
     ]
    },
    {
     "name": "stderr",
     "output_type": "stream",
     "text": [
      "[I 2024-10-04 10:34:11,486] Trial 68 finished with value: 0.391304347826087 and parameters: {'learning_rate': 0.040456657177051505, 'num_leaves': 20, 'max_depth': 13, 'min_data_in_leaf': 31, 'feature_fraction': 0.8101434528558069, 'bagging_fraction': 0.8582615363927554, 'bagging_freq': 7, 'lambda_l1': 0.09129721281746138, 'lambda_l2': 7.228563584111102e-07, 'min_split_gain': 2.8001762591486515e-07}. Best is trial 10 with value: 0.4217687074829932.\n"
     ]
    },
    {
     "name": "stdout",
     "output_type": "stream",
     "text": [
      "Early stopping, best iteration is:\n",
      "[181]\ttraining's f1: 0.752688\tvalid_1's f1: 0.391304\n",
      "Training until validation scores don't improve for 100 rounds\n"
     ]
    },
    {
     "name": "stderr",
     "output_type": "stream",
     "text": [
      "[I 2024-10-04 10:34:14,284] Trial 69 finished with value: 0.4057971014492754 and parameters: {'learning_rate': 0.05430245709275952, 'num_leaves': 24, 'max_depth': 14, 'min_data_in_leaf': 33, 'feature_fraction': 0.7687629070087878, 'bagging_fraction': 0.9011278999251848, 'bagging_freq': 7, 'lambda_l1': 0.39843867951718986, 'lambda_l2': 6.818609551651022e-08, 'min_split_gain': 1.6402828784455833e-06}. Best is trial 10 with value: 0.4217687074829932.\n"
     ]
    },
    {
     "name": "stdout",
     "output_type": "stream",
     "text": [
      "Early stopping, best iteration is:\n",
      "[103]\ttraining's f1: 0.684628\tvalid_1's f1: 0.405797\n",
      "Training until validation scores don't improve for 100 rounds\n"
     ]
    },
    {
     "name": "stderr",
     "output_type": "stream",
     "text": [
      "[I 2024-10-04 10:34:16,947] Trial 70 finished with value: 0.39416058394160586 and parameters: {'learning_rate': 0.05775033726870817, 'num_leaves': 27, 'max_depth': 14, 'min_data_in_leaf': 38, 'feature_fraction': 0.7784246156340328, 'bagging_fraction': 0.9228775369528013, 'bagging_freq': 7, 'lambda_l1': 1.3262190253370783, 'lambda_l2': 6.463823832946697e-08, 'min_split_gain': 2.0128516486677938e-06}. Best is trial 10 with value: 0.4217687074829932.\n"
     ]
    },
    {
     "name": "stdout",
     "output_type": "stream",
     "text": [
      "Early stopping, best iteration is:\n",
      "[84]\ttraining's f1: 0.579216\tvalid_1's f1: 0.394161\n",
      "Training until validation scores don't improve for 100 rounds\n"
     ]
    },
    {
     "name": "stderr",
     "output_type": "stream",
     "text": [
      "[I 2024-10-04 10:34:20,822] Trial 71 finished with value: 0.4057971014492754 and parameters: {'learning_rate': 0.03239273858707625, 'num_leaves': 25, 'max_depth': 12, 'min_data_in_leaf': 29, 'feature_fraction': 0.7390585055877761, 'bagging_fraction': 0.900274572979814, 'bagging_freq': 7, 'lambda_l1': 0.4732479486761561, 'lambda_l2': 1.2306004191063158e-07, 'min_split_gain': 8.35381571824693e-07}. Best is trial 10 with value: 0.4217687074829932.\n"
     ]
    },
    {
     "name": "stdout",
     "output_type": "stream",
     "text": [
      "Early stopping, best iteration is:\n",
      "[185]\ttraining's f1: 0.705148\tvalid_1's f1: 0.405797\n",
      "Training until validation scores don't improve for 100 rounds\n"
     ]
    },
    {
     "name": "stderr",
     "output_type": "stream",
     "text": [
      "[I 2024-10-04 10:34:24,426] Trial 72 finished with value: 0.39705882352941174 and parameters: {'learning_rate': 0.032071386484023155, 'num_leaves': 25, 'max_depth': 12, 'min_data_in_leaf': 29, 'feature_fraction': 0.7475106974185249, 'bagging_fraction': 0.8983862693345633, 'bagging_freq': 7, 'lambda_l1': 0.13603177619619067, 'lambda_l2': 1.5669045261195789e-07, 'min_split_gain': 7.922618993011306e-07}. Best is trial 10 with value: 0.4217687074829932.\n"
     ]
    },
    {
     "name": "stdout",
     "output_type": "stream",
     "text": [
      "Early stopping, best iteration is:\n",
      "[149]\ttraining's f1: 0.654723\tvalid_1's f1: 0.397059\n",
      "Training until validation scores don't improve for 100 rounds\n"
     ]
    },
    {
     "name": "stderr",
     "output_type": "stream",
     "text": [
      "[I 2024-10-04 10:34:28,699] Trial 73 finished with value: 0.4195804195804196 and parameters: {'learning_rate': 0.0496191623894029, 'num_leaves': 22, 'max_depth': 15, 'min_data_in_leaf': 33, 'feature_fraction': 0.7899421886261618, 'bagging_fraction': 0.8828830447611585, 'bagging_freq': 7, 'lambda_l1': 0.2436761401627199, 'lambda_l2': 2.361028605454037e-08, 'min_split_gain': 3.984878767634122e-07}. Best is trial 10 with value: 0.4217687074829932.\n"
     ]
    },
    {
     "name": "stdout",
     "output_type": "stream",
     "text": [
      "Early stopping, best iteration is:\n",
      "[207]\ttraining's f1: 0.885201\tvalid_1's f1: 0.41958\n",
      "Training until validation scores don't improve for 100 rounds\n"
     ]
    },
    {
     "name": "stderr",
     "output_type": "stream",
     "text": [
      "[I 2024-10-04 10:34:32,835] Trial 74 finished with value: 0.39436619718309857 and parameters: {'learning_rate': 0.04952322037045615, 'num_leaves': 42, 'max_depth': 15, 'min_data_in_leaf': 33, 'feature_fraction': 0.8036751936268721, 'bagging_fraction': 0.9522300490080117, 'bagging_freq': 7, 'lambda_l1': 0.07122029891019173, 'lambda_l2': 2.8589383683494792e-08, 'min_split_gain': 1.6150376746373877e-06}. Best is trial 10 with value: 0.4217687074829932.\n"
     ]
    },
    {
     "name": "stdout",
     "output_type": "stream",
     "text": [
      "Early stopping, best iteration is:\n",
      "[162]\ttraining's f1: 0.932271\tvalid_1's f1: 0.394366\n",
      "Training until validation scores don't improve for 100 rounds\n"
     ]
    },
    {
     "name": "stderr",
     "output_type": "stream",
     "text": [
      "[I 2024-10-04 10:34:35,479] Trial 75 finished with value: 0.373134328358209 and parameters: {'learning_rate': 0.06336393055295084, 'num_leaves': 37, 'max_depth': 14, 'min_data_in_leaf': 36, 'feature_fraction': 0.7905443332188556, 'bagging_fraction': 0.7064973744554516, 'bagging_freq': 7, 'lambda_l1': 3.4983279933383833, 'lambda_l2': 1.9762274317197596e-08, 'min_split_gain': 2.1362009913969478e-07}. Best is trial 10 with value: 0.4217687074829932.\n"
     ]
    },
    {
     "name": "stdout",
     "output_type": "stream",
     "text": [
      "Early stopping, best iteration is:\n",
      "[96]\ttraining's f1: 0.434137\tvalid_1's f1: 0.373134\n",
      "Training until validation scores don't improve for 100 rounds\n"
     ]
    },
    {
     "name": "stderr",
     "output_type": "stream",
     "text": [
      "[I 2024-10-04 10:34:37,946] Trial 76 finished with value: 0.4117647058823529 and parameters: {'learning_rate': 0.08134108956428665, 'num_leaves': 23, 'max_depth': 15, 'min_data_in_leaf': 37, 'feature_fraction': 0.7665387025155994, 'bagging_fraction': 0.8788224300352625, 'bagging_freq': 7, 'lambda_l1': 0.22641992563397312, 'lambda_l2': 5.3047966795542776e-08, 'min_split_gain': 4.0983020348616923e-07}. Best is trial 10 with value: 0.4217687074829932.\n"
     ]
    },
    {
     "name": "stdout",
     "output_type": "stream",
     "text": [
      "Early stopping, best iteration is:\n",
      "[70]\ttraining's f1: 0.670947\tvalid_1's f1: 0.411765\n",
      "Training until validation scores don't improve for 100 rounds\n"
     ]
    },
    {
     "name": "stderr",
     "output_type": "stream",
     "text": [
      "[I 2024-10-04 10:34:40,906] Trial 77 finished with value: 0.4027777777777778 and parameters: {'learning_rate': 0.08226204980399258, 'num_leaves': 21, 'max_depth': 15, 'min_data_in_leaf': 37, 'feature_fraction': 0.8199410436435907, 'bagging_fraction': 0.8774353633914159, 'bagging_freq': 6, 'lambda_l1': 0.022440918542630365, 'lambda_l2': 4.3967344716401226e-08, 'min_split_gain': 4.720391777499545e-07}. Best is trial 10 with value: 0.4217687074829932.\n"
     ]
    },
    {
     "name": "stdout",
     "output_type": "stream",
     "text": [
      "Early stopping, best iteration is:\n",
      "[124]\ttraining's f1: 0.853901\tvalid_1's f1: 0.402778\n",
      "Training until validation scores don't improve for 100 rounds\n"
     ]
    },
    {
     "name": "stderr",
     "output_type": "stream",
     "text": [
      "[I 2024-10-04 10:34:43,781] Trial 78 finished with value: 0.37037037037037035 and parameters: {'learning_rate': 0.03935518337378887, 'num_leaves': 35, 'max_depth': 15, 'min_data_in_leaf': 42, 'feature_fraction': 0.8415987438797117, 'bagging_fraction': 0.8242741853146734, 'bagging_freq': 2, 'lambda_l1': 0.26373647073260315, 'lambda_l2': 1.8641981507420854e-08, 'min_split_gain': 1.106150295982172e-07}. Best is trial 10 with value: 0.4217687074829932.\n"
     ]
    },
    {
     "name": "stdout",
     "output_type": "stream",
     "text": [
      "Early stopping, best iteration is:\n",
      "[98]\ttraining's f1: 0.506284\tvalid_1's f1: 0.37037\n",
      "Training until validation scores don't improve for 100 rounds\n"
     ]
    },
    {
     "name": "stderr",
     "output_type": "stream",
     "text": [
      "[I 2024-10-04 10:34:47,647] Trial 79 finished with value: 0.3972602739726027 and parameters: {'learning_rate': 0.06867120848803364, 'num_leaves': 45, 'max_depth': 15, 'min_data_in_leaf': 47, 'feature_fraction': 0.7834304050312336, 'bagging_fraction': 0.9391369111036398, 'bagging_freq': 6, 'lambda_l1': 1.4376579733630939, 'lambda_l2': 2.8300218973186064e-07, 'min_split_gain': 3.4424247966279927e-07}. Best is trial 10 with value: 0.4217687074829932.\n"
     ]
    },
    {
     "name": "stdout",
     "output_type": "stream",
     "text": [
      "Early stopping, best iteration is:\n",
      "[200]\ttraining's f1: 0.849858\tvalid_1's f1: 0.39726\n",
      "Training until validation scores don't improve for 100 rounds\n"
     ]
    },
    {
     "name": "stderr",
     "output_type": "stream",
     "text": [
      "[I 2024-10-04 10:34:51,680] Trial 80 finished with value: 0.4057971014492754 and parameters: {'learning_rate': 0.024958336164186645, 'num_leaves': 50, 'max_depth': 14, 'min_data_in_leaf': 22, 'feature_fraction': 0.76344948806702, 'bagging_fraction': 0.8589631202915087, 'bagging_freq': 3, 'lambda_l1': 0.1864672888244509, 'lambda_l2': 2.4160646258521824e-06, 'min_split_gain': 3.162185079905835e-06}. Best is trial 10 with value: 0.4217687074829932.\n"
     ]
    },
    {
     "name": "stdout",
     "output_type": "stream",
     "text": [
      "Early stopping, best iteration is:\n",
      "[150]\ttraining's f1: 0.740854\tvalid_1's f1: 0.405797\n",
      "Training until validation scores don't improve for 100 rounds\n"
     ]
    },
    {
     "name": "stderr",
     "output_type": "stream",
     "text": [
      "[I 2024-10-04 10:34:56,818] Trial 81 finished with value: 0.4 and parameters: {'learning_rate': 0.05289189430974416, 'num_leaves': 23, 'max_depth': 14, 'min_data_in_leaf': 27, 'feature_fraction': 0.7708350928160936, 'bagging_fraction': 0.8862489969912065, 'bagging_freq': 7, 'lambda_l1': 0.48724294524215683, 'lambda_l2': 6.256118307313608e-08, 'min_split_gain': 2.1351431013312746e-07}. Best is trial 10 with value: 0.4217687074829932.\n"
     ]
    },
    {
     "name": "stdout",
     "output_type": "stream",
     "text": [
      "Early stopping, best iteration is:\n",
      "[207]\ttraining's f1: 0.903401\tvalid_1's f1: 0.4\n",
      "Training until validation scores don't improve for 100 rounds\n"
     ]
    },
    {
     "name": "stderr",
     "output_type": "stream",
     "text": [
      "[I 2024-10-04 10:35:00,163] Trial 82 finished with value: 0.410958904109589 and parameters: {'learning_rate': 0.09987390815547531, 'num_leaves': 31, 'max_depth': 13, 'min_data_in_leaf': 40, 'feature_fraction': 0.7492340208038369, 'bagging_fraction': 0.9288735178277561, 'bagging_freq': 7, 'lambda_l1': 0.8214640596171596, 'lambda_l2': 1.0037679434566744e-07, 'min_split_gain': 5.508004563799962e-07}. Best is trial 10 with value: 0.4217687074829932.\n"
     ]
    },
    {
     "name": "stdout",
     "output_type": "stream",
     "text": [
      "Early stopping, best iteration is:\n",
      "[125]\ttraining's f1: 0.915436\tvalid_1's f1: 0.410959\n",
      "Training until validation scores don't improve for 100 rounds\n"
     ]
    },
    {
     "name": "stderr",
     "output_type": "stream",
     "text": [
      "[I 2024-10-04 10:35:04,896] Trial 83 finished with value: 0.40540540540540543 and parameters: {'learning_rate': 0.07902803678085565, 'num_leaves': 32, 'max_depth': 13, 'min_data_in_leaf': 40, 'feature_fraction': 0.7514695966763916, 'bagging_fraction': 0.9696097091111946, 'bagging_freq': 7, 'lambda_l1': 0.7845582725283604, 'lambda_l2': 1.0380632078277088e-07, 'min_split_gain': 9.388377414567747e-08}. Best is trial 10 with value: 0.4217687074829932.\n"
     ]
    },
    {
     "name": "stdout",
     "output_type": "stream",
     "text": [
      "Early stopping, best iteration is:\n",
      "[215]\ttraining's f1: 0.978008\tvalid_1's f1: 0.405405\n",
      "Training until validation scores don't improve for 100 rounds\n"
     ]
    },
    {
     "name": "stderr",
     "output_type": "stream",
     "text": [
      "[I 2024-10-04 10:35:07,609] Trial 84 finished with value: 0.4027777777777778 and parameters: {'learning_rate': 0.09801098147280361, 'num_leaves': 29, 'max_depth': 15, 'min_data_in_leaf': 35, 'feature_fraction': 0.7334191898182714, 'bagging_fraction': 0.9824429834893765, 'bagging_freq': 7, 'lambda_l1': 0.1154128714588945, 'lambda_l2': 3.38079755383156e-08, 'min_split_gain': 1.8148274533342212e-08}. Best is trial 10 with value: 0.4217687074829932.\n"
     ]
    },
    {
     "name": "stdout",
     "output_type": "stream",
     "text": [
      "Early stopping, best iteration is:\n",
      "[77]\ttraining's f1: 0.869326\tvalid_1's f1: 0.402778\n",
      "Training until validation scores don't improve for 100 rounds\n"
     ]
    },
    {
     "name": "stderr",
     "output_type": "stream",
     "text": [
      "[I 2024-10-04 10:35:08,890] Trial 85 finished with value: 0.0 and parameters: {'learning_rate': 0.0009980421803647533, 'num_leaves': 38, 'max_depth': 13, 'min_data_in_leaf': 41, 'feature_fraction': 0.8007699234470229, 'bagging_fraction': 0.9274990317178238, 'bagging_freq': 7, 'lambda_l1': 7.031733626205755, 'lambda_l2': 4.489935626735999e-07, 'min_split_gain': 6.250025886515235e-07}. Best is trial 10 with value: 0.4217687074829932.\n"
     ]
    },
    {
     "name": "stdout",
     "output_type": "stream",
     "text": [
      "Early stopping, best iteration is:\n",
      "[1]\ttraining's f1: 0\tvalid_1's f1: 0\n",
      "Training until validation scores don't improve for 100 rounds\n"
     ]
    },
    {
     "name": "stderr",
     "output_type": "stream",
     "text": [
      "[I 2024-10-04 10:35:12,534] Trial 86 finished with value: 0.40816326530612246 and parameters: {'learning_rate': 0.06759166392640913, 'num_leaves': 20, 'max_depth': 14, 'min_data_in_leaf': 44, 'feature_fraction': 0.7874301522825676, 'bagging_fraction': 0.9565410395854563, 'bagging_freq': 7, 'lambda_l1': 0.03527830151556193, 'lambda_l2': 1.6044830494432406e-08, 'min_split_gain': 3.951962389141217e-07}. Best is trial 10 with value: 0.4217687074829932.\n"
     ]
    },
    {
     "name": "stdout",
     "output_type": "stream",
     "text": [
      "Early stopping, best iteration is:\n",
      "[156]\ttraining's f1: 0.835479\tvalid_1's f1: 0.408163\n",
      "Training until validation scores don't improve for 100 rounds\n"
     ]
    },
    {
     "name": "stderr",
     "output_type": "stream",
     "text": [
      "[I 2024-10-04 10:35:13,906] Trial 87 finished with value: 0.0 and parameters: {'learning_rate': 0.00019066557447835716, 'num_leaves': 20, 'max_depth': 15, 'min_data_in_leaf': 47, 'feature_fraction': 0.8203630991504929, 'bagging_fraction': 0.8418278386760345, 'bagging_freq': 7, 'lambda_l1': 0.03857641273702231, 'lambda_l2': 1.930752650258026e-08, 'min_split_gain': 3.824245637173494e-07}. Best is trial 10 with value: 0.4217687074829932.\n"
     ]
    },
    {
     "name": "stdout",
     "output_type": "stream",
     "text": [
      "Early stopping, best iteration is:\n",
      "[1]\ttraining's f1: 0\tvalid_1's f1: 0\n",
      "Training until validation scores don't improve for 100 rounds\n"
     ]
    },
    {
     "name": "stderr",
     "output_type": "stream",
     "text": [
      "[I 2024-10-04 10:35:18,011] Trial 88 finished with value: 0.40268456375838924 and parameters: {'learning_rate': 0.06807616579803476, 'num_leaves': 32, 'max_depth': 13, 'min_data_in_leaf': 44, 'feature_fraction': 0.8603717775931771, 'bagging_fraction': 0.9094193852785745, 'bagging_freq': 6, 'lambda_l1': 0.01748754146945758, 'lambda_l2': 1.043580833757282e-08, 'min_split_gain': 2.0119680991033327e-07}. Best is trial 10 with value: 0.4217687074829932.\n"
     ]
    },
    {
     "name": "stdout",
     "output_type": "stream",
     "text": [
      "Early stopping, best iteration is:\n",
      "[183]\ttraining's f1: 0.943046\tvalid_1's f1: 0.402685\n",
      "Training until validation scores don't improve for 100 rounds\n"
     ]
    },
    {
     "name": "stderr",
     "output_type": "stream",
     "text": [
      "[I 2024-10-04 10:35:22,281] Trial 89 finished with value: 0.40268456375838924 and parameters: {'learning_rate': 0.077727327397944, 'num_leaves': 28, 'max_depth': 13, 'min_data_in_leaf': 56, 'feature_fraction': 0.7831231563924915, 'bagging_fraction': 0.9520843097209983, 'bagging_freq': 7, 'lambda_l1': 0.22155973015239794, 'lambda_l2': 0.003597914085021421, 'min_split_gain': 7.873944752689635e-06}. Best is trial 10 with value: 0.4217687074829932.\n"
     ]
    },
    {
     "name": "stdout",
     "output_type": "stream",
     "text": [
      "Early stopping, best iteration is:\n",
      "[214]\ttraining's f1: 0.937748\tvalid_1's f1: 0.402685\n",
      "Training until validation scores don't improve for 100 rounds\n"
     ]
    },
    {
     "name": "stderr",
     "output_type": "stream",
     "text": [
      "[I 2024-10-04 10:35:25,538] Trial 90 finished with value: 0.40816326530612246 and parameters: {'learning_rate': 0.08628481227363356, 'num_leaves': 24, 'max_depth': 12, 'min_data_in_leaf': 49, 'feature_fraction': 0.7917793081108413, 'bagging_fraction': 0.9371180822824833, 'bagging_freq': 1, 'lambda_l1': 0.08161627531875575, 'lambda_l2': 3.2337876528138153e-08, 'min_split_gain': 1.231061211834133e-06}. Best is trial 10 with value: 0.4217687074829932.\n"
     ]
    },
    {
     "name": "stdout",
     "output_type": "stream",
     "text": [
      "Early stopping, best iteration is:\n",
      "[125]\ttraining's f1: 0.873435\tvalid_1's f1: 0.408163\n",
      "Training until validation scores don't improve for 100 rounds\n"
     ]
    },
    {
     "name": "stderr",
     "output_type": "stream",
     "text": [
      "[I 2024-10-04 10:35:28,791] Trial 91 finished with value: 0.40540540540540543 and parameters: {'learning_rate': 0.08811293184652179, 'num_leaves': 23, 'max_depth': 12, 'min_data_in_leaf': 45, 'feature_fraction': 0.8089352417577389, 'bagging_fraction': 0.9381523412711246, 'bagging_freq': 1, 'lambda_l1': 0.08239846753889651, 'lambda_l2': 2.754171954728824e-08, 'min_split_gain': 9.558678247509726e-07}. Best is trial 10 with value: 0.4217687074829932.\n"
     ]
    },
    {
     "name": "stdout",
     "output_type": "stream",
     "text": [
      "Early stopping, best iteration is:\n",
      "[108]\ttraining's f1: 0.854701\tvalid_1's f1: 0.405405\n",
      "Training until validation scores don't improve for 100 rounds\n"
     ]
    },
    {
     "name": "stderr",
     "output_type": "stream",
     "text": [
      "[I 2024-10-04 10:35:32,461] Trial 92 finished with value: 0.40816326530612246 and parameters: {'learning_rate': 0.0657876280839313, 'num_leaves': 25, 'max_depth': 11, 'min_data_in_leaf': 50, 'feature_fraction': 0.7972007543650936, 'bagging_fraction': 0.9218278410311207, 'bagging_freq': 1, 'lambda_l1': 0.00810434089332236, 'lambda_l2': 4.3810530405637405e-08, 'min_split_gain': 5.998963870120927e-07}. Best is trial 10 with value: 0.4217687074829932.\n"
     ]
    },
    {
     "name": "stdout",
     "output_type": "stream",
     "text": [
      "Early stopping, best iteration is:\n",
      "[162]\ttraining's f1: 0.867133\tvalid_1's f1: 0.408163\n",
      "Training until validation scores don't improve for 100 rounds\n"
     ]
    },
    {
     "name": "stderr",
     "output_type": "stream",
     "text": [
      "[I 2024-10-04 10:35:38,027] Trial 93 finished with value: 0.3973509933774834 and parameters: {'learning_rate': 0.06430350546800709, 'num_leaves': 26, 'max_depth': 11, 'min_data_in_leaf': 53, 'feature_fraction': 0.7962770765021531, 'bagging_fraction': 0.9570831982547986, 'bagging_freq': 1, 'lambda_l1': 0.009471840929573086, 'lambda_l2': 1.5151731178244537e-08, 'min_split_gain': 6.202464720793764e-07}. Best is trial 10 with value: 0.4217687074829932.\n"
     ]
    },
    {
     "name": "stdout",
     "output_type": "stream",
     "text": [
      "Early stopping, best iteration is:\n",
      "[236]\ttraining's f1: 0.94723\tvalid_1's f1: 0.397351\n",
      "Training until validation scores don't improve for 100 rounds\n"
     ]
    },
    {
     "name": "stderr",
     "output_type": "stream",
     "text": [
      "[I 2024-10-04 10:35:40,334] Trial 94 finished with value: 0.39436619718309857 and parameters: {'learning_rate': 0.09947856248789815, 'num_leaves': 35, 'max_depth': 11, 'min_data_in_leaf': 48, 'feature_fraction': 0.8308029340100335, 'bagging_fraction': 0.9444850393078218, 'bagging_freq': 1, 'lambda_l1': 0.003545020845006139, 'lambda_l2': 1.070031839630175e-07, 'min_split_gain': 2.378647907933806e-06}. Best is trial 10 with value: 0.4217687074829932.\n"
     ]
    },
    {
     "name": "stdout",
     "output_type": "stream",
     "text": [
      "Early stopping, best iteration is:\n",
      "[58]\ttraining's f1: 0.648208\tvalid_1's f1: 0.394366\n",
      "Training until validation scores don't improve for 100 rounds\n"
     ]
    },
    {
     "name": "stderr",
     "output_type": "stream",
     "text": [
      "[I 2024-10-04 10:35:43,730] Trial 95 finished with value: 0.3776223776223776 and parameters: {'learning_rate': 0.08309512734207194, 'num_leaves': 20, 'max_depth': 14, 'min_data_in_leaf': 51, 'feature_fraction': 0.9449750178912011, 'bagging_fraction': 0.6660516842909449, 'bagging_freq': 1, 'lambda_l1': 0.00042732905360082365, 'lambda_l2': 2.190316798054723e-07, 'min_split_gain': 3.3024152674098724e-06}. Best is trial 10 with value: 0.4217687074829932.\n"
     ]
    },
    {
     "name": "stdout",
     "output_type": "stream",
     "text": [
      "Early stopping, best iteration is:\n",
      "[157]\ttraining's f1: 0.788148\tvalid_1's f1: 0.377622\n",
      "Training until validation scores don't improve for 100 rounds\n"
     ]
    },
    {
     "name": "stderr",
     "output_type": "stream",
     "text": [
      "[I 2024-10-04 10:35:46,521] Trial 96 finished with value: 0.4195804195804196 and parameters: {'learning_rate': 0.061553349625764565, 'num_leaves': 30, 'max_depth': 15, 'min_data_in_leaf': 49, 'feature_fraction': 0.7934298463645924, 'bagging_fraction': 0.7452174785135742, 'bagging_freq': 2, 'lambda_l1': 0.031861771673585795, 'lambda_l2': 3.2861348944109895e-08, 'min_split_gain': 1.4410262267460737e-06}. Best is trial 10 with value: 0.4217687074829932.\n"
     ]
    },
    {
     "name": "stdout",
     "output_type": "stream",
     "text": [
      "Early stopping, best iteration is:\n",
      "[109]\ttraining's f1: 0.606557\tvalid_1's f1: 0.41958\n",
      "Training until validation scores don't improve for 100 rounds\n"
     ]
    },
    {
     "name": "stderr",
     "output_type": "stream",
     "text": [
      "[I 2024-10-04 10:35:50,151] Trial 97 finished with value: 0.4084507042253521 and parameters: {'learning_rate': 0.0570090402847491, 'num_leaves': 30, 'max_depth': 15, 'min_data_in_leaf': 54, 'feature_fraction': 0.7872100676225714, 'bagging_fraction': 0.7422524504210312, 'bagging_freq': 4, 'lambda_l1': 0.03356417057106071, 'lambda_l2': 3.1820571231712424e-08, 'min_split_gain': 1.1821427156306155e-06}. Best is trial 10 with value: 0.4217687074829932.\n"
     ]
    },
    {
     "name": "stdout",
     "output_type": "stream",
     "text": [
      "Early stopping, best iteration is:\n",
      "[174]\ttraining's f1: 0.693038\tvalid_1's f1: 0.408451\n",
      "Training until validation scores don't improve for 100 rounds\n"
     ]
    },
    {
     "name": "stderr",
     "output_type": "stream",
     "text": [
      "[I 2024-10-04 10:35:54,106] Trial 98 finished with value: 0.41379310344827586 and parameters: {'learning_rate': 0.04848678094474816, 'num_leaves': 27, 'max_depth': 15, 'min_data_in_leaf': 54, 'feature_fraction': 0.7747801633469296, 'bagging_fraction': 0.7604637698715924, 'bagging_freq': 2, 'lambda_l1': 0.05292565002498213, 'lambda_l2': 0.13336165158736024, 'min_split_gain': 4.9989371596093355e-06}. Best is trial 10 with value: 0.4217687074829932.\n"
     ]
    },
    {
     "name": "stdout",
     "output_type": "stream",
     "text": [
      "Early stopping, best iteration is:\n",
      "[193]\ttraining's f1: 0.659164\tvalid_1's f1: 0.413793\n",
      "Training until validation scores don't improve for 100 rounds\n"
     ]
    },
    {
     "name": "stderr",
     "output_type": "stream",
     "text": [
      "[I 2024-10-04 10:35:57,720] Trial 99 finished with value: 0.4027777777777778 and parameters: {'learning_rate': 0.053185781532168824, 'num_leaves': 31, 'max_depth': 15, 'min_data_in_leaf': 56, 'feature_fraction': 0.7733177837753652, 'bagging_fraction': 0.7396525534121889, 'bagging_freq': 2, 'lambda_l1': 0.0018959472894188058, 'lambda_l2': 0.013050440145094796, 'min_split_gain': 5.436684347777717e-05}. Best is trial 10 with value: 0.4217687074829932.\n"
     ]
    },
    {
     "name": "stdout",
     "output_type": "stream",
     "text": [
      "Early stopping, best iteration is:\n",
      "[162]\ttraining's f1: 0.627451\tvalid_1's f1: 0.402778\n",
      "Best trial:\n",
      "  Value: 0.4217687074829932\n",
      "  Params: \n",
      "    learning_rate: 0.08802390337913117\n",
      "    num_leaves: 113\n",
      "    max_depth: 7\n",
      "    min_data_in_leaf: 51\n",
      "    feature_fraction: 0.6074542072141946\n",
      "    bagging_fraction: 0.9874380669465758\n",
      "    bagging_freq: 7\n",
      "    lambda_l1: 6.356237241662919e-05\n",
      "    lambda_l2: 1.240882993069688e-08\n",
      "    min_split_gain: 5.099304213657169e-06\n"
     ]
    }
   ],
   "source": [
    "import lightgbm as lgb\n",
    "from sklearn.metrics import f1_score\n",
    "import optuna\n",
    "from sklearn.model_selection import train_test_split\n",
    "\n",
    "# 데이터 분할 예시 (이미 X_train, X_test, y_train, y_test로 분할된 경우 생략)\n",
    "# X_train, X_test, y_train, y_test = train_test_split(X, y, test_size=0.2, random_state=42, stratify=y)\n",
    "\n",
    "def f1_metric(y_pred, data):\n",
    "    \"\"\"\n",
    "    LightGBM의 커스텀 평가 함수는 (y_pred, data) 시그니처를 가져야 합니다.\n",
    "    y_pred는 예측 확률이며, data는 Dataset 객체입니다.\n",
    "    \"\"\"\n",
    "    y_true = data.get_label()\n",
    "    y_pred_binary = [1 if pred >= 0.5 else 0 for pred in y_pred]\n",
    "    return 'f1', f1_score(y_true, y_pred_binary), True\n",
    "\n",
    "def objective(trial):\n",
    "    # 하이퍼파라미터 공간 정의 (Optuna v3.0.0 이상)\n",
    "    param = {\n",
    "        'objective': 'binary',\n",
    "        'metric': 'None',  # 사용자 정의 평가 함수 사용\n",
    "        'boosting_type': 'gbdt',\n",
    "        'verbosity': -1,\n",
    "        'seed': 42,\n",
    "        'learning_rate': trial.suggest_float('learning_rate', 1e-4, 1e-1, log=True),\n",
    "        'num_leaves': trial.suggest_int('num_leaves', 20, 150),\n",
    "        'max_depth': trial.suggest_int('max_depth', 3, 15),\n",
    "        'min_data_in_leaf': trial.suggest_int('min_data_in_leaf', 20, 100),\n",
    "        'feature_fraction': trial.suggest_float('feature_fraction', 0.6, 1.0),\n",
    "        'bagging_fraction': trial.suggest_float('bagging_fraction', 0.6, 1.0),\n",
    "        'bagging_freq': trial.suggest_int('bagging_freq', 1, 7),\n",
    "        'lambda_l1': trial.suggest_float('lambda_l1', 1e-8, 10.0, log=True),\n",
    "        'lambda_l2': trial.suggest_float('lambda_l2', 1e-8, 10.0, log=True),\n",
    "        'min_split_gain': trial.suggest_float('min_split_gain', 1e-8, 1.0, log=True),\n",
    "    }\n",
    "\n",
    "    # LightGBM 데이터셋 생성\n",
    "    lgb_train = lgb.Dataset(X_train, y_train)\n",
    "    lgb_valid = lgb.Dataset(X_test, y_test, reference=lgb_train)\n",
    "\n",
    "    # LightGBM 모델 학습\n",
    "    gbm = lgb.train(\n",
    "        param,\n",
    "        lgb_train,\n",
    "        valid_sets=[lgb_train, lgb_valid],\n",
    "        num_boost_round=1000,\n",
    "        callbacks=[lgb.early_stopping(stopping_rounds=100)],\n",
    "        feval=f1_metric,  # 사용자 정의 F1 평가 함수 사용\n",
    "    )\n",
    "\n",
    "    # 예측 확률\n",
    "    preds = gbm.predict(X_test, num_iteration=gbm.best_iteration)\n",
    "    \n",
    "    # 임계값을 0.5로 설정하여 이진 예측값으로 변환\n",
    "    y_pred_binary = [1 if pred >= 0.5 else 0 for pred in preds]\n",
    "    \n",
    "    # F1-Score 계산\n",
    "    f1 = f1_score(y_test, y_pred_binary)\n",
    "\n",
    "    return f1  # Optuna는 이 값을 최대화하도록 설정\n",
    "\n",
    "# Optuna 스터디 생성 및 최적화 실행\n",
    "study = optuna.create_study(direction='maximize')\n",
    "study.optimize(objective, n_trials=100, timeout=600)\n",
    "\n",
    "print('Best trial:')\n",
    "trial = study.best_trial\n",
    "print(f'  Value: {trial.value}')\n",
    "print('  Params: ')\n",
    "for key, value in trial.params.items():\n",
    "    print(f'    {key}: {value}')\n"
   ]
  },
  {
   "cell_type": "code",
   "execution_count": 190,
   "metadata": {},
   "outputs": [
    {
     "name": "stdout",
     "output_type": "stream",
     "text": [
      "Training until validation scores don't improve for 100 rounds\n",
      "Early stopping, best iteration is:\n",
      "[172]\ttraining's f1: 0.802343\tvalid_1's f1: 0.421769\n",
      "F1 Score: 0.4217687074829932\n"
     ]
    }
   ],
   "source": [
    "best_params = study.best_params\n",
    "best_params['objective'] = 'binary'\n",
    "best_params['metric'] = 'None'  # 사용자 정의 f1 평가 함수 사용\n",
    "best_params['boosting_type'] = 'gbdt'\n",
    "best_params['verbosity'] = -1\n",
    "best_params['seed'] = 42\n",
    "\n",
    "lgb_train = lgb.Dataset(X_train, y_train)\n",
    "lgb_valid = lgb.Dataset(X_test, y_test, reference=lgb_train)\n",
    "\n",
    "gbm = lgb.train(\n",
    "    best_params,\n",
    "    lgb_train,\n",
    "    valid_sets=[lgb_train, lgb_valid],\n",
    "    num_boost_round=1000,\n",
    "    callbacks=[lgb.early_stopping(stopping_rounds=100)],\n",
    "    feval=f1_metric,  # 사용자 정의 f1 평가 함수\n",
    ")\n",
    "\n",
    "# 예측 및 평가\n",
    "y_pred = gbm.predict(X_test, num_iteration=gbm.best_iteration)\n",
    "f1 = f1_score(y_test, (y_pred >= 0.5).astype(int))\n",
    "print(f'F1 Score: {f1}')"
   ]
  },
  {
   "cell_type": "code",
   "execution_count": 191,
   "metadata": {},
   "outputs": [
    {
     "data": {
      "text/plain": [
       "<lightgbm.basic.Booster at 0x110296a32d0>"
      ]
     },
     "execution_count": 191,
     "metadata": {},
     "output_type": "execute_result"
    }
   ],
   "source": [
    "gbm.save_model('lightgbm_model2.txt')"
   ]
  },
  {
   "cell_type": "code",
   "execution_count": 69,
   "metadata": {},
   "outputs": [],
   "source": [
    "model = lgb.Booster(model_file='lightgbm_model.txt')\n"
   ]
  },
  {
   "cell_type": "code",
   "execution_count": 67,
   "metadata": {},
   "outputs": [
    {
     "name": "stdout",
     "output_type": "stream",
     "text": [
      "best_params가 best_params.json 파일로 저장되었습니다.\n"
     ]
    }
   ],
   "source": [
    "import json\n",
    "\n",
    "# best_params를 JSON 파일로 저장\n",
    "best_params = study.best_params\n",
    "best_params['objective'] = 'binary'\n",
    "best_params['metric'] = 'auc'\n",
    "best_params['boosting_type'] = 'gbdt'\n",
    "best_params['verbosity'] = -1\n",
    "best_params['seed'] = 42\n",
    "\n",
    "# 파일로 저장\n",
    "with open('best_params.json', 'w') as f:\n",
    "    json.dump(best_params, f)\n",
    "\n",
    "print(\"best_params가 best_params.json 파일로 저장되었습니다.\")\n"
   ]
  },
  {
   "cell_type": "code",
   "execution_count": 202,
   "metadata": {},
   "outputs": [
    {
     "name": "stdout",
     "output_type": "stream",
     "text": [
      "Confusion Matrix:\n",
      "[[290  12]\n",
      " [ 71  27]]\n",
      "Classification Report:\n",
      "              precision    recall  f1-score   support\n",
      "\n",
      "           0       0.80      0.96      0.87       302\n",
      "           1       0.69      0.28      0.39        98\n",
      "\n",
      "    accuracy                           0.79       400\n",
      "   macro avg       0.75      0.62      0.63       400\n",
      "weighted avg       0.78      0.79      0.76       400\n",
      "\n"
     ]
    },
    {
     "data": {
      "image/png": "[encoded data removed]",
      "text/plain": [
       "<Figure size 1200x800 with 1 Axes>"
      ]
     },
     "metadata": {},
     "output_type": "display_data"
    }
   ],
   "source": [
    "from sklearn.metrics import confusion_matrix, classification_report\n",
    "\n",
    "# 혼동 행렬\n",
    "conf_matrix = confusion_matrix(y_test, y_pred_binary)\n",
    "print('Confusion Matrix:')\n",
    "print(conf_matrix)\n",
    "\n",
    "# 분류 보고서\n",
    "class_report = classification_report(y_test, y_pred_binary)\n",
    "print('Classification Report:')\n",
    "print(class_report)\n",
    "\n",
    "# 중요 변수 시각화\n",
    "import matplotlib.pyplot as plt\n",
    "import seaborn as sns\n",
    "\n",
    "feature_importance = pd.DataFrame({\n",
    "    'feature': gbm.feature_name(),\n",
    "    'importance': gbm.feature_importance()\n",
    "}).sort_values(by='importance', ascending=False)\n",
    "\n",
    "plt.figure(figsize=(12, 8))\n",
    "sns.barplot(x='importance', y='feature', data=feature_importance.head(20))\n",
    "plt.title('Top 20 Feature Importances')\n",
    "plt.show()\n"
   ]
  },
  {
   "cell_type": "code",
   "execution_count": 25,
   "metadata": {},
   "outputs": [
    {
     "name": "stdout",
     "output_type": "stream",
     "text": [
      "Training until validation scores don't improve for 100 rounds\n",
      "Early stopping, best iteration is:\n",
      "[63]\ttraining's auc: 0.954625\ttraining's f1: 0.409006\tvalid_1's auc: 0.612893\tvalid_1's f1: 0.176\n"
     ]
    },
    {
     "ename": "ValueError",
     "evalue": "all the input array dimensions except for the concatenation axis must match exactly, but along dimension 1, the array at index 0 has size 400 and the array at index 1 has size 0",
     "output_type": "error",
     "traceback": [
      "\u001b[1;31m---------------------------------------------------------------------------\u001b[0m",
      "\u001b[1;31mValueError\u001b[0m                                Traceback (most recent call last)",
      "Cell \u001b[1;32mIn[25], line 30\u001b[0m\n\u001b[0;32m     27\u001b[0m fraud_scores \u001b[38;5;241m=\u001b[39m LGBM_data\u001b[38;5;241m.\u001b[39mloc[claims_df[\u001b[38;5;124m'\u001b[39m\u001b[38;5;124mclaim_id\u001b[39m\u001b[38;5;124m'\u001b[39m]\u001b[38;5;241m.\u001b[39misin(X_test\u001b[38;5;241m.\u001b[39mindex), \u001b[38;5;124m'\u001b[39m\u001b[38;5;124mfraud_score\u001b[39m\u001b[38;5;124m'\u001b[39m]\n\u001b[0;32m     29\u001b[0m \u001b[38;5;66;03m# 예측 확률과 fraud_score의 상관관계 계산\u001b[39;00m\n\u001b[1;32m---> 30\u001b[0m correlation \u001b[38;5;241m=\u001b[39m \u001b[43mnp\u001b[49m\u001b[38;5;241;43m.\u001b[39;49m\u001b[43mcorrcoef\u001b[49m\u001b[43m(\u001b[49m\u001b[43mpreds\u001b[49m\u001b[43m,\u001b[49m\u001b[43m \u001b[49m\u001b[43mfraud_scores\u001b[49m\u001b[43m)\u001b[49m[\u001b[38;5;241m0\u001b[39m, \u001b[38;5;241m1\u001b[39m]\n\u001b[0;32m     31\u001b[0m \u001b[38;5;28mprint\u001b[39m(\u001b[38;5;124mf\u001b[39m\u001b[38;5;124m'\u001b[39m\u001b[38;5;124mCorrelation between predicted probabilities and fraud_score: \u001b[39m\u001b[38;5;132;01m{\u001b[39;00mcorrelation\u001b[38;5;132;01m:\u001b[39;00m\u001b[38;5;124m.4f\u001b[39m\u001b[38;5;132;01m}\u001b[39;00m\u001b[38;5;124m'\u001b[39m)\n\u001b[0;32m     33\u001b[0m \u001b[38;5;66;03m# 시각화: 예측 확률 vs fraud_score\u001b[39;00m\n",
      "File \u001b[1;32m<__array_function__ internals>:200\u001b[0m, in \u001b[0;36mcorrcoef\u001b[1;34m(*args, **kwargs)\u001b[0m\n",
      "File \u001b[1;32mc:\\Users\\최준혁\\KOPOFinalProject\\FastAPI\\.venv\\Lib\\site-packages\\numpy\\lib\\function_base.py:2846\u001b[0m, in \u001b[0;36mcorrcoef\u001b[1;34m(x, y, rowvar, bias, ddof, dtype)\u001b[0m\n\u001b[0;32m   2842\u001b[0m \u001b[38;5;28;01mif\u001b[39;00m bias \u001b[38;5;129;01mis\u001b[39;00m \u001b[38;5;129;01mnot\u001b[39;00m np\u001b[38;5;241m.\u001b[39m_NoValue \u001b[38;5;129;01mor\u001b[39;00m ddof \u001b[38;5;129;01mis\u001b[39;00m \u001b[38;5;129;01mnot\u001b[39;00m np\u001b[38;5;241m.\u001b[39m_NoValue:\n\u001b[0;32m   2843\u001b[0m     \u001b[38;5;66;03m# 2015-03-15, 1.10\u001b[39;00m\n\u001b[0;32m   2844\u001b[0m     warnings\u001b[38;5;241m.\u001b[39mwarn(\u001b[38;5;124m'\u001b[39m\u001b[38;5;124mbias and ddof have no effect and are deprecated\u001b[39m\u001b[38;5;124m'\u001b[39m,\n\u001b[0;32m   2845\u001b[0m                   \u001b[38;5;167;01mDeprecationWarning\u001b[39;00m, stacklevel\u001b[38;5;241m=\u001b[39m\u001b[38;5;241m3\u001b[39m)\n\u001b[1;32m-> 2846\u001b[0m c \u001b[38;5;241m=\u001b[39m \u001b[43mcov\u001b[49m\u001b[43m(\u001b[49m\u001b[43mx\u001b[49m\u001b[43m,\u001b[49m\u001b[43m \u001b[49m\u001b[43my\u001b[49m\u001b[43m,\u001b[49m\u001b[43m \u001b[49m\u001b[43mrowvar\u001b[49m\u001b[43m,\u001b[49m\u001b[43m \u001b[49m\u001b[43mdtype\u001b[49m\u001b[38;5;241;43m=\u001b[39;49m\u001b[43mdtype\u001b[49m\u001b[43m)\u001b[49m\n\u001b[0;32m   2847\u001b[0m \u001b[38;5;28;01mtry\u001b[39;00m:\n\u001b[0;32m   2848\u001b[0m     d \u001b[38;5;241m=\u001b[39m diag(c)\n",
      "File \u001b[1;32m<__array_function__ internals>:200\u001b[0m, in \u001b[0;36mcov\u001b[1;34m(*args, **kwargs)\u001b[0m\n",
      "File \u001b[1;32mc:\\Users\\최준혁\\KOPOFinalProject\\FastAPI\\.venv\\Lib\\site-packages\\numpy\\lib\\function_base.py:2640\u001b[0m, in \u001b[0;36mcov\u001b[1;34m(m, y, rowvar, bias, ddof, fweights, aweights, dtype)\u001b[0m\n\u001b[0;32m   2638\u001b[0m     \u001b[38;5;28;01mif\u001b[39;00m \u001b[38;5;129;01mnot\u001b[39;00m rowvar \u001b[38;5;129;01mand\u001b[39;00m y\u001b[38;5;241m.\u001b[39mshape[\u001b[38;5;241m0\u001b[39m] \u001b[38;5;241m!=\u001b[39m \u001b[38;5;241m1\u001b[39m:\n\u001b[0;32m   2639\u001b[0m         y \u001b[38;5;241m=\u001b[39m y\u001b[38;5;241m.\u001b[39mT\n\u001b[1;32m-> 2640\u001b[0m     X \u001b[38;5;241m=\u001b[39m \u001b[43mnp\u001b[49m\u001b[38;5;241;43m.\u001b[39;49m\u001b[43mconcatenate\u001b[49m\u001b[43m(\u001b[49m\u001b[43m(\u001b[49m\u001b[43mX\u001b[49m\u001b[43m,\u001b[49m\u001b[43m \u001b[49m\u001b[43my\u001b[49m\u001b[43m)\u001b[49m\u001b[43m,\u001b[49m\u001b[43m \u001b[49m\u001b[43maxis\u001b[49m\u001b[38;5;241;43m=\u001b[39;49m\u001b[38;5;241;43m0\u001b[39;49m\u001b[43m)\u001b[49m\n\u001b[0;32m   2642\u001b[0m \u001b[38;5;28;01mif\u001b[39;00m ddof \u001b[38;5;129;01mis\u001b[39;00m \u001b[38;5;28;01mNone\u001b[39;00m:\n\u001b[0;32m   2643\u001b[0m     \u001b[38;5;28;01mif\u001b[39;00m bias \u001b[38;5;241m==\u001b[39m \u001b[38;5;241m0\u001b[39m:\n",
      "File \u001b[1;32m<__array_function__ internals>:200\u001b[0m, in \u001b[0;36mconcatenate\u001b[1;34m(*args, **kwargs)\u001b[0m\n",
      "\u001b[1;31mValueError\u001b[0m: all the input array dimensions except for the concatenation axis must match exactly, but along dimension 1, the array at index 0 has size 400 and the array at index 1 has size 0"
     ]
    }
   ],
   "source": [
    "import matplotlib.pyplot as plt\n",
    "import seaborn as sns\n",
    "\n",
    "# LightGBM 최적의 하이퍼파라미터로 다시 모델 학습 (Optional)\n",
    "best_params = study.best_params\n",
    "best_params['objective'] = 'binary'\n",
    "best_params['metric'] = 'auc'\n",
    "best_params['boosting_type'] = 'gbdt'\n",
    "best_params['verbosity'] = -1\n",
    "best_params['seed'] = 42\n",
    "\n",
    "\n",
    "gbm = lgb.train(\n",
    "    best_params,\n",
    "    lgb_train,\n",
    "    valid_sets=[lgb_train, lgb_valid],\n",
    "    num_boost_round=1000,\n",
    "    callbacks=[lgb.early_stopping(stopping_rounds=100)],\n",
    "    feval=f1_metric,\n",
    ")\n",
    "\n",
    "# 예측 확률\n",
    "preds = gbm.predict(X_test, num_iteration=gbm.best_iteration)\n",
    "\n",
    "# 기존 CSV의 fraud_score 불러오기\n",
    "# (claims_df는 이미 병합된 데이터프레임이라고 가정)\n",
    "fraud_scores = LGBM_data.loc[claims_df['claim_id'].isin(X_test.index), 'fraud_score']\n",
    "\n",
    "# 예측 확률과 fraud_score의 상관관계 계산\n",
    "correlation = np.corrcoef(preds, fraud_scores)[0, 1]\n",
    "print(f'Correlation between predicted probabilities and fraud_score: {correlation:.4f}')\n",
    "\n",
    "# 시각화: 예측 확률 vs fraud_score\n",
    "plt.figure(figsize=(10, 6))\n",
    "sns.scatterplot(x=preds, y=fraud_scores, alpha=0.5)\n",
    "plt.title('Predicted Probabilities vs Fraud Score')\n",
    "plt.xlabel('Predicted Probability')\n",
    "plt.ylabel('Fraud Score')\n",
    "plt.show()\n",
    "\n",
    "# 상관계수 히트맵\n",
    "corr_matrix = pd.DataFrame({'predicted_prob': preds, 'fraud_score': fraud_scores}).corr()\n",
    "plt.figure(figsize=(6, 4))\n",
    "sns.heatmap(corr_matrix, annot=True, cmap='coolwarm')\n",
    "plt.title('Correlation Matrix')\n",
    "plt.show()\n"
   ]
  }
 ],
 "metadata": {
  "kernelspec": {
   "display_name": ".venv",
   "language": "python",
   "name": "python3"
  },
  "language_info": {
   "codemirror_mode": {
    "name": "ipython",
    "version": 3
   },
   "file_extension": ".py",
   "mimetype": "text/x-python",
   "name": "python",
   "nbconvert_exporter": "python",
   "pygments_lexer": "ipython3",
   "version": "3.11.9"
  }
 },
 "nbformat": 4,
 "nbformat_minor": 2
}
